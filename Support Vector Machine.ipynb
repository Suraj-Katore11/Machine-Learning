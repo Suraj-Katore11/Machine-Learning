{
 "cells": [
  {
   "cell_type": "code",
   "execution_count": 12,
   "id": "3be25c22-85c0-4f1d-bdb5-56037edb606e",
   "metadata": {},
   "outputs": [],
   "source": [
    "from sklearn.metrics import accuracy_score, classification_report, confusion_matrix\n",
    "from sklearn.datasets import make_blobs, make_circles\n",
    "from sklearn.model_selection import train_test_split\n",
    "import matplotlib.pyplot as plt\n",
    "import plotly.express as px\n",
    "from sklearn.svm import SVC\n",
    "import pandas as pd\n",
    "import numpy as np\n",
    "import warnings\n",
    "warnings.filterwarnings(\"ignore\")"
   ]
  },
  {
   "cell_type": "code",
   "execution_count": 13,
   "id": "d2e506a2-9f6b-4a88-9a42-223396149a53",
   "metadata": {},
   "outputs": [],
   "source": [
    "data_1 = make_blobs(n_samples=200, n_features=2, centers=[[2,3], [4,7]])"
   ]
  },
  {
   "cell_type": "code",
   "execution_count": 14,
   "id": "598f869d-4eca-49ec-83ff-33136b5c83d5",
   "metadata": {},
   "outputs": [],
   "source": [
    "X = data_1[0]\n",
    "y = data_1[1]"
   ]
  },
  {
   "cell_type": "code",
   "execution_count": 15,
   "id": "21bff6f3-0cad-4079-871d-54e75052ae55",
   "metadata": {},
   "outputs": [
    {
     "data": {
      "image/png": "[encoded data removed]",
      "text/plain": [
       "<Figure size 500x400 with 1 Axes>"
      ]
     },
     "metadata": {},
     "output_type": "display_data"
    }
   ],
   "source": [
    "%matplotlib inline \n",
    "plt.figure(figsize=(5,4))\n",
    "plt.scatter(X[y==0, 0], X[y==0, 1], color = \"red\")\n",
    "plt.scatter(X[y==1, 0], X[y==1, 1], color = \"green\")\n",
    "plt.show()"
   ]
  },
  {
   "cell_type": "code",
   "execution_count": 16,
   "id": "b7faa864-cfa8-40a7-a76d-cece4d979604",
   "metadata": {},
   "outputs": [],
   "source": [
    "svm1 = SVC(kernel=\"linear\")"
   ]
  },
  {
   "cell_type": "code",
   "execution_count": 17,
   "id": "11086267-9481-4c0d-a086-d508101d5019",
   "metadata": {},
   "outputs": [],
   "source": [
    "X_tr1, X_te1, y_tr1, y_te1 = train_test_split(X, y, train_size=0.75, random_state=43)"
   ]
  },
  {
   "cell_type": "code",
   "execution_count": 18,
   "id": "4cffac8b-ab49-4ffc-b70a-ea4e9ca28394",
   "metadata": {},
   "outputs": [
    {
     "data": {
      "text/html": [
       "<style>#sk-container-id-2 {color: black;}#sk-container-id-2 pre{padding: 0;}#sk-container-id-2 div.sk-toggleable {background-color: white;}#sk-container-id-2 label.sk-toggleable__label {cursor: pointer;display: block;width: 100%;margin-bottom: 0;padding: 0.3em;box-sizing: border-box;text-align: center;}#sk-container-id-2 label.sk-toggleable__label-arrow:before {content: \"▸\";float: left;margin-right: 0.25em;color: #696969;}#sk-container-id-2 label.sk-toggleable__label-arrow:hover:before {color: black;}#sk-container-id-2 div.sk-estimator:hover label.sk-toggleable__label-arrow:before {color: black;}#sk-container-id-2 div.sk-toggleable__content {max-height: 0;max-width: 0;overflow: hidden;text-align: left;background-color: #f0f8ff;}#sk-container-id-2 div.sk-toggleable__content pre {margin: 0.2em;color: black;border-radius: 0.25em;background-color: #f0f8ff;}#sk-container-id-2 input.sk-toggleable__control:checked~div.sk-toggleable__content {max-height: 200px;max-width: 100%;overflow: auto;}#sk-container-id-2 input.sk-toggleable__control:checked~label.sk-toggleable__label-arrow:before {content: \"▾\";}#sk-container-id-2 div.sk-estimator input.sk-toggleable__control:checked~label.sk-toggleable__label {background-color: #d4ebff;}#sk-container-id-2 div.sk-label input.sk-toggleable__control:checked~label.sk-toggleable__label {background-color: #d4ebff;}#sk-container-id-2 input.sk-hidden--visually {border: 0;clip: rect(1px 1px 1px 1px);clip: rect(1px, 1px, 1px, 1px);height: 1px;margin: -1px;overflow: hidden;padding: 0;position: absolute;width: 1px;}#sk-container-id-2 div.sk-estimator {font-family: monospace;background-color: #f0f8ff;border: 1px dotted black;border-radius: 0.25em;box-sizing: border-box;margin-bottom: 0.5em;}#sk-container-id-2 div.sk-estimator:hover {background-color: #d4ebff;}#sk-container-id-2 div.sk-parallel-item::after {content: \"\";width: 100%;border-bottom: 1px solid gray;flex-grow: 1;}#sk-container-id-2 div.sk-label:hover label.sk-toggleable__label {background-color: #d4ebff;}#sk-container-id-2 div.sk-serial::before {content: \"\";position: absolute;border-left: 1px solid gray;box-sizing: border-box;top: 0;bottom: 0;left: 50%;z-index: 0;}#sk-container-id-2 div.sk-serial {display: flex;flex-direction: column;align-items: center;background-color: white;padding-right: 0.2em;padding-left: 0.2em;position: relative;}#sk-container-id-2 div.sk-item {position: relative;z-index: 1;}#sk-container-id-2 div.sk-parallel {display: flex;align-items: stretch;justify-content: center;background-color: white;position: relative;}#sk-container-id-2 div.sk-item::before, #sk-container-id-2 div.sk-parallel-item::before {content: \"\";position: absolute;border-left: 1px solid gray;box-sizing: border-box;top: 0;bottom: 0;left: 50%;z-index: -1;}#sk-container-id-2 div.sk-parallel-item {display: flex;flex-direction: column;z-index: 1;position: relative;background-color: white;}#sk-container-id-2 div.sk-parallel-item:first-child::after {align-self: flex-end;width: 50%;}#sk-container-id-2 div.sk-parallel-item:last-child::after {align-self: flex-start;width: 50%;}#sk-container-id-2 div.sk-parallel-item:only-child::after {width: 0;}#sk-container-id-2 div.sk-dashed-wrapped {border: 1px dashed gray;margin: 0 0.4em 0.5em 0.4em;box-sizing: border-box;padding-bottom: 0.4em;background-color: white;}#sk-container-id-2 div.sk-label label {font-family: monospace;font-weight: bold;display: inline-block;line-height: 1.2em;}#sk-container-id-2 div.sk-label-container {text-align: center;}#sk-container-id-2 div.sk-container {/* jupyter's `normalize.less` sets `[hidden] { display: none; }` but bootstrap.min.css set `[hidden] { display: none !important; }` so we also need the `!important` here to be able to override the default hidden behavior on the sphinx rendered scikit-learn.org. See: https://github.com/scikit-learn/scikit-learn/issues/21755 */display: inline-block !important;position: relative;}#sk-container-id-2 div.sk-text-repr-fallback {display: none;}</style><div id=\"sk-container-id-2\" class=\"sk-top-container\"><div class=\"sk-text-repr-fallback\"><pre>SVC(kernel=&#x27;linear&#x27;)</pre><b>In a Jupyter environment, please rerun this cell to show the HTML representation or trust the notebook. <br />On GitHub, the HTML representation is unable to render, please try loading this page with nbviewer.org.</b></div><div class=\"sk-container\" hidden><div class=\"sk-item\"><div class=\"sk-estimator sk-toggleable\"><input class=\"sk-toggleable__control sk-hidden--visually\" id=\"sk-estimator-id-2\" type=\"checkbox\" checked><label for=\"sk-estimator-id-2\" class=\"sk-toggleable__label sk-toggleable__label-arrow\">SVC</label><div class=\"sk-toggleable__content\"><pre>SVC(kernel=&#x27;linear&#x27;)</pre></div></div></div></div></div>"
      ],
      "text/plain": [
       "SVC(kernel='linear')"
      ]
     },
     "execution_count": 18,
     "metadata": {},
     "output_type": "execute_result"
    }
   ],
   "source": [
    "svm1.fit(X_tr1, y_tr1)"
   ]
  },
  {
   "cell_type": "code",
   "execution_count": 19,
   "id": "ca96de48-e7cb-45bb-ad0c-3b5dd590b655",
   "metadata": {},
   "outputs": [
    {
     "data": {
      "text/plain": [
       "array([0, 1, 1, 1, 1, 1, 1, 0, 1, 1, 1, 0, 0, 1, 0, 0, 1, 1, 0, 1, 1, 1,\n",
       "       1, 0, 0, 0, 1, 0, 1, 1, 1, 0, 0, 0, 1, 0, 0, 1, 0, 1, 0, 0, 0, 1,\n",
       "       1, 0, 0, 0, 0, 0])"
      ]
     },
     "execution_count": 19,
     "metadata": {},
     "output_type": "execute_result"
    }
   ],
   "source": [
    "y_pred1 = svm1.predict(X_te1)\n",
    "y_pred1"
   ]
  },
  {
   "cell_type": "code",
   "execution_count": 20,
   "id": "07d7626b-ac9a-40fe-a661-c787615bbd43",
   "metadata": {},
   "outputs": [
    {
     "name": "stdout",
     "output_type": "stream",
     "text": [
      "Testing Accuracy = 0.98\n"
     ]
    }
   ],
   "source": [
    "print(\"Testing Accuracy = {}\".format(accuracy_score(y_te1, y_pred1)))"
   ]
  },
  {
   "cell_type": "code",
   "execution_count": 21,
   "id": "aaa22ea0-1582-4c55-8f57-4d3620175b99",
   "metadata": {},
   "outputs": [
    {
     "name": "stdout",
     "output_type": "stream",
     "text": [
      "Training Accuracy = 0.9933333333333333\n"
     ]
    }
   ],
   "source": [
    "print(\"Training Accuracy = {}\".format(svm1.score(X_tr1, y_tr1)))"
   ]
  },
  {
   "cell_type": "code",
   "execution_count": 22,
   "id": "1730ace5-3e7c-4f43-aafa-9a90113f24eb",
   "metadata": {},
   "outputs": [],
   "source": [
    "data_2 = make_circles(n_samples=200, noise=0.05, factor=0.4)"
   ]
  },
  {
   "cell_type": "code",
   "execution_count": 23,
   "id": "51907ffe-4a3e-443a-b54c-97844ed6898d",
   "metadata": {},
   "outputs": [],
   "source": [
    "X = data_2[0]\n",
    "y = data_2[1]"
   ]
  },
  {
   "cell_type": "code",
   "execution_count": 24,
   "id": "1b133e9f-0377-471b-9732-5c6fcafcafcc",
   "metadata": {},
   "outputs": [
    {
     "data": {
      "image/png": "[encoded data removed]",
      "text/plain": [
       "<Figure size 500x400 with 1 Axes>"
      ]
     },
     "metadata": {},
     "output_type": "display_data"
    }
   ],
   "source": [
    "%matplotlib inline \n",
    "plt.figure(figsize=(5,4))\n",
    "plt.axhline(y=0, color=\"blue\", linestyle=\"--\")\n",
    "plt.scatter(X[y==0, 0], X[y==0, 1], color = \"red\")\n",
    "plt.scatter(X[y==1, 0], X[y==1, 1], color = \"green\")\n",
    "plt.show()"
   ]
  },
  {
   "cell_type": "code",
   "execution_count": 25,
   "id": "ae2c9032-d144-49ba-8070-54deca18c77e",
   "metadata": {},
   "outputs": [],
   "source": [
    "X_tr2, X_te2, y_tr2, y_te2 = train_test_split(X, y, train_size=0.75, random_state=43)"
   ]
  },
  {
   "cell_type": "code",
   "execution_count": 26,
   "id": "6726a92f-67a3-4570-8a22-853153bb0c17",
   "metadata": {},
   "outputs": [],
   "source": [
    "svm2 = SVC(kernel=\"linear\")"
   ]
  },
  {
   "cell_type": "code",
   "execution_count": 27,
   "id": "bc3d761b-8170-4077-b1b3-3e81a7673bd4",
   "metadata": {},
   "outputs": [
    {
     "data": {
      "text/html": [
       "<style>#sk-container-id-3 {color: black;}#sk-container-id-3 pre{padding: 0;}#sk-container-id-3 div.sk-toggleable {background-color: white;}#sk-container-id-3 label.sk-toggleable__label {cursor: pointer;display: block;width: 100%;margin-bottom: 0;padding: 0.3em;box-sizing: border-box;text-align: center;}#sk-container-id-3 label.sk-toggleable__label-arrow:before {content: \"▸\";float: left;margin-right: 0.25em;color: #696969;}#sk-container-id-3 label.sk-toggleable__label-arrow:hover:before {color: black;}#sk-container-id-3 div.sk-estimator:hover label.sk-toggleable__label-arrow:before {color: black;}#sk-container-id-3 div.sk-toggleable__content {max-height: 0;max-width: 0;overflow: hidden;text-align: left;background-color: #f0f8ff;}#sk-container-id-3 div.sk-toggleable__content pre {margin: 0.2em;color: black;border-radius: 0.25em;background-color: #f0f8ff;}#sk-container-id-3 input.sk-toggleable__control:checked~div.sk-toggleable__content {max-height: 200px;max-width: 100%;overflow: auto;}#sk-container-id-3 input.sk-toggleable__control:checked~label.sk-toggleable__label-arrow:before {content: \"▾\";}#sk-container-id-3 div.sk-estimator input.sk-toggleable__control:checked~label.sk-toggleable__label {background-color: #d4ebff;}#sk-container-id-3 div.sk-label input.sk-toggleable__control:checked~label.sk-toggleable__label {background-color: #d4ebff;}#sk-container-id-3 input.sk-hidden--visually {border: 0;clip: rect(1px 1px 1px 1px);clip: rect(1px, 1px, 1px, 1px);height: 1px;margin: -1px;overflow: hidden;padding: 0;position: absolute;width: 1px;}#sk-container-id-3 div.sk-estimator {font-family: monospace;background-color: #f0f8ff;border: 1px dotted black;border-radius: 0.25em;box-sizing: border-box;margin-bottom: 0.5em;}#sk-container-id-3 div.sk-estimator:hover {background-color: #d4ebff;}#sk-container-id-3 div.sk-parallel-item::after {content: \"\";width: 100%;border-bottom: 1px solid gray;flex-grow: 1;}#sk-container-id-3 div.sk-label:hover label.sk-toggleable__label {background-color: #d4ebff;}#sk-container-id-3 div.sk-serial::before {content: \"\";position: absolute;border-left: 1px solid gray;box-sizing: border-box;top: 0;bottom: 0;left: 50%;z-index: 0;}#sk-container-id-3 div.sk-serial {display: flex;flex-direction: column;align-items: center;background-color: white;padding-right: 0.2em;padding-left: 0.2em;position: relative;}#sk-container-id-3 div.sk-item {position: relative;z-index: 1;}#sk-container-id-3 div.sk-parallel {display: flex;align-items: stretch;justify-content: center;background-color: white;position: relative;}#sk-container-id-3 div.sk-item::before, #sk-container-id-3 div.sk-parallel-item::before {content: \"\";position: absolute;border-left: 1px solid gray;box-sizing: border-box;top: 0;bottom: 0;left: 50%;z-index: -1;}#sk-container-id-3 div.sk-parallel-item {display: flex;flex-direction: column;z-index: 1;position: relative;background-color: white;}#sk-container-id-3 div.sk-parallel-item:first-child::after {align-self: flex-end;width: 50%;}#sk-container-id-3 div.sk-parallel-item:last-child::after {align-self: flex-start;width: 50%;}#sk-container-id-3 div.sk-parallel-item:only-child::after {width: 0;}#sk-container-id-3 div.sk-dashed-wrapped {border: 1px dashed gray;margin: 0 0.4em 0.5em 0.4em;box-sizing: border-box;padding-bottom: 0.4em;background-color: white;}#sk-container-id-3 div.sk-label label {font-family: monospace;font-weight: bold;display: inline-block;line-height: 1.2em;}#sk-container-id-3 div.sk-label-container {text-align: center;}#sk-container-id-3 div.sk-container {/* jupyter's `normalize.less` sets `[hidden] { display: none; }` but bootstrap.min.css set `[hidden] { display: none !important; }` so we also need the `!important` here to be able to override the default hidden behavior on the sphinx rendered scikit-learn.org. See: https://github.com/scikit-learn/scikit-learn/issues/21755 */display: inline-block !important;position: relative;}#sk-container-id-3 div.sk-text-repr-fallback {display: none;}</style><div id=\"sk-container-id-3\" class=\"sk-top-container\"><div class=\"sk-text-repr-fallback\"><pre>SVC(kernel=&#x27;linear&#x27;)</pre><b>In a Jupyter environment, please rerun this cell to show the HTML representation or trust the notebook. <br />On GitHub, the HTML representation is unable to render, please try loading this page with nbviewer.org.</b></div><div class=\"sk-container\" hidden><div class=\"sk-item\"><div class=\"sk-estimator sk-toggleable\"><input class=\"sk-toggleable__control sk-hidden--visually\" id=\"sk-estimator-id-3\" type=\"checkbox\" checked><label for=\"sk-estimator-id-3\" class=\"sk-toggleable__label sk-toggleable__label-arrow\">SVC</label><div class=\"sk-toggleable__content\"><pre>SVC(kernel=&#x27;linear&#x27;)</pre></div></div></div></div></div>"
      ],
      "text/plain": [
       "SVC(kernel='linear')"
      ]
     },
     "execution_count": 27,
     "metadata": {},
     "output_type": "execute_result"
    }
   ],
   "source": [
    "svm2.fit(X_tr2, y_tr2)"
   ]
  },
  {
   "cell_type": "code",
   "execution_count": 28,
   "id": "7e496ed0-1921-4b01-85b3-aef83da9ecb5",
   "metadata": {},
   "outputs": [
    {
     "name": "stdout",
     "output_type": "stream",
     "text": [
      "Training Accuracy = 0.6\n"
     ]
    }
   ],
   "source": [
    "print(\"Training Accuracy = {}\".format(svm2.score(X_tr2, y_tr2)))"
   ]
  },
  {
   "cell_type": "code",
   "execution_count": 29,
   "id": "719fbf66-d452-40df-8398-aa71aef928f3",
   "metadata": {},
   "outputs": [
    {
     "data": {
      "text/plain": [
       "array([1, 0, 1, 1, 1, 1, 1, 1, 0, 1, 1, 1, 1, 1, 1, 1, 1, 1, 1, 1, 1, 0,\n",
       "       1, 1, 1, 1, 1, 1, 0, 1, 1, 1, 1, 1, 1, 1, 1, 1, 1, 1, 1, 1, 1, 1,\n",
       "       1, 1, 1, 1, 1, 1], dtype=int64)"
      ]
     },
     "execution_count": 29,
     "metadata": {},
     "output_type": "execute_result"
    }
   ],
   "source": [
    "y_pred2 = svm2.predict(X_te2)\n",
    "y_pred2"
   ]
  },
  {
   "cell_type": "code",
   "execution_count": 30,
   "id": "2913cd04-ef31-48ff-ad54-230e1d51536d",
   "metadata": {},
   "outputs": [
    {
     "name": "stdout",
     "output_type": "stream",
     "text": [
      "Testing Accuracy = 0.54\n"
     ]
    }
   ],
   "source": [
    "print(\"Testing Accuracy = {}\".format(accuracy_score(y_te2, y_pred2)))"
   ]
  },
  {
   "cell_type": "code",
   "execution_count": 31,
   "id": "3fa72119-a92b-47d3-b5cf-583c8a3b17e6",
   "metadata": {},
   "outputs": [
    {
     "data": {
      "text/html": [
       "<div>\n",
       "<style scoped>\n",
       "    .dataframe tbody tr th:only-of-type {\n",
       "        vertical-align: middle;\n",
       "    }\n",
       "\n",
       "    .dataframe tbody tr th {\n",
       "        vertical-align: top;\n",
       "    }\n",
       "\n",
       "    .dataframe thead th {\n",
       "        text-align: right;\n",
       "    }\n",
       "</style>\n",
       "<table border=\"1\" class=\"dataframe\">\n",
       "  <thead>\n",
       "    <tr style=\"text-align: right;\">\n",
       "      <th></th>\n",
       "      <th>X1</th>\n",
       "      <th>X2</th>\n",
       "      <th>y</th>\n",
       "    </tr>\n",
       "  </thead>\n",
       "  <tbody>\n",
       "    <tr>\n",
       "      <th>0</th>\n",
       "      <td>-0.445835</td>\n",
       "      <td>0.173616</td>\n",
       "      <td>1</td>\n",
       "    </tr>\n",
       "    <tr>\n",
       "      <th>1</th>\n",
       "      <td>-0.390723</td>\n",
       "      <td>-0.175838</td>\n",
       "      <td>1</td>\n",
       "    </tr>\n",
       "    <tr>\n",
       "      <th>2</th>\n",
       "      <td>-0.913007</td>\n",
       "      <td>0.488218</td>\n",
       "      <td>0</td>\n",
       "    </tr>\n",
       "    <tr>\n",
       "      <th>3</th>\n",
       "      <td>0.361866</td>\n",
       "      <td>-0.303949</td>\n",
       "      <td>1</td>\n",
       "    </tr>\n",
       "    <tr>\n",
       "      <th>4</th>\n",
       "      <td>0.069068</td>\n",
       "      <td>0.327083</td>\n",
       "      <td>1</td>\n",
       "    </tr>\n",
       "  </tbody>\n",
       "</table>\n",
       "</div>"
      ],
      "text/plain": [
       "         X1        X2  y\n",
       "0 -0.445835  0.173616  1\n",
       "1 -0.390723 -0.175838  1\n",
       "2 -0.913007  0.488218  0\n",
       "3  0.361866 -0.303949  1\n",
       "4  0.069068  0.327083  1"
      ]
     },
     "execution_count": 31,
     "metadata": {},
     "output_type": "execute_result"
    }
   ],
   "source": [
    "df = pd.DataFrame(X, columns=[\"X1\",\"X2\"])\n",
    "df[\"y\"] = y\n",
    "df.head()"
   ]
  },
  {
   "cell_type": "code",
   "execution_count": 32,
   "id": "6d5a4e0c-5892-40ef-af3f-c74af0419295",
   "metadata": {},
   "outputs": [],
   "source": [
    "X1_sq = df[\"X1\"]**2"
   ]
  },
  {
   "cell_type": "code",
   "execution_count": 33,
   "id": "7be1302f-2146-4585-91f0-0a108bc5eb70",
   "metadata": {},
   "outputs": [],
   "source": [
    "X2_sq = df[\"X2\"]**2"
   ]
  },
  {
   "cell_type": "code",
   "execution_count": 34,
   "id": "496c6d47-ca9e-4aac-b146-4359876371c6",
   "metadata": {},
   "outputs": [],
   "source": [
    "X1xX2 = df[\"X1\"] * df[\"X2\"]"
   ]
  },
  {
   "cell_type": "code",
   "execution_count": 38,
   "id": "9ca4b08a-d5ec-4550-920f-cd15002e57f3",
   "metadata": {},
   "outputs": [
    {
     "data": {
      "text/html": [
       "<div>\n",
       "<style scoped>\n",
       "    .dataframe tbody tr th:only-of-type {\n",
       "        vertical-align: middle;\n",
       "    }\n",
       "\n",
       "    .dataframe tbody tr th {\n",
       "        vertical-align: top;\n",
       "    }\n",
       "\n",
       "    .dataframe thead th {\n",
       "        text-align: right;\n",
       "    }\n",
       "</style>\n",
       "<table border=\"1\" class=\"dataframe\">\n",
       "  <thead>\n",
       "    <tr style=\"text-align: right;\">\n",
       "      <th></th>\n",
       "      <th>X1</th>\n",
       "      <th>X2</th>\n",
       "      <th>y</th>\n",
       "      <th>X1_sq</th>\n",
       "      <th>X2_sq</th>\n",
       "      <th>X1xX2</th>\n",
       "    </tr>\n",
       "  </thead>\n",
       "  <tbody>\n",
       "    <tr>\n",
       "      <th>0</th>\n",
       "      <td>-0.445835</td>\n",
       "      <td>0.173616</td>\n",
       "      <td>1</td>\n",
       "      <td>0.198769</td>\n",
       "      <td>0.030142</td>\n",
       "      <td>-0.077404</td>\n",
       "    </tr>\n",
       "    <tr>\n",
       "      <th>1</th>\n",
       "      <td>-0.390723</td>\n",
       "      <td>-0.175838</td>\n",
       "      <td>1</td>\n",
       "      <td>0.152664</td>\n",
       "      <td>0.030919</td>\n",
       "      <td>0.068704</td>\n",
       "    </tr>\n",
       "    <tr>\n",
       "      <th>2</th>\n",
       "      <td>-0.913007</td>\n",
       "      <td>0.488218</td>\n",
       "      <td>0</td>\n",
       "      <td>0.833582</td>\n",
       "      <td>0.238357</td>\n",
       "      <td>-0.445747</td>\n",
       "    </tr>\n",
       "    <tr>\n",
       "      <th>3</th>\n",
       "      <td>0.361866</td>\n",
       "      <td>-0.303949</td>\n",
       "      <td>1</td>\n",
       "      <td>0.130947</td>\n",
       "      <td>0.092385</td>\n",
       "      <td>-0.109989</td>\n",
       "    </tr>\n",
       "    <tr>\n",
       "      <th>4</th>\n",
       "      <td>0.069068</td>\n",
       "      <td>0.327083</td>\n",
       "      <td>1</td>\n",
       "      <td>0.004770</td>\n",
       "      <td>0.106984</td>\n",
       "      <td>0.022591</td>\n",
       "    </tr>\n",
       "  </tbody>\n",
       "</table>\n",
       "</div>"
      ],
      "text/plain": [
       "         X1        X2  y     X1_sq     X2_sq     X1xX2\n",
       "0 -0.445835  0.173616  1  0.198769  0.030142 -0.077404\n",
       "1 -0.390723 -0.175838  1  0.152664  0.030919  0.068704\n",
       "2 -0.913007  0.488218  0  0.833582  0.238357 -0.445747\n",
       "3  0.361866 -0.303949  1  0.130947  0.092385 -0.109989\n",
       "4  0.069068  0.327083  1  0.004770  0.106984  0.022591"
      ]
     },
     "execution_count": 38,
     "metadata": {},
     "output_type": "execute_result"
    }
   ],
   "source": [
    "df[\"X1_sq\"] = X1_sq\n",
    "df[\"X2_sq\"] = X2_sq\n",
    "df[\"X1xX2\"] = X1xX2\n",
    "df.head()"
   ]
  },
  {
   "cell_type": "code",
   "execution_count": 46,
   "id": "9cf64ee6-93d4-4df8-9263-c19a75a77ee1",
   "metadata": {},
   "outputs": [
    {
     "data": {
      "application/vnd.plotly.v1+json": {
       "config": {
        "plotlyServerURL": "https://plot.ly"
       },
       "data": [
        {
         "hovertemplate": "X1_sq=%{x}<br>X2_sq=%{y}<br>X1xX2=%{z}<br>y=%{marker.color}<extra></extra>",
         "legendgroup": "",
         "marker": {
          "color": [
           1,
           1,
           0,
           1,
           1,
           0,
           0,
           1,
           0,
           0,
           1,
           0,
           1,
           1,
           0,
           1,
           1,
           0,
           0,
           0,
           1,
           0,
           1,
           1,
           0,
           1,
           0,
           1,
           0,
           1,
           1,
           0,
           1,
           1,
           0,
           1,
           0,
           0,
           1,
           0,
           1,
           0,
           1,
           1,
           0,
           0,
           0,
           1,
           1,
           1,
           1,
           0,
           1,
           0,
           0,
           0,
           0,
           1,
           0,
           1,
           1,
           1,
           0,
           1,
           0,
           1,
           0,
           1,
           0,
           0,
           0,
           1,
           1,
           0,
           1,
           0,
           0,
           0,
           0,
           1,
           0,
           1,
           1,
           0,
           0,
           0,
           1,
           0,
           0,
           0,
           0,
           0,
           1,
           0,
           0,
           0,
           0,
           1,
           1,
           0,
           1,
           1,
           1,
           1,
           1,
           0,
           0,
           1,
           1,
           0,
           0,
           1,
           0,
           1,
           0,
           1,
           0,
           1,
           1,
           1,
           1,
           0,
           1,
           0,
           0,
           0,
           1,
           1,
           0,
           1,
           1,
           1,
           0,
           0,
           1,
           0,
           1,
           0,
           0,
           0,
           1,
           0,
           1,
           0,
           0,
           0,
           0,
           0,
           0,
           0,
           0,
           1,
           0,
           0,
           0,
           0,
           1,
           1,
           0,
           1,
           1,
           1,
           0,
           0,
           1,
           0,
           1,
           0,
           0,
           1,
           1,
           0,
           0,
           1,
           1,
           1,
           1,
           1,
           1,
           0,
           1,
           1,
           1,
           1,
           0,
           1,
           1,
           1,
           1,
           1,
           1,
           0,
           0,
           0,
           0,
           1,
           1,
           0,
           1,
           1
          ],
          "coloraxis": "coloraxis",
          "symbol": "circle"
         },
         "mode": "markers",
         "name": "",
         "scene": "scene",
         "showlegend": false,
         "type": "scatter3d",
         "x": [
          0.19876876561941492,
          0.1526641940380139,
          0.8335822440101417,
          0.1309471837617099,
          0.004770341117881243,
          0.7720703100417273,
          0.8070796548962715,
          0.07594567717551312,
          0.08101053668734497,
          0.0632862309191288,
          0.033927563754218355,
          0.36904993602339126,
          0.14741333618775196,
          0.03256662053091243,
          0.6035384128820768,
          0.14535065638277667,
          0.1088545074252441,
          0.4244347525218217,
          0.8679029888911194,
          0.31905112361358184,
          0.167271622913796,
          0.09080728062886108,
          0.057779565527476325,
          0.13476380002246388,
          0.13375511739817975,
          0.14289260716565494,
          1.032157554154721,
          0.0020600206711207285,
          0.8818448537287771,
          0.17593873153453252,
          0.08371269109732554,
          0.677389267336725,
          0.003847243860320475,
          0.054256559332360295,
          0.24998116367228645,
          0.1965627187575976,
          0.4800954940831527,
          1.0253959521874394,
          0.007949439921975951,
          0.17564045182996765,
          0.01956470613120561,
          0.6901771656316672,
          0.20018367821800373,
          0.1854840451722183,
          0.31925681300433423,
          0.1889374055406625,
          0.02618732905078919,
          0.13243684733404137,
          0.00982978830141638,
          0.0949907852314344,
          0.0008409133558819218,
          0.701032286993072,
          0.10119550713463067,
          0.07116483476262025,
          0.9748142938100463,
          0.1344905924890896,
          0.05756442793808686,
          0.0006009959429506101,
          0.9316299329113792,
          0.11134180573608488,
          0.17052318900348107,
          0.042663064409250384,
          0.24137242482587296,
          0.01596131739803199,
          1.0754913214250088,
          0.1504067524427524,
          0.887021655709017,
          0.02140501311337265,
          0.04927873704769529,
          1.093781098428891,
          0.001071341965404274,
          0.04983952418536889,
          0.20110769729528238,
          0.27110537111039,
          0.002711395015288895,
          0.9738687078190449,
          0.5316612474520731,
          0.96970527353596,
          0.18040640943939815,
          0.00028372299590783746,
          1.103565468546304,
          0.14778828866460111,
          0.09387943411770422,
          0.4509590093336395,
          0.4477142540178081,
          0.3625848994143097,
          0.12012109717624386,
          0.29914366874619375,
          0.002156303836511255,
          1.159862683696951,
          0.7574621922517359,
          2.730736785672964e-06,
          3.860718631742399e-06,
          0.9473803069443112,
          0.4929616026535449,
          0.021797970325157838,
          0.10851973925146717,
          0.006637044792205507,
          0.020525521171491062,
          0.5824855058802253,
          0.03307722440998166,
          0.17381064767260537,
          0.030847446557327154,
          0.0716914808167129,
          0.12819286994905396,
          0.41837523121749504,
          0.9767083380635309,
          0.20784194678220053,
          0.2083117653865655,
          0.79775969388445,
          0.23127734817762186,
          0.004870187261509709,
          0.9550863610111814,
          0.009498680553206707,
          0.012202562601563929,
          0.08140737874508308,
          0.4337222924153763,
          0.14960955061460607,
          0.06560097857761375,
          0.14653302527629056,
          0.06185971946383704,
          0.009245275532967407,
          0.14482804931753998,
          1.0720586949552595,
          0.8563704734565007,
          0.3280461223381453,
          0.18122454863307288,
          0.11074358462380005,
          0.8309787888980049,
          0.10472310890338596,
          0.026070952926068758,
          0.13710001429398572,
          0.7650914700975283,
          0.005782312040016,
          0.12124104821155234,
          0.08063795979893229,
          0.06140745843629183,
          0.45398233297253093,
          0.05502519211425736,
          0.19453007893939103,
          0.03159605237704448,
          0.16353568616654876,
          0.07013844000531262,
          0.781381021893357,
          0.7315517673454981,
          0.7686316827760349,
          0.046805449262928255,
          0.4142842672652445,
          0.9304151034443717,
          0.5657424202226516,
          0.3032256843065957,
          0.06751874503845784,
          0.4201864566266025,
          0.8395438196693061,
          0.16233327423467703,
          0.7539187489310342,
          0.11848571421514081,
          0.06725222599393552,
          1.284340637067182,
          0.12324941565623163,
          0.03116302170507825,
          0.16708360070956993,
          0.8116227283591434,
          0.9756596826083112,
          0.033583506966453014,
          0.7596269101938916,
          0.0005232778034675892,
          0.0005669141157907013,
          0.6167577832107134,
          3.843068713833533e-06,
          0.09397186348856124,
          0.5323773192560811,
          0.05520336847779075,
          6.0596625817141036e-05,
          0.04279346410932198,
          0.1531027704178076,
          0.1100732791681556,
          0.050437431964675934,
          0.14339119369056755,
          0.18569238116653947,
          0.2647875951035819,
          0.09924017640064668,
          0.020178966964815914,
          0.10718529323612404,
          0.03625751099665767,
          0.07923463120858555,
          0.011630139805522497,
          0.027589340481336846,
          0.12402379633493606,
          0.019712865496370344,
          0.15038028102863973,
          0.9232612950431736,
          0.6925508813066698,
          0.08422539754548086,
          0.7847238729273944,
          0.0722378845849617,
          0.06665170197188083,
          0.0011633069114467586,
          0.1945744445145152,
          0.03383356955784915
         ],
         "y": [
          0.030142397120956475,
          0.030919056248943245,
          0.23835713712872258,
          0.09238529138024547,
          0.10698356901109822,
          0.19162664741240706,
          0.20897501876061106,
          0.076978621670707,
          0.7699896833738581,
          1.1249707286052557,
          0.1247076689939833,
          0.8039672772273119,
          0.012267917047374035,
          0.17598473412969043,
          0.38848762564619554,
          0.0013753487103247764,
          0.048332919989363614,
          0.44199747806888506,
          0.0740263549686336,
          0.6998642095737438,
          0.03166842954616198,
          0.9011032596578205,
          0.06332752979020442,
          0.007166576241940027,
          0.8553457729819185,
          0.06921252100994496,
          0.004732907116028736,
          0.1476997616952033,
          0.00613083237374334,
          0.0040875680981636246,
          0.07883303210830128,
          0.3830051908790086,
          0.11414207236020474,
          0.10324984300302581,
          0.9288611268579992,
          0.001616619333028345,
          0.5724388967858097,
          0.030270491504448944,
          0.1508640289424546,
          0.6897546766690028,
          0.1066565782892495,
          0.24963143037928567,
          0.0003532330403857389,
          0.018342132686207862,
          0.687836720661131,
          0.9038732533270543,
          0.8705765516224199,
          0.02030034013112418,
          0.21832555387899122,
          0.07055287413292133,
          0.12488709936727645,
          0.23584384770149347,
          0.06239279815809384,
          0.9519660572089568,
          0.09324014114474227,
          1.0249988266444676,
          0.8442846977455405,
          0.14131756679490537,
          0.1492560612298025,
          0.1114126235444324,
          0.04461517427920306,
          0.13260373296374442,
          0.8074713628134174,
          0.14160928677505344,
          0.08987239146416837,
          0.008700414036060127,
          0.02065069951978903,
          0.14767474331801855,
          0.9668597110280233,
          0.010617871579268993,
          0.975695406004517,
          0.17163215042819252,
          0.0035889437618553655,
          0.7275929133624285,
          0.12062808044768344,
          0.09082459397715492,
          0.45814921498432465,
          0.009503836009159739,
          0.6995501551684296,
          0.13820889399603578,
          0.022950904788480827,
          0.04276147336049517,
          0.00631518610564185,
          0.41940843297068053,
          0.5775887813432639,
          0.7086132817385469,
          0.0002598234327384454,
          0.6233924954224863,
          0.9284769016230436,
          0.0025163098738416314,
          0.2116071046271365,
          0.8902990943603951,
          0.18198118755464526,
          0.03943264305414333,
          0.4424952062535544,
          1.0241121588421633,
          0.7703863589266338,
          0.0977849807938422,
          0.17422399333421443,
          0.3116165790886969,
          0.08157995016393564,
          0.053926477060818774,
          0.10584819375276958,
          0.13068353678838496,
          0.06412155879252449,
          0.5037560783937212,
          0.058666312122399526,
          0.0012396685175050117,
          0.07803685135736899,
          0.0506934584102514,
          0.5770342925890521,
          0.19180931036007318,
          0.13744934794165944,
          0.11779811576634966,
          1.084125153558576,
          0.04820402982749886,
          0.5025875702911097,
          0.04966638202364257,
          0.08368639839120474,
          0.0003518383365406863,
          0.054900885479902406,
          1.0909180082050478,
          0.015200329207990167,
          0.06009407970186339,
          0.21631261292585274,
          0.47264305461274675,
          0.01886684119211527,
          0.050262001293562154,
          0.001170776689738,
          0.004826647930812088,
          0.09098881612828474,
          0.05930677999007637,
          0.10935126769893375,
          0.9844911604762714,
          0.06089540603547279,
          0.9289057887810166,
          0.048986041266263394,
          0.6459315181407786,
          0.8741365983245087,
          0.9259280591572443,
          0.09863091257843959,
          0.7424858294113611,
          0.05129774877119336,
          0.13626670188705928,
          0.2264514430588475,
          0.28307220824030427,
          1.1463171870177757,
          0.6260470579974956,
          0.19940372602373083,
          0.302838092444465,
          0.911709679950103,
          0.12469166148432378,
          0.4802814004215695,
          0.1301607577691254,
          0.7986270097358362,
          0.10307534051718942,
          0.025738949227690006,
          0.059508966449761384,
          0.007413706994490259,
          0.02827649301325049,
          0.08812722952057488,
          0.031558341576387455,
          0.1518510983817408,
          0.015558079912737603,
          0.15865112931838088,
          0.4285735760435882,
          0.23717631956228524,
          0.9079207347387528,
          0.2955626927907839,
          0.15488539864066903,
          0.1023019953387172,
          0.40138272272001124,
          0.8119872935546157,
          0.20979019572532462,
          0.1032567153934537,
          0.008222525549939923,
          0.015413183979382393,
          0.10151961631621996,
          0.04385056375805536,
          0.6991730408995114,
          0.03382929386046005,
          0.12638678760905392,
          0.17861455866040837,
          0.036397293933808014,
          1.0665479675483351,
          0.12399294909712863,
          0.1358127672365275,
          0.08239734768990183,
          0.01930577833240003,
          0.12585589255266114,
          0.025800813847005673,
          0.20091435631130022,
          0.4540363204493017,
          0.9302140812874934,
          0.2986319522656399,
          0.15221856121900018,
          0.006190612466583298,
          0.9053749554849384,
          0.0021595448227491603,
          0.15282111459491474
         ],
         "z": [
          -0.0774039215320692,
          0.0687039504152486,
          -0.4457468757530373,
          -0.10998906185275024,
          0.02259088573277567,
          0.384641710010698,
          0.4106817332476036,
          -0.07646040511807058,
          0.24975443438272535,
          0.26682420675001134,
          0.06504634801765068,
          -0.5447054912754593,
          0.04252592832646928,
          -0.07570487471514065,
          0.48421813783338524,
          -0.014138876822467604,
          -0.07253451728567517,
          0.43312710630880236,
          0.2534712897627502,
          0.47253831849008215,
          0.07278206925691054,
          -0.2860537302244618,
          -0.06048997567536563,
          -0.03107724324187309,
          -0.3382408524723667,
          -0.09944826582509474,
          0.06989353212509505,
          -0.017443180965974192,
          0.0735285181263661,
          0.02681718751569466,
          -0.08123623123426991,
          -0.509356069597383,
          0.020955485847196507,
          0.07484638423431392,
          -0.48186905418579634,
          -0.017826022868159503,
          -0.524237861075293,
          -0.17617956595299644,
          -0.03463068775616915,
          -0.3480643949931922,
          -0.04568046202906764,
          -0.41507820115220967,
          0.00840901238508696,
          0.05832814901677749,
          -0.46861130940858137,
          0.4132498849621275,
          0.15099031300463508,
          0.051850873153446574,
          -0.046325953583493125,
          0.08186496756379223,
          -0.010247889042885636,
          -0.40661302478821765,
          -0.07945986943833319,
          -0.2602815920515673,
          -0.301482706543445,
          0.37128519967275303,
          0.22045581335633363,
          0.009215817072370196,
          0.3728959832314336,
          -0.11137720901168133,
          0.08722340165366052,
          -0.07521490278089353,
          0.44147629700780855,
          0.04754230508426744,
          -0.31089705218194674,
          0.0361745908072385,
          -0.13534259373749516,
          -0.05622259169796539,
          0.21827877922913305,
          0.10776654044252205,
          0.03233115268444353,
          -0.09248818687947544,
          0.0268656698347352,
          0.4441332534211,
          0.01808508711700656,
          0.29740751499368884,
          0.49353843128752806,
          0.09599958279546401,
          0.355251082639744,
          -0.006262031736238966,
          -0.1591471834386693,
          0.07949619468078023,
          -0.02434884181938938,
          0.434897702268743,
          -0.5085221041096978,
          0.5068850712763348,
          -0.00558661577456693,
          -0.4318378377927614,
          0.04474458967385724,
          0.05402382736614549,
          -0.40035531889424586,
          -0.0015592217569099195,
          0.0008381993566084543,
          -0.19328142559558012,
          -0.46704726317714684,
          -0.1494107306992199,
          0.2891403237073748,
          -0.025475543125391575,
          0.0597999854829676,
          -0.42604241656335684,
          -0.05194649477036559,
          0.09681423399812038,
          0.05714146042916797,
          0.09679305900076046,
          -0.09066381112230341,
          -0.4590850310946673,
          -0.23937392550857584,
          0.016051639107668915,
          -0.1274989971390463,
          0.20109996982423012,
          -0.36531487924466743,
          0.03056382273136969,
          -0.36232029690449197,
          0.03345036130498769,
          -0.11501784667706413,
          0.06264314577993733,
          -0.4668869596873896,
          0.08620072560721583,
          0.07409392436697541,
          0.007180246225686443,
          -0.05827652506887321,
          0.10042827076939873,
          -0.04691944189968209,
          0.25381958289248885,
          0.43039950597778953,
          -0.3937622649718581,
          -0.05847336811893904,
          -0.07460693127059408,
          -0.03119119420138476,
          0.022482472659757353,
          0.04870487801113187,
          -0.09017183808911593,
          -0.2892468187565865,
          0.07544955328238377,
          0.08592451838101167,
          0.2736879019115005,
          0.05484622405431887,
          0.5415177721423733,
          0.2193160601891925,
          0.4244064778488376,
          0.05582425530021939,
          0.34845793086357785,
          -0.059982864841519073,
          0.3263069333779897,
          0.40701468448649164,
          0.4664528569607793,
          -0.23163309551137795,
          0.5092754134022714,
          -0.4307298902741284,
          -0.41391829550666487,
          -0.525788732849818,
          0.09175524235803506,
          0.4492301635317933,
          0.3305686914221352,
          -0.3600607412405129,
          -0.27876590854758365,
          -0.05522406886847525,
          0.06326223565718239,
          -0.09757932754601788,
          -0.05903440726127975,
          0.05240525514066397,
          0.07261460833059241,
          -0.3510638158126257,
          0.12320467243435336,
          0.07299357031067519,
          0.5705751671434166,
          0.01114042654188248,
          -0.02268728896414166,
          -0.42695502246189,
          -0.0007715148927568345,
          0.09804850402008876,
          0.4622629748502323,
          -0.21171781636267528,
          -0.0035654702341307346,
          0.06647339726714917,
          0.03548086021402256,
          0.041189558179624865,
          -0.0715568916389564,
          -0.07929555272064062,
          -0.3603208387147218,
          -0.09464447878964512,
          -0.11199396009175484,
          -0.06003546683955705,
          0.06246002420185739,
          -0.19664784428476875,
          -0.09911879536281656,
          0.03974319401275771,
          -0.0476790150923422,
          -0.04893236066229589,
          -0.0498094396858291,
          0.06228911331107814,
          0.4306929867094851,
          0.5607523997919237,
          -0.2799065036737149,
          0.48409051029922257,
          -0.10486156043578153,
          0.02031292340226094,
          -0.03245348892132293,
          0.020498591031839604,
          -0.07190607631177691
         ]
        }
       ],
       "layout": {
        "coloraxis": {
         "colorbar": {
          "title": {
           "text": "y"
          }
         },
         "colorscale": [
          [
           0,
           "#0d0887"
          ],
          [
           0.1111111111111111,
           "#46039f"
          ],
          [
           0.2222222222222222,
           "#7201a8"
          ],
          [
           0.3333333333333333,
           "#9c179e"
          ],
          [
           0.4444444444444444,
           "#bd3786"
          ],
          [
           0.5555555555555556,
           "#d8576b"
          ],
          [
           0.6666666666666666,
           "#ed7953"
          ],
          [
           0.7777777777777778,
           "#fb9f3a"
          ],
          [
           0.8888888888888888,
           "#fdca26"
          ],
          [
           1,
           "#f0f921"
          ]
         ]
        },
        "legend": {
         "tracegroupgap": 0
        },
        "margin": {
         "t": 60
        },
        "scene": {
         "domain": {
          "x": [
           0,
           1
          ],
          "y": [
           0,
           1
          ]
         },
         "xaxis": {
          "title": {
           "text": "X1_sq"
          }
         },
         "yaxis": {
          "title": {
           "text": "X2_sq"
          }
         },
         "zaxis": {
          "title": {
           "text": "X1xX2"
          }
         }
        },
        "template": {
         "data": {
          "bar": [
           {
            "error_x": {
             "color": "#2a3f5f"
            },
            "error_y": {
             "color": "#2a3f5f"
            },
            "marker": {
             "line": {
              "color": "#E5ECF6",
              "width": 0.5
             },
             "pattern": {
              "fillmode": "overlay",
              "size": 10,
              "solidity": 0.2
             }
            },
            "type": "bar"
           }
          ],
          "barpolar": [
           {
            "marker": {
             "line": {
              "color": "#E5ECF6",
              "width": 0.5
             },
             "pattern": {
              "fillmode": "overlay",
              "size": 10,
              "solidity": 0.2
             }
            },
            "type": "barpolar"
           }
          ],
          "carpet": [
           {
            "aaxis": {
             "endlinecolor": "#2a3f5f",
             "gridcolor": "white",
             "linecolor": "white",
             "minorgridcolor": "white",
             "startlinecolor": "#2a3f5f"
            },
            "baxis": {
             "endlinecolor": "#2a3f5f",
             "gridcolor": "white",
             "linecolor": "white",
             "minorgridcolor": "white",
             "startlinecolor": "#2a3f5f"
            },
            "type": "carpet"
           }
          ],
          "choropleth": [
           {
            "colorbar": {
             "outlinewidth": 0,
             "ticks": ""
            },
            "type": "choropleth"
           }
          ],
          "contour": [
           {
            "colorbar": {
             "outlinewidth": 0,
             "ticks": ""
            },
            "colorscale": [
             [
              0,
              "#0d0887"
             ],
             [
              0.1111111111111111,
              "#46039f"
             ],
             [
              0.2222222222222222,
              "#7201a8"
             ],
             [
              0.3333333333333333,
              "#9c179e"
             ],
             [
              0.4444444444444444,
              "#bd3786"
             ],
             [
              0.5555555555555556,
              "#d8576b"
             ],
             [
              0.6666666666666666,
              "#ed7953"
             ],
             [
              0.7777777777777778,
              "#fb9f3a"
             ],
             [
              0.8888888888888888,
              "#fdca26"
             ],
             [
              1,
              "#f0f921"
             ]
            ],
            "type": "contour"
           }
          ],
          "contourcarpet": [
           {
            "colorbar": {
             "outlinewidth": 0,
             "ticks": ""
            },
            "type": "contourcarpet"
           }
          ],
          "heatmap": [
           {
            "colorbar": {
             "outlinewidth": 0,
             "ticks": ""
            },
            "colorscale": [
             [
              0,
              "#0d0887"
             ],
             [
              0.1111111111111111,
              "#46039f"
             ],
             [
              0.2222222222222222,
              "#7201a8"
             ],
             [
              0.3333333333333333,
              "#9c179e"
             ],
             [
              0.4444444444444444,
              "#bd3786"
             ],
             [
              0.5555555555555556,
              "#d8576b"
             ],
             [
              0.6666666666666666,
              "#ed7953"
             ],
             [
              0.7777777777777778,
              "#fb9f3a"
             ],
             [
              0.8888888888888888,
              "#fdca26"
             ],
             [
              1,
              "#f0f921"
             ]
            ],
            "type": "heatmap"
           }
          ],
          "heatmapgl": [
           {
            "colorbar": {
             "outlinewidth": 0,
             "ticks": ""
            },
            "colorscale": [
             [
              0,
              "#0d0887"
             ],
             [
              0.1111111111111111,
              "#46039f"
             ],
             [
              0.2222222222222222,
              "#7201a8"
             ],
             [
              0.3333333333333333,
              "#9c179e"
             ],
             [
              0.4444444444444444,
              "#bd3786"
             ],
             [
              0.5555555555555556,
              "#d8576b"
             ],
             [
              0.6666666666666666,
              "#ed7953"
             ],
             [
              0.7777777777777778,
              "#fb9f3a"
             ],
             [
              0.8888888888888888,
              "#fdca26"
             ],
             [
              1,
              "#f0f921"
             ]
            ],
            "type": "heatmapgl"
           }
          ],
          "histogram": [
           {
            "marker": {
             "pattern": {
              "fillmode": "overlay",
              "size": 10,
              "solidity": 0.2
             }
            },
            "type": "histogram"
           }
          ],
          "histogram2d": [
           {
            "colorbar": {
             "outlinewidth": 0,
             "ticks": ""
            },
            "colorscale": [
             [
              0,
              "#0d0887"
             ],
             [
              0.1111111111111111,
              "#46039f"
             ],
             [
              0.2222222222222222,
              "#7201a8"
             ],
             [
              0.3333333333333333,
              "#9c179e"
             ],
             [
              0.4444444444444444,
              "#bd3786"
             ],
             [
              0.5555555555555556,
              "#d8576b"
             ],
             [
              0.6666666666666666,
              "#ed7953"
             ],
             [
              0.7777777777777778,
              "#fb9f3a"
             ],
             [
              0.8888888888888888,
              "#fdca26"
             ],
             [
              1,
              "#f0f921"
             ]
            ],
            "type": "histogram2d"
           }
          ],
          "histogram2dcontour": [
           {
            "colorbar": {
             "outlinewidth": 0,
             "ticks": ""
            },
            "colorscale": [
             [
              0,
              "#0d0887"
             ],
             [
              0.1111111111111111,
              "#46039f"
             ],
             [
              0.2222222222222222,
              "#7201a8"
             ],
             [
              0.3333333333333333,
              "#9c179e"
             ],
             [
              0.4444444444444444,
              "#bd3786"
             ],
             [
              0.5555555555555556,
              "#d8576b"
             ],
             [
              0.6666666666666666,
              "#ed7953"
             ],
             [
              0.7777777777777778,
              "#fb9f3a"
             ],
             [
              0.8888888888888888,
              "#fdca26"
             ],
             [
              1,
              "#f0f921"
             ]
            ],
            "type": "histogram2dcontour"
           }
          ],
          "mesh3d": [
           {
            "colorbar": {
             "outlinewidth": 0,
             "ticks": ""
            },
            "type": "mesh3d"
           }
          ],
          "parcoords": [
           {
            "line": {
             "colorbar": {
              "outlinewidth": 0,
              "ticks": ""
             }
            },
            "type": "parcoords"
           }
          ],
          "pie": [
           {
            "automargin": true,
            "type": "pie"
           }
          ],
          "scatter": [
           {
            "fillpattern": {
             "fillmode": "overlay",
             "size": 10,
             "solidity": 0.2
            },
            "type": "scatter"
           }
          ],
          "scatter3d": [
           {
            "line": {
             "colorbar": {
              "outlinewidth": 0,
              "ticks": ""
             }
            },
            "marker": {
             "colorbar": {
              "outlinewidth": 0,
              "ticks": ""
             }
            },
            "type": "scatter3d"
           }
          ],
          "scattercarpet": [
           {
            "marker": {
             "colorbar": {
              "outlinewidth": 0,
              "ticks": ""
             }
            },
            "type": "scattercarpet"
           }
          ],
          "scattergeo": [
           {
            "marker": {
             "colorbar": {
              "outlinewidth": 0,
              "ticks": ""
             }
            },
            "type": "scattergeo"
           }
          ],
          "scattergl": [
           {
            "marker": {
             "colorbar": {
              "outlinewidth": 0,
              "ticks": ""
             }
            },
            "type": "scattergl"
           }
          ],
          "scattermapbox": [
           {
            "marker": {
             "colorbar": {
              "outlinewidth": 0,
              "ticks": ""
             }
            },
            "type": "scattermapbox"
           }
          ],
          "scatterpolar": [
           {
            "marker": {
             "colorbar": {
              "outlinewidth": 0,
              "ticks": ""
             }
            },
            "type": "scatterpolar"
           }
          ],
          "scatterpolargl": [
           {
            "marker": {
             "colorbar": {
              "outlinewidth": 0,
              "ticks": ""
             }
            },
            "type": "scatterpolargl"
           }
          ],
          "scatterternary": [
           {
            "marker": {
             "colorbar": {
              "outlinewidth": 0,
              "ticks": ""
             }
            },
            "type": "scatterternary"
           }
          ],
          "surface": [
           {
            "colorbar": {
             "outlinewidth": 0,
             "ticks": ""
            },
            "colorscale": [
             [
              0,
              "#0d0887"
             ],
             [
              0.1111111111111111,
              "#46039f"
             ],
             [
              0.2222222222222222,
              "#7201a8"
             ],
             [
              0.3333333333333333,
              "#9c179e"
             ],
             [
              0.4444444444444444,
              "#bd3786"
             ],
             [
              0.5555555555555556,
              "#d8576b"
             ],
             [
              0.6666666666666666,
              "#ed7953"
             ],
             [
              0.7777777777777778,
              "#fb9f3a"
             ],
             [
              0.8888888888888888,
              "#fdca26"
             ],
             [
              1,
              "#f0f921"
             ]
            ],
            "type": "surface"
           }
          ],
          "table": [
           {
            "cells": {
             "fill": {
              "color": "#EBF0F8"
             },
             "line": {
              "color": "white"
             }
            },
            "header": {
             "fill": {
              "color": "#C8D4E3"
             },
             "line": {
              "color": "white"
             }
            },
            "type": "table"
           }
          ]
         },
         "layout": {
          "annotationdefaults": {
           "arrowcolor": "#2a3f5f",
           "arrowhead": 0,
           "arrowwidth": 1
          },
          "autotypenumbers": "strict",
          "coloraxis": {
           "colorbar": {
            "outlinewidth": 0,
            "ticks": ""
           }
          },
          "colorscale": {
           "diverging": [
            [
             0,
             "#8e0152"
            ],
            [
             0.1,
             "#c51b7d"
            ],
            [
             0.2,
             "#de77ae"
            ],
            [
             0.3,
             "#f1b6da"
            ],
            [
             0.4,
             "#fde0ef"
            ],
            [
             0.5,
             "#f7f7f7"
            ],
            [
             0.6,
             "#e6f5d0"
            ],
            [
             0.7,
             "#b8e186"
            ],
            [
             0.8,
             "#7fbc41"
            ],
            [
             0.9,
             "#4d9221"
            ],
            [
             1,
             "#276419"
            ]
           ],
           "sequential": [
            [
             0,
             "#0d0887"
            ],
            [
             0.1111111111111111,
             "#46039f"
            ],
            [
             0.2222222222222222,
             "#7201a8"
            ],
            [
             0.3333333333333333,
             "#9c179e"
            ],
            [
             0.4444444444444444,
             "#bd3786"
            ],
            [
             0.5555555555555556,
             "#d8576b"
            ],
            [
             0.6666666666666666,
             "#ed7953"
            ],
            [
             0.7777777777777778,
             "#fb9f3a"
            ],
            [
             0.8888888888888888,
             "#fdca26"
            ],
            [
             1,
             "#f0f921"
            ]
           ],
           "sequentialminus": [
            [
             0,
             "#0d0887"
            ],
            [
             0.1111111111111111,
             "#46039f"
            ],
            [
             0.2222222222222222,
             "#7201a8"
            ],
            [
             0.3333333333333333,
             "#9c179e"
            ],
            [
             0.4444444444444444,
             "#bd3786"
            ],
            [
             0.5555555555555556,
             "#d8576b"
            ],
            [
             0.6666666666666666,
             "#ed7953"
            ],
            [
             0.7777777777777778,
             "#fb9f3a"
            ],
            [
             0.8888888888888888,
             "#fdca26"
            ],
            [
             1,
             "#f0f921"
            ]
           ]
          },
          "colorway": [
           "#636efa",
           "#EF553B",
           "#00cc96",
           "#ab63fa",
           "#FFA15A",
           "#19d3f3",
           "#FF6692",
           "#B6E880",
           "#FF97FF",
           "#FECB52"
          ],
          "font": {
           "color": "#2a3f5f"
          },
          "geo": {
           "bgcolor": "white",
           "lakecolor": "white",
           "landcolor": "#E5ECF6",
           "showlakes": true,
           "showland": true,
           "subunitcolor": "white"
          },
          "hoverlabel": {
           "align": "left"
          },
          "hovermode": "closest",
          "mapbox": {
           "style": "light"
          },
          "paper_bgcolor": "white",
          "plot_bgcolor": "#E5ECF6",
          "polar": {
           "angularaxis": {
            "gridcolor": "white",
            "linecolor": "white",
            "ticks": ""
           },
           "bgcolor": "#E5ECF6",
           "radialaxis": {
            "gridcolor": "white",
            "linecolor": "white",
            "ticks": ""
           }
          },
          "scene": {
           "xaxis": {
            "backgroundcolor": "#E5ECF6",
            "gridcolor": "white",
            "gridwidth": 2,
            "linecolor": "white",
            "showbackground": true,
            "ticks": "",
            "zerolinecolor": "white"
           },
           "yaxis": {
            "backgroundcolor": "#E5ECF6",
            "gridcolor": "white",
            "gridwidth": 2,
            "linecolor": "white",
            "showbackground": true,
            "ticks": "",
            "zerolinecolor": "white"
           },
           "zaxis": {
            "backgroundcolor": "#E5ECF6",
            "gridcolor": "white",
            "gridwidth": 2,
            "linecolor": "white",
            "showbackground": true,
            "ticks": "",
            "zerolinecolor": "white"
           }
          },
          "shapedefaults": {
           "line": {
            "color": "#2a3f5f"
           }
          },
          "ternary": {
           "aaxis": {
            "gridcolor": "white",
            "linecolor": "white",
            "ticks": ""
           },
           "baxis": {
            "gridcolor": "white",
            "linecolor": "white",
            "ticks": ""
           },
           "bgcolor": "#E5ECF6",
           "caxis": {
            "gridcolor": "white",
            "linecolor": "white",
            "ticks": ""
           }
          },
          "title": {
           "x": 0.05
          },
          "xaxis": {
           "automargin": true,
           "gridcolor": "white",
           "linecolor": "white",
           "ticks": "",
           "title": {
            "standoff": 15
           },
           "zerolinecolor": "white",
           "zerolinewidth": 2
          },
          "yaxis": {
           "automargin": true,
           "gridcolor": "white",
           "linecolor": "white",
           "ticks": "",
           "title": {
            "standoff": 15
           },
           "zerolinecolor": "white",
           "zerolinewidth": 2
          }
         }
        }
       }
      },
      "text/html": [
       "<div>                            <div id=\"219c3991-6ba3-4f25-b31a-b3bee27ae1eb\" class=\"plotly-graph-div\" style=\"height:525px; width:100%;\"></div>            <script type=\"text/javascript\">                require([\"plotly\"], function(Plotly) {                    window.PLOTLYENV=window.PLOTLYENV || {};                                    if (document.getElementById(\"219c3991-6ba3-4f25-b31a-b3bee27ae1eb\")) {                    Plotly.newPlot(                        \"219c3991-6ba3-4f25-b31a-b3bee27ae1eb\",                        [{\"hovertemplate\":\"X1_sq=%{x}\\u003cbr\\u003eX2_sq=%{y}\\u003cbr\\u003eX1xX2=%{z}\\u003cbr\\u003ey=%{marker.color}\\u003cextra\\u003e\\u003c\\u002fextra\\u003e\",\"legendgroup\":\"\",\"marker\":{\"color\":[1,1,0,1,1,0,0,1,0,0,1,0,1,1,0,1,1,0,0,0,1,0,1,1,0,1,0,1,0,1,1,0,1,1,0,1,0,0,1,0,1,0,1,1,0,0,0,1,1,1,1,0,1,0,0,0,0,1,0,1,1,1,0,1,0,1,0,1,0,0,0,1,1,0,1,0,0,0,0,1,0,1,1,0,0,0,1,0,0,0,0,0,1,0,0,0,0,1,1,0,1,1,1,1,1,0,0,1,1,0,0,1,0,1,0,1,0,1,1,1,1,0,1,0,0,0,1,1,0,1,1,1,0,0,1,0,1,0,0,0,1,0,1,0,0,0,0,0,0,0,0,1,0,0,0,0,1,1,0,1,1,1,0,0,1,0,1,0,0,1,1,0,0,1,1,1,1,1,1,0,1,1,1,1,0,1,1,1,1,1,1,0,0,0,0,1,1,0,1,1],\"coloraxis\":\"coloraxis\",\"symbol\":\"circle\"},\"mode\":\"markers\",\"name\":\"\",\"scene\":\"scene\",\"showlegend\":false,\"x\":[0.19876876561941492,0.1526641940380139,0.8335822440101417,0.1309471837617099,0.004770341117881243,0.7720703100417273,0.8070796548962715,0.07594567717551312,0.08101053668734497,0.0632862309191288,0.033927563754218355,0.36904993602339126,0.14741333618775196,0.03256662053091243,0.6035384128820768,0.14535065638277667,0.1088545074252441,0.4244347525218217,0.8679029888911194,0.31905112361358184,0.167271622913796,0.09080728062886108,0.057779565527476325,0.13476380002246388,0.13375511739817975,0.14289260716565494,1.032157554154721,0.0020600206711207285,0.8818448537287771,0.17593873153453252,0.08371269109732554,0.677389267336725,0.003847243860320475,0.054256559332360295,0.24998116367228645,0.1965627187575976,0.4800954940831527,1.0253959521874394,0.007949439921975951,0.17564045182996765,0.01956470613120561,0.6901771656316672,0.20018367821800373,0.1854840451722183,0.31925681300433423,0.1889374055406625,0.02618732905078919,0.13243684733404137,0.00982978830141638,0.0949907852314344,0.0008409133558819218,0.701032286993072,0.10119550713463067,0.07116483476262025,0.9748142938100463,0.1344905924890896,0.05756442793808686,0.0006009959429506101,0.9316299329113792,0.11134180573608488,0.17052318900348107,0.042663064409250384,0.24137242482587296,0.01596131739803199,1.0754913214250088,0.1504067524427524,0.887021655709017,0.02140501311337265,0.04927873704769529,1.093781098428891,0.001071341965404274,0.04983952418536889,0.20110769729528238,0.27110537111039,0.002711395015288895,0.9738687078190449,0.5316612474520731,0.96970527353596,0.18040640943939815,0.00028372299590783746,1.103565468546304,0.14778828866460111,0.09387943411770422,0.4509590093336395,0.4477142540178081,0.3625848994143097,0.12012109717624386,0.29914366874619375,0.002156303836511255,1.159862683696951,0.7574621922517359,2.730736785672964e-06,3.860718631742399e-06,0.9473803069443112,0.4929616026535449,0.021797970325157838,0.10851973925146717,0.006637044792205507,0.020525521171491062,0.5824855058802253,0.03307722440998166,0.17381064767260537,0.030847446557327154,0.0716914808167129,0.12819286994905396,0.41837523121749504,0.9767083380635309,0.20784194678220053,0.2083117653865655,0.79775969388445,0.23127734817762186,0.004870187261509709,0.9550863610111814,0.009498680553206707,0.012202562601563929,0.08140737874508308,0.4337222924153763,0.14960955061460607,0.06560097857761375,0.14653302527629056,0.06185971946383704,0.009245275532967407,0.14482804931753998,1.0720586949552595,0.8563704734565007,0.3280461223381453,0.18122454863307288,0.11074358462380005,0.8309787888980049,0.10472310890338596,0.026070952926068758,0.13710001429398572,0.7650914700975283,0.005782312040016,0.12124104821155234,0.08063795979893229,0.06140745843629183,0.45398233297253093,0.05502519211425736,0.19453007893939103,0.03159605237704448,0.16353568616654876,0.07013844000531262,0.781381021893357,0.7315517673454981,0.7686316827760349,0.046805449262928255,0.4142842672652445,0.9304151034443717,0.5657424202226516,0.3032256843065957,0.06751874503845784,0.4201864566266025,0.8395438196693061,0.16233327423467703,0.7539187489310342,0.11848571421514081,0.06725222599393552,1.284340637067182,0.12324941565623163,0.03116302170507825,0.16708360070956993,0.8116227283591434,0.9756596826083112,0.033583506966453014,0.7596269101938916,0.0005232778034675892,0.0005669141157907013,0.6167577832107134,3.843068713833533e-06,0.09397186348856124,0.5323773192560811,0.05520336847779075,6.0596625817141036e-05,0.04279346410932198,0.1531027704178076,0.1100732791681556,0.050437431964675934,0.14339119369056755,0.18569238116653947,0.2647875951035819,0.09924017640064668,0.020178966964815914,0.10718529323612404,0.03625751099665767,0.07923463120858555,0.011630139805522497,0.027589340481336846,0.12402379633493606,0.019712865496370344,0.15038028102863973,0.9232612950431736,0.6925508813066698,0.08422539754548086,0.7847238729273944,0.0722378845849617,0.06665170197188083,0.0011633069114467586,0.1945744445145152,0.03383356955784915],\"y\":[0.030142397120956475,0.030919056248943245,0.23835713712872258,0.09238529138024547,0.10698356901109822,0.19162664741240706,0.20897501876061106,0.076978621670707,0.7699896833738581,1.1249707286052557,0.1247076689939833,0.8039672772273119,0.012267917047374035,0.17598473412969043,0.38848762564619554,0.0013753487103247764,0.048332919989363614,0.44199747806888506,0.0740263549686336,0.6998642095737438,0.03166842954616198,0.9011032596578205,0.06332752979020442,0.007166576241940027,0.8553457729819185,0.06921252100994496,0.004732907116028736,0.1476997616952033,0.00613083237374334,0.0040875680981636246,0.07883303210830128,0.3830051908790086,0.11414207236020474,0.10324984300302581,0.9288611268579992,0.001616619333028345,0.5724388967858097,0.030270491504448944,0.1508640289424546,0.6897546766690028,0.1066565782892495,0.24963143037928567,0.0003532330403857389,0.018342132686207862,0.687836720661131,0.9038732533270543,0.8705765516224199,0.02030034013112418,0.21832555387899122,0.07055287413292133,0.12488709936727645,0.23584384770149347,0.06239279815809384,0.9519660572089568,0.09324014114474227,1.0249988266444676,0.8442846977455405,0.14131756679490537,0.1492560612298025,0.1114126235444324,0.04461517427920306,0.13260373296374442,0.8074713628134174,0.14160928677505344,0.08987239146416837,0.008700414036060127,0.02065069951978903,0.14767474331801855,0.9668597110280233,0.010617871579268993,0.975695406004517,0.17163215042819252,0.0035889437618553655,0.7275929133624285,0.12062808044768344,0.09082459397715492,0.45814921498432465,0.009503836009159739,0.6995501551684296,0.13820889399603578,0.022950904788480827,0.04276147336049517,0.00631518610564185,0.41940843297068053,0.5775887813432639,0.7086132817385469,0.0002598234327384454,0.6233924954224863,0.9284769016230436,0.0025163098738416314,0.2116071046271365,0.8902990943603951,0.18198118755464526,0.03943264305414333,0.4424952062535544,1.0241121588421633,0.7703863589266338,0.0977849807938422,0.17422399333421443,0.3116165790886969,0.08157995016393564,0.053926477060818774,0.10584819375276958,0.13068353678838496,0.06412155879252449,0.5037560783937212,0.058666312122399526,0.0012396685175050117,0.07803685135736899,0.0506934584102514,0.5770342925890521,0.19180931036007318,0.13744934794165944,0.11779811576634966,1.084125153558576,0.04820402982749886,0.5025875702911097,0.04966638202364257,0.08368639839120474,0.0003518383365406863,0.054900885479902406,1.0909180082050478,0.015200329207990167,0.06009407970186339,0.21631261292585274,0.47264305461274675,0.01886684119211527,0.050262001293562154,0.001170776689738,0.004826647930812088,0.09098881612828474,0.05930677999007637,0.10935126769893375,0.9844911604762714,0.06089540603547279,0.9289057887810166,0.048986041266263394,0.6459315181407786,0.8741365983245087,0.9259280591572443,0.09863091257843959,0.7424858294113611,0.05129774877119336,0.13626670188705928,0.2264514430588475,0.28307220824030427,1.1463171870177757,0.6260470579974956,0.19940372602373083,0.302838092444465,0.911709679950103,0.12469166148432378,0.4802814004215695,0.1301607577691254,0.7986270097358362,0.10307534051718942,0.025738949227690006,0.059508966449761384,0.007413706994490259,0.02827649301325049,0.08812722952057488,0.031558341576387455,0.1518510983817408,0.015558079912737603,0.15865112931838088,0.4285735760435882,0.23717631956228524,0.9079207347387528,0.2955626927907839,0.15488539864066903,0.1023019953387172,0.40138272272001124,0.8119872935546157,0.20979019572532462,0.1032567153934537,0.008222525549939923,0.015413183979382393,0.10151961631621996,0.04385056375805536,0.6991730408995114,0.03382929386046005,0.12638678760905392,0.17861455866040837,0.036397293933808014,1.0665479675483351,0.12399294909712863,0.1358127672365275,0.08239734768990183,0.01930577833240003,0.12585589255266114,0.025800813847005673,0.20091435631130022,0.4540363204493017,0.9302140812874934,0.2986319522656399,0.15221856121900018,0.006190612466583298,0.9053749554849384,0.0021595448227491603,0.15282111459491474],\"z\":[-0.0774039215320692,0.0687039504152486,-0.4457468757530373,-0.10998906185275024,0.02259088573277567,0.384641710010698,0.4106817332476036,-0.07646040511807058,0.24975443438272535,0.26682420675001134,0.06504634801765068,-0.5447054912754593,0.04252592832646928,-0.07570487471514065,0.48421813783338524,-0.014138876822467604,-0.07253451728567517,0.43312710630880236,0.2534712897627502,0.47253831849008215,0.07278206925691054,-0.2860537302244618,-0.06048997567536563,-0.03107724324187309,-0.3382408524723667,-0.09944826582509474,0.06989353212509505,-0.017443180965974192,0.0735285181263661,0.02681718751569466,-0.08123623123426991,-0.509356069597383,0.020955485847196507,0.07484638423431392,-0.48186905418579634,-0.017826022868159503,-0.524237861075293,-0.17617956595299644,-0.03463068775616915,-0.3480643949931922,-0.04568046202906764,-0.41507820115220967,0.00840901238508696,0.05832814901677749,-0.46861130940858137,0.4132498849621275,0.15099031300463508,0.051850873153446574,-0.046325953583493125,0.08186496756379223,-0.010247889042885636,-0.40661302478821765,-0.07945986943833319,-0.2602815920515673,-0.301482706543445,0.37128519967275303,0.22045581335633363,0.009215817072370196,0.3728959832314336,-0.11137720901168133,0.08722340165366052,-0.07521490278089353,0.44147629700780855,0.04754230508426744,-0.31089705218194674,0.0361745908072385,-0.13534259373749516,-0.05622259169796539,0.21827877922913305,0.10776654044252205,0.03233115268444353,-0.09248818687947544,0.0268656698347352,0.4441332534211,0.01808508711700656,0.29740751499368884,0.49353843128752806,0.09599958279546401,0.355251082639744,-0.006262031736238966,-0.1591471834386693,0.07949619468078023,-0.02434884181938938,0.434897702268743,-0.5085221041096978,0.5068850712763348,-0.00558661577456693,-0.4318378377927614,0.04474458967385724,0.05402382736614549,-0.40035531889424586,-0.0015592217569099195,0.0008381993566084543,-0.19328142559558012,-0.46704726317714684,-0.1494107306992199,0.2891403237073748,-0.025475543125391575,0.0597999854829676,-0.42604241656335684,-0.05194649477036559,0.09681423399812038,0.05714146042916797,0.09679305900076046,-0.09066381112230341,-0.4590850310946673,-0.23937392550857584,0.016051639107668915,-0.1274989971390463,0.20109996982423012,-0.36531487924466743,0.03056382273136969,-0.36232029690449197,0.03345036130498769,-0.11501784667706413,0.06264314577993733,-0.4668869596873896,0.08620072560721583,0.07409392436697541,0.007180246225686443,-0.05827652506887321,0.10042827076939873,-0.04691944189968209,0.25381958289248885,0.43039950597778953,-0.3937622649718581,-0.05847336811893904,-0.07460693127059408,-0.03119119420138476,0.022482472659757353,0.04870487801113187,-0.09017183808911593,-0.2892468187565865,0.07544955328238377,0.08592451838101167,0.2736879019115005,0.05484622405431887,0.5415177721423733,0.2193160601891925,0.4244064778488376,0.05582425530021939,0.34845793086357785,-0.059982864841519073,0.3263069333779897,0.40701468448649164,0.4664528569607793,-0.23163309551137795,0.5092754134022714,-0.4307298902741284,-0.41391829550666487,-0.525788732849818,0.09175524235803506,0.4492301635317933,0.3305686914221352,-0.3600607412405129,-0.27876590854758365,-0.05522406886847525,0.06326223565718239,-0.09757932754601788,-0.05903440726127975,0.05240525514066397,0.07261460833059241,-0.3510638158126257,0.12320467243435336,0.07299357031067519,0.5705751671434166,0.01114042654188248,-0.02268728896414166,-0.42695502246189,-0.0007715148927568345,0.09804850402008876,0.4622629748502323,-0.21171781636267528,-0.0035654702341307346,0.06647339726714917,0.03548086021402256,0.041189558179624865,-0.0715568916389564,-0.07929555272064062,-0.3603208387147218,-0.09464447878964512,-0.11199396009175484,-0.06003546683955705,0.06246002420185739,-0.19664784428476875,-0.09911879536281656,0.03974319401275771,-0.0476790150923422,-0.04893236066229589,-0.0498094396858291,0.06228911331107814,0.4306929867094851,0.5607523997919237,-0.2799065036737149,0.48409051029922257,-0.10486156043578153,0.02031292340226094,-0.03245348892132293,0.020498591031839604,-0.07190607631177691],\"type\":\"scatter3d\"}],                        {\"template\":{\"data\":{\"histogram2dcontour\":[{\"type\":\"histogram2dcontour\",\"colorbar\":{\"outlinewidth\":0,\"ticks\":\"\"},\"colorscale\":[[0.0,\"#0d0887\"],[0.1111111111111111,\"#46039f\"],[0.2222222222222222,\"#7201a8\"],[0.3333333333333333,\"#9c179e\"],[0.4444444444444444,\"#bd3786\"],[0.5555555555555556,\"#d8576b\"],[0.6666666666666666,\"#ed7953\"],[0.7777777777777778,\"#fb9f3a\"],[0.8888888888888888,\"#fdca26\"],[1.0,\"#f0f921\"]]}],\"choropleth\":[{\"type\":\"choropleth\",\"colorbar\":{\"outlinewidth\":0,\"ticks\":\"\"}}],\"histogram2d\":[{\"type\":\"histogram2d\",\"colorbar\":{\"outlinewidth\":0,\"ticks\":\"\"},\"colorscale\":[[0.0,\"#0d0887\"],[0.1111111111111111,\"#46039f\"],[0.2222222222222222,\"#7201a8\"],[0.3333333333333333,\"#9c179e\"],[0.4444444444444444,\"#bd3786\"],[0.5555555555555556,\"#d8576b\"],[0.6666666666666666,\"#ed7953\"],[0.7777777777777778,\"#fb9f3a\"],[0.8888888888888888,\"#fdca26\"],[1.0,\"#f0f921\"]]}],\"heatmap\":[{\"type\":\"heatmap\",\"colorbar\":{\"outlinewidth\":0,\"ticks\":\"\"},\"colorscale\":[[0.0,\"#0d0887\"],[0.1111111111111111,\"#46039f\"],[0.2222222222222222,\"#7201a8\"],[0.3333333333333333,\"#9c179e\"],[0.4444444444444444,\"#bd3786\"],[0.5555555555555556,\"#d8576b\"],[0.6666666666666666,\"#ed7953\"],[0.7777777777777778,\"#fb9f3a\"],[0.8888888888888888,\"#fdca26\"],[1.0,\"#f0f921\"]]}],\"heatmapgl\":[{\"type\":\"heatmapgl\",\"colorbar\":{\"outlinewidth\":0,\"ticks\":\"\"},\"colorscale\":[[0.0,\"#0d0887\"],[0.1111111111111111,\"#46039f\"],[0.2222222222222222,\"#7201a8\"],[0.3333333333333333,\"#9c179e\"],[0.4444444444444444,\"#bd3786\"],[0.5555555555555556,\"#d8576b\"],[0.6666666666666666,\"#ed7953\"],[0.7777777777777778,\"#fb9f3a\"],[0.8888888888888888,\"#fdca26\"],[1.0,\"#f0f921\"]]}],\"contourcarpet\":[{\"type\":\"contourcarpet\",\"colorbar\":{\"outlinewidth\":0,\"ticks\":\"\"}}],\"contour\":[{\"type\":\"contour\",\"colorbar\":{\"outlinewidth\":0,\"ticks\":\"\"},\"colorscale\":[[0.0,\"#0d0887\"],[0.1111111111111111,\"#46039f\"],[0.2222222222222222,\"#7201a8\"],[0.3333333333333333,\"#9c179e\"],[0.4444444444444444,\"#bd3786\"],[0.5555555555555556,\"#d8576b\"],[0.6666666666666666,\"#ed7953\"],[0.7777777777777778,\"#fb9f3a\"],[0.8888888888888888,\"#fdca26\"],[1.0,\"#f0f921\"]]}],\"surface\":[{\"type\":\"surface\",\"colorbar\":{\"outlinewidth\":0,\"ticks\":\"\"},\"colorscale\":[[0.0,\"#0d0887\"],[0.1111111111111111,\"#46039f\"],[0.2222222222222222,\"#7201a8\"],[0.3333333333333333,\"#9c179e\"],[0.4444444444444444,\"#bd3786\"],[0.5555555555555556,\"#d8576b\"],[0.6666666666666666,\"#ed7953\"],[0.7777777777777778,\"#fb9f3a\"],[0.8888888888888888,\"#fdca26\"],[1.0,\"#f0f921\"]]}],\"mesh3d\":[{\"type\":\"mesh3d\",\"colorbar\":{\"outlinewidth\":0,\"ticks\":\"\"}}],\"scatter\":[{\"fillpattern\":{\"fillmode\":\"overlay\",\"size\":10,\"solidity\":0.2},\"type\":\"scatter\"}],\"parcoords\":[{\"type\":\"parcoords\",\"line\":{\"colorbar\":{\"outlinewidth\":0,\"ticks\":\"\"}}}],\"scatterpolargl\":[{\"type\":\"scatterpolargl\",\"marker\":{\"colorbar\":{\"outlinewidth\":0,\"ticks\":\"\"}}}],\"bar\":[{\"error_x\":{\"color\":\"#2a3f5f\"},\"error_y\":{\"color\":\"#2a3f5f\"},\"marker\":{\"line\":{\"color\":\"#E5ECF6\",\"width\":0.5},\"pattern\":{\"fillmode\":\"overlay\",\"size\":10,\"solidity\":0.2}},\"type\":\"bar\"}],\"scattergeo\":[{\"type\":\"scattergeo\",\"marker\":{\"colorbar\":{\"outlinewidth\":0,\"ticks\":\"\"}}}],\"scatterpolar\":[{\"type\":\"scatterpolar\",\"marker\":{\"colorbar\":{\"outlinewidth\":0,\"ticks\":\"\"}}}],\"histogram\":[{\"marker\":{\"pattern\":{\"fillmode\":\"overlay\",\"size\":10,\"solidity\":0.2}},\"type\":\"histogram\"}],\"scattergl\":[{\"type\":\"scattergl\",\"marker\":{\"colorbar\":{\"outlinewidth\":0,\"ticks\":\"\"}}}],\"scatter3d\":[{\"type\":\"scatter3d\",\"line\":{\"colorbar\":{\"outlinewidth\":0,\"ticks\":\"\"}},\"marker\":{\"colorbar\":{\"outlinewidth\":0,\"ticks\":\"\"}}}],\"scattermapbox\":[{\"type\":\"scattermapbox\",\"marker\":{\"colorbar\":{\"outlinewidth\":0,\"ticks\":\"\"}}}],\"scatterternary\":[{\"type\":\"scatterternary\",\"marker\":{\"colorbar\":{\"outlinewidth\":0,\"ticks\":\"\"}}}],\"scattercarpet\":[{\"type\":\"scattercarpet\",\"marker\":{\"colorbar\":{\"outlinewidth\":0,\"ticks\":\"\"}}}],\"carpet\":[{\"aaxis\":{\"endlinecolor\":\"#2a3f5f\",\"gridcolor\":\"white\",\"linecolor\":\"white\",\"minorgridcolor\":\"white\",\"startlinecolor\":\"#2a3f5f\"},\"baxis\":{\"endlinecolor\":\"#2a3f5f\",\"gridcolor\":\"white\",\"linecolor\":\"white\",\"minorgridcolor\":\"white\",\"startlinecolor\":\"#2a3f5f\"},\"type\":\"carpet\"}],\"table\":[{\"cells\":{\"fill\":{\"color\":\"#EBF0F8\"},\"line\":{\"color\":\"white\"}},\"header\":{\"fill\":{\"color\":\"#C8D4E3\"},\"line\":{\"color\":\"white\"}},\"type\":\"table\"}],\"barpolar\":[{\"marker\":{\"line\":{\"color\":\"#E5ECF6\",\"width\":0.5},\"pattern\":{\"fillmode\":\"overlay\",\"size\":10,\"solidity\":0.2}},\"type\":\"barpolar\"}],\"pie\":[{\"automargin\":true,\"type\":\"pie\"}]},\"layout\":{\"autotypenumbers\":\"strict\",\"colorway\":[\"#636efa\",\"#EF553B\",\"#00cc96\",\"#ab63fa\",\"#FFA15A\",\"#19d3f3\",\"#FF6692\",\"#B6E880\",\"#FF97FF\",\"#FECB52\"],\"font\":{\"color\":\"#2a3f5f\"},\"hovermode\":\"closest\",\"hoverlabel\":{\"align\":\"left\"},\"paper_bgcolor\":\"white\",\"plot_bgcolor\":\"#E5ECF6\",\"polar\":{\"bgcolor\":\"#E5ECF6\",\"angularaxis\":{\"gridcolor\":\"white\",\"linecolor\":\"white\",\"ticks\":\"\"},\"radialaxis\":{\"gridcolor\":\"white\",\"linecolor\":\"white\",\"ticks\":\"\"}},\"ternary\":{\"bgcolor\":\"#E5ECF6\",\"aaxis\":{\"gridcolor\":\"white\",\"linecolor\":\"white\",\"ticks\":\"\"},\"baxis\":{\"gridcolor\":\"white\",\"linecolor\":\"white\",\"ticks\":\"\"},\"caxis\":{\"gridcolor\":\"white\",\"linecolor\":\"white\",\"ticks\":\"\"}},\"coloraxis\":{\"colorbar\":{\"outlinewidth\":0,\"ticks\":\"\"}},\"colorscale\":{\"sequential\":[[0.0,\"#0d0887\"],[0.1111111111111111,\"#46039f\"],[0.2222222222222222,\"#7201a8\"],[0.3333333333333333,\"#9c179e\"],[0.4444444444444444,\"#bd3786\"],[0.5555555555555556,\"#d8576b\"],[0.6666666666666666,\"#ed7953\"],[0.7777777777777778,\"#fb9f3a\"],[0.8888888888888888,\"#fdca26\"],[1.0,\"#f0f921\"]],\"sequentialminus\":[[0.0,\"#0d0887\"],[0.1111111111111111,\"#46039f\"],[0.2222222222222222,\"#7201a8\"],[0.3333333333333333,\"#9c179e\"],[0.4444444444444444,\"#bd3786\"],[0.5555555555555556,\"#d8576b\"],[0.6666666666666666,\"#ed7953\"],[0.7777777777777778,\"#fb9f3a\"],[0.8888888888888888,\"#fdca26\"],[1.0,\"#f0f921\"]],\"diverging\":[[0,\"#8e0152\"],[0.1,\"#c51b7d\"],[0.2,\"#de77ae\"],[0.3,\"#f1b6da\"],[0.4,\"#fde0ef\"],[0.5,\"#f7f7f7\"],[0.6,\"#e6f5d0\"],[0.7,\"#b8e186\"],[0.8,\"#7fbc41\"],[0.9,\"#4d9221\"],[1,\"#276419\"]]},\"xaxis\":{\"gridcolor\":\"white\",\"linecolor\":\"white\",\"ticks\":\"\",\"title\":{\"standoff\":15},\"zerolinecolor\":\"white\",\"automargin\":true,\"zerolinewidth\":2},\"yaxis\":{\"gridcolor\":\"white\",\"linecolor\":\"white\",\"ticks\":\"\",\"title\":{\"standoff\":15},\"zerolinecolor\":\"white\",\"automargin\":true,\"zerolinewidth\":2},\"scene\":{\"xaxis\":{\"backgroundcolor\":\"#E5ECF6\",\"gridcolor\":\"white\",\"linecolor\":\"white\",\"showbackground\":true,\"ticks\":\"\",\"zerolinecolor\":\"white\",\"gridwidth\":2},\"yaxis\":{\"backgroundcolor\":\"#E5ECF6\",\"gridcolor\":\"white\",\"linecolor\":\"white\",\"showbackground\":true,\"ticks\":\"\",\"zerolinecolor\":\"white\",\"gridwidth\":2},\"zaxis\":{\"backgroundcolor\":\"#E5ECF6\",\"gridcolor\":\"white\",\"linecolor\":\"white\",\"showbackground\":true,\"ticks\":\"\",\"zerolinecolor\":\"white\",\"gridwidth\":2}},\"shapedefaults\":{\"line\":{\"color\":\"#2a3f5f\"}},\"annotationdefaults\":{\"arrowcolor\":\"#2a3f5f\",\"arrowhead\":0,\"arrowwidth\":1},\"geo\":{\"bgcolor\":\"white\",\"landcolor\":\"#E5ECF6\",\"subunitcolor\":\"white\",\"showland\":true,\"showlakes\":true,\"lakecolor\":\"white\"},\"title\":{\"x\":0.05},\"mapbox\":{\"style\":\"light\"}}},\"scene\":{\"domain\":{\"x\":[0.0,1.0],\"y\":[0.0,1.0]},\"xaxis\":{\"title\":{\"text\":\"X1_sq\"}},\"yaxis\":{\"title\":{\"text\":\"X2_sq\"}},\"zaxis\":{\"title\":{\"text\":\"X1xX2\"}}},\"coloraxis\":{\"colorbar\":{\"title\":{\"text\":\"y\"}},\"colorscale\":[[0.0,\"#0d0887\"],[0.1111111111111111,\"#46039f\"],[0.2222222222222222,\"#7201a8\"],[0.3333333333333333,\"#9c179e\"],[0.4444444444444444,\"#bd3786\"],[0.5555555555555556,\"#d8576b\"],[0.6666666666666666,\"#ed7953\"],[0.7777777777777778,\"#fb9f3a\"],[0.8888888888888888,\"#fdca26\"],[1.0,\"#f0f921\"]]},\"legend\":{\"tracegroupgap\":0},\"margin\":{\"t\":60}},                        {\"responsive\": true}                    ).then(function(){\n",
       "                            \n",
       "var gd = document.getElementById('219c3991-6ba3-4f25-b31a-b3bee27ae1eb');\n",
       "var x = new MutationObserver(function (mutations, observer) {{\n",
       "        var display = window.getComputedStyle(gd).display;\n",
       "        if (!display || display === 'none') {{\n",
       "            console.log([gd, 'removed!']);\n",
       "            Plotly.purge(gd);\n",
       "            observer.disconnect();\n",
       "        }}\n",
       "}});\n",
       "\n",
       "// Listen for the removal of the full notebook cells\n",
       "var notebookContainer = gd.closest('#notebook-container');\n",
       "if (notebookContainer) {{\n",
       "    x.observe(notebookContainer, {childList: true});\n",
       "}}\n",
       "\n",
       "// Listen for the clearing of the current output cell\n",
       "var outputEl = gd.closest('.output');\n",
       "if (outputEl) {{\n",
       "    x.observe(outputEl, {childList: true});\n",
       "}}\n",
       "\n",
       "                        })                };                });            </script>        </div>"
      ]
     },
     "metadata": {},
     "output_type": "display_data"
    }
   ],
   "source": [
    "px.scatter_3d(df, x=\"X1_sq\", y=\"X2_sq\", z=\"X1xX2\",color=df[\"y\"])"
   ]
  },
  {
   "cell_type": "code",
   "execution_count": 43,
   "id": "9363bf71-db42-41f4-9c39-799e96516a93",
   "metadata": {},
   "outputs": [],
   "source": [
    "X_tr3, X_te3, y_tr3, y_te3 = train_test_split(df[[\"X1_sq\", \"X2_sq\", \"X1xX2\"]], \n",
    "                                              df[\"y\"], train_size=0.75, random_state=43)"
   ]
  },
  {
   "cell_type": "code",
   "execution_count": 41,
   "id": "97b20ee2-e829-4cbf-8fb2-1375f03ce041",
   "metadata": {},
   "outputs": [],
   "source": [
    "svm3 = SVC(kernel=\"linear\")"
   ]
  },
  {
   "cell_type": "code",
   "execution_count": 28,
   "id": "8f4adb1a-f980-44e7-92d8-795315b5f1d8",
   "metadata": {},
   "outputs": [
    {
     "data": {
      "text/html": [
       "<style>#sk-container-id-3 {color: black;}#sk-container-id-3 pre{padding: 0;}#sk-container-id-3 div.sk-toggleable {background-color: white;}#sk-container-id-3 label.sk-toggleable__label {cursor: pointer;display: block;width: 100%;margin-bottom: 0;padding: 0.3em;box-sizing: border-box;text-align: center;}#sk-container-id-3 label.sk-toggleable__label-arrow:before {content: \"▸\";float: left;margin-right: 0.25em;color: #696969;}#sk-container-id-3 label.sk-toggleable__label-arrow:hover:before {color: black;}#sk-container-id-3 div.sk-estimator:hover label.sk-toggleable__label-arrow:before {color: black;}#sk-container-id-3 div.sk-toggleable__content {max-height: 0;max-width: 0;overflow: hidden;text-align: left;background-color: #f0f8ff;}#sk-container-id-3 div.sk-toggleable__content pre {margin: 0.2em;color: black;border-radius: 0.25em;background-color: #f0f8ff;}#sk-container-id-3 input.sk-toggleable__control:checked~div.sk-toggleable__content {max-height: 200px;max-width: 100%;overflow: auto;}#sk-container-id-3 input.sk-toggleable__control:checked~label.sk-toggleable__label-arrow:before {content: \"▾\";}#sk-container-id-3 div.sk-estimator input.sk-toggleable__control:checked~label.sk-toggleable__label {background-color: #d4ebff;}#sk-container-id-3 div.sk-label input.sk-toggleable__control:checked~label.sk-toggleable__label {background-color: #d4ebff;}#sk-container-id-3 input.sk-hidden--visually {border: 0;clip: rect(1px 1px 1px 1px);clip: rect(1px, 1px, 1px, 1px);height: 1px;margin: -1px;overflow: hidden;padding: 0;position: absolute;width: 1px;}#sk-container-id-3 div.sk-estimator {font-family: monospace;background-color: #f0f8ff;border: 1px dotted black;border-radius: 0.25em;box-sizing: border-box;margin-bottom: 0.5em;}#sk-container-id-3 div.sk-estimator:hover {background-color: #d4ebff;}#sk-container-id-3 div.sk-parallel-item::after {content: \"\";width: 100%;border-bottom: 1px solid gray;flex-grow: 1;}#sk-container-id-3 div.sk-label:hover label.sk-toggleable__label {background-color: #d4ebff;}#sk-container-id-3 div.sk-serial::before {content: \"\";position: absolute;border-left: 1px solid gray;box-sizing: border-box;top: 0;bottom: 0;left: 50%;z-index: 0;}#sk-container-id-3 div.sk-serial {display: flex;flex-direction: column;align-items: center;background-color: white;padding-right: 0.2em;padding-left: 0.2em;position: relative;}#sk-container-id-3 div.sk-item {position: relative;z-index: 1;}#sk-container-id-3 div.sk-parallel {display: flex;align-items: stretch;justify-content: center;background-color: white;position: relative;}#sk-container-id-3 div.sk-item::before, #sk-container-id-3 div.sk-parallel-item::before {content: \"\";position: absolute;border-left: 1px solid gray;box-sizing: border-box;top: 0;bottom: 0;left: 50%;z-index: -1;}#sk-container-id-3 div.sk-parallel-item {display: flex;flex-direction: column;z-index: 1;position: relative;background-color: white;}#sk-container-id-3 div.sk-parallel-item:first-child::after {align-self: flex-end;width: 50%;}#sk-container-id-3 div.sk-parallel-item:last-child::after {align-self: flex-start;width: 50%;}#sk-container-id-3 div.sk-parallel-item:only-child::after {width: 0;}#sk-container-id-3 div.sk-dashed-wrapped {border: 1px dashed gray;margin: 0 0.4em 0.5em 0.4em;box-sizing: border-box;padding-bottom: 0.4em;background-color: white;}#sk-container-id-3 div.sk-label label {font-family: monospace;font-weight: bold;display: inline-block;line-height: 1.2em;}#sk-container-id-3 div.sk-label-container {text-align: center;}#sk-container-id-3 div.sk-container {/* jupyter's `normalize.less` sets `[hidden] { display: none; }` but bootstrap.min.css set `[hidden] { display: none !important; }` so we also need the `!important` here to be able to override the default hidden behavior on the sphinx rendered scikit-learn.org. See: https://github.com/scikit-learn/scikit-learn/issues/21755 */display: inline-block !important;position: relative;}#sk-container-id-3 div.sk-text-repr-fallback {display: none;}</style><div id=\"sk-container-id-3\" class=\"sk-top-container\"><div class=\"sk-text-repr-fallback\"><pre>SVC(kernel=&#x27;linear&#x27;)</pre><b>In a Jupyter environment, please rerun this cell to show the HTML representation or trust the notebook. <br />On GitHub, the HTML representation is unable to render, please try loading this page with nbviewer.org.</b></div><div class=\"sk-container\" hidden><div class=\"sk-item\"><div class=\"sk-estimator sk-toggleable\"><input class=\"sk-toggleable__control sk-hidden--visually\" id=\"sk-estimator-id-3\" type=\"checkbox\" checked><label for=\"sk-estimator-id-3\" class=\"sk-toggleable__label sk-toggleable__label-arrow\">SVC</label><div class=\"sk-toggleable__content\"><pre>SVC(kernel=&#x27;linear&#x27;)</pre></div></div></div></div></div>"
      ],
      "text/plain": [
       "SVC(kernel='linear')"
      ]
     },
     "execution_count": 28,
     "metadata": {},
     "output_type": "execute_result"
    }
   ],
   "source": [
    "svm3.fit(X_tr3, y_tr3)"
   ]
  },
  {
   "cell_type": "code",
   "execution_count": 29,
   "id": "af6b9d9e-c694-401a-b650-9974eadd5dc8",
   "metadata": {},
   "outputs": [
    {
     "data": {
      "text/plain": [
       "array([0, 0, 0, 1, 0, 0, 1, 1, 0, 0, 1, 1, 0, 0, 1, 0, 1, 0, 0, 0, 1, 1,\n",
       "       0, 0, 0, 1, 1, 0, 1, 0, 0, 0, 0, 0, 0, 1, 1, 1, 1, 1, 0, 0, 0, 1,\n",
       "       1, 0, 1, 0, 0, 1], dtype=int64)"
      ]
     },
     "execution_count": 29,
     "metadata": {},
     "output_type": "execute_result"
    }
   ],
   "source": [
    "y_pred3 = svm3.predict(X_te3)\n",
    "y_pred3"
   ]
  },
  {
   "cell_type": "code",
   "execution_count": 30,
   "id": "2c393e36-2c08-4afc-b0c9-8d8986a5d111",
   "metadata": {},
   "outputs": [
    {
     "name": "stdout",
     "output_type": "stream",
     "text": [
      "Training Accuracy = 1.0\n"
     ]
    }
   ],
   "source": [
    "print(\"Training Accuracy = {}\".format(svm3.score(X_tr3, y_tr3)))"
   ]
  },
  {
   "cell_type": "code",
   "execution_count": 31,
   "id": "1c622daf-5a62-46e7-bcd7-14e0c8090a37",
   "metadata": {},
   "outputs": [
    {
     "name": "stdout",
     "output_type": "stream",
     "text": [
      "Testing Accuracy = 1.0\n"
     ]
    }
   ],
   "source": [
    "print(\"Testing Accuracy = {}\".format(accuracy_score(y_te3, y_pred3)))"
   ]
  },
  {
   "cell_type": "code",
   "execution_count": 32,
   "id": "a0ecbc57-612e-4af9-8f07-adcc3fa22c65",
   "metadata": {},
   "outputs": [],
   "source": [
    "svm4 = SVC(kernel=\"poly\", C=3.0, degree=2)"
   ]
  },
  {
   "cell_type": "code",
   "execution_count": 33,
   "id": "7ad234dc-1955-4608-80f2-298747dc75f5",
   "metadata": {},
   "outputs": [
    {
     "data": {
      "text/html": [
       "<style>#sk-container-id-4 {color: black;}#sk-container-id-4 pre{padding: 0;}#sk-container-id-4 div.sk-toggleable {background-color: white;}#sk-container-id-4 label.sk-toggleable__label {cursor: pointer;display: block;width: 100%;margin-bottom: 0;padding: 0.3em;box-sizing: border-box;text-align: center;}#sk-container-id-4 label.sk-toggleable__label-arrow:before {content: \"▸\";float: left;margin-right: 0.25em;color: #696969;}#sk-container-id-4 label.sk-toggleable__label-arrow:hover:before {color: black;}#sk-container-id-4 div.sk-estimator:hover label.sk-toggleable__label-arrow:before {color: black;}#sk-container-id-4 div.sk-toggleable__content {max-height: 0;max-width: 0;overflow: hidden;text-align: left;background-color: #f0f8ff;}#sk-container-id-4 div.sk-toggleable__content pre {margin: 0.2em;color: black;border-radius: 0.25em;background-color: #f0f8ff;}#sk-container-id-4 input.sk-toggleable__control:checked~div.sk-toggleable__content {max-height: 200px;max-width: 100%;overflow: auto;}#sk-container-id-4 input.sk-toggleable__control:checked~label.sk-toggleable__label-arrow:before {content: \"▾\";}#sk-container-id-4 div.sk-estimator input.sk-toggleable__control:checked~label.sk-toggleable__label {background-color: #d4ebff;}#sk-container-id-4 div.sk-label input.sk-toggleable__control:checked~label.sk-toggleable__label {background-color: #d4ebff;}#sk-container-id-4 input.sk-hidden--visually {border: 0;clip: rect(1px 1px 1px 1px);clip: rect(1px, 1px, 1px, 1px);height: 1px;margin: -1px;overflow: hidden;padding: 0;position: absolute;width: 1px;}#sk-container-id-4 div.sk-estimator {font-family: monospace;background-color: #f0f8ff;border: 1px dotted black;border-radius: 0.25em;box-sizing: border-box;margin-bottom: 0.5em;}#sk-container-id-4 div.sk-estimator:hover {background-color: #d4ebff;}#sk-container-id-4 div.sk-parallel-item::after {content: \"\";width: 100%;border-bottom: 1px solid gray;flex-grow: 1;}#sk-container-id-4 div.sk-label:hover label.sk-toggleable__label {background-color: #d4ebff;}#sk-container-id-4 div.sk-serial::before {content: \"\";position: absolute;border-left: 1px solid gray;box-sizing: border-box;top: 0;bottom: 0;left: 50%;z-index: 0;}#sk-container-id-4 div.sk-serial {display: flex;flex-direction: column;align-items: center;background-color: white;padding-right: 0.2em;padding-left: 0.2em;position: relative;}#sk-container-id-4 div.sk-item {position: relative;z-index: 1;}#sk-container-id-4 div.sk-parallel {display: flex;align-items: stretch;justify-content: center;background-color: white;position: relative;}#sk-container-id-4 div.sk-item::before, #sk-container-id-4 div.sk-parallel-item::before {content: \"\";position: absolute;border-left: 1px solid gray;box-sizing: border-box;top: 0;bottom: 0;left: 50%;z-index: -1;}#sk-container-id-4 div.sk-parallel-item {display: flex;flex-direction: column;z-index: 1;position: relative;background-color: white;}#sk-container-id-4 div.sk-parallel-item:first-child::after {align-self: flex-end;width: 50%;}#sk-container-id-4 div.sk-parallel-item:last-child::after {align-self: flex-start;width: 50%;}#sk-container-id-4 div.sk-parallel-item:only-child::after {width: 0;}#sk-container-id-4 div.sk-dashed-wrapped {border: 1px dashed gray;margin: 0 0.4em 0.5em 0.4em;box-sizing: border-box;padding-bottom: 0.4em;background-color: white;}#sk-container-id-4 div.sk-label label {font-family: monospace;font-weight: bold;display: inline-block;line-height: 1.2em;}#sk-container-id-4 div.sk-label-container {text-align: center;}#sk-container-id-4 div.sk-container {/* jupyter's `normalize.less` sets `[hidden] { display: none; }` but bootstrap.min.css set `[hidden] { display: none !important; }` so we also need the `!important` here to be able to override the default hidden behavior on the sphinx rendered scikit-learn.org. See: https://github.com/scikit-learn/scikit-learn/issues/21755 */display: inline-block !important;position: relative;}#sk-container-id-4 div.sk-text-repr-fallback {display: none;}</style><div id=\"sk-container-id-4\" class=\"sk-top-container\"><div class=\"sk-text-repr-fallback\"><pre>SVC(C=3.0, degree=2, kernel=&#x27;poly&#x27;)</pre><b>In a Jupyter environment, please rerun this cell to show the HTML representation or trust the notebook. <br />On GitHub, the HTML representation is unable to render, please try loading this page with nbviewer.org.</b></div><div class=\"sk-container\" hidden><div class=\"sk-item\"><div class=\"sk-estimator sk-toggleable\"><input class=\"sk-toggleable__control sk-hidden--visually\" id=\"sk-estimator-id-4\" type=\"checkbox\" checked><label for=\"sk-estimator-id-4\" class=\"sk-toggleable__label sk-toggleable__label-arrow\">SVC</label><div class=\"sk-toggleable__content\"><pre>SVC(C=3.0, degree=2, kernel=&#x27;poly&#x27;)</pre></div></div></div></div></div>"
      ],
      "text/plain": [
       "SVC(C=3.0, degree=2, kernel='poly')"
      ]
     },
     "execution_count": 33,
     "metadata": {},
     "output_type": "execute_result"
    }
   ],
   "source": [
    "svm4.fit(X_tr2, y_tr2)"
   ]
  },
  {
   "cell_type": "code",
   "execution_count": 34,
   "id": "dc40ea7f-dd7f-4afd-b16a-3e17217f98c9",
   "metadata": {},
   "outputs": [
    {
     "data": {
      "text/plain": [
       "array([0, 0, 0, 1, 0, 0, 1, 1, 0, 0, 1, 1, 0, 0, 1, 0, 1, 0, 0, 0, 1, 1,\n",
       "       0, 0, 0, 1, 1, 0, 1, 0, 0, 0, 0, 0, 0, 1, 1, 1, 1, 1, 0, 0, 0, 1,\n",
       "       1, 0, 1, 0, 0, 1], dtype=int64)"
      ]
     },
     "execution_count": 34,
     "metadata": {},
     "output_type": "execute_result"
    }
   ],
   "source": [
    "y_pred4 = svm4.predict(X_te2)\n",
    "y_pred4"
   ]
  },
  {
   "cell_type": "code",
   "execution_count": 35,
   "id": "78475619-a3c5-472b-a2c9-a7cfecaed2a5",
   "metadata": {},
   "outputs": [
    {
     "name": "stdout",
     "output_type": "stream",
     "text": [
      "Training Accuracy = 1.0\n"
     ]
    }
   ],
   "source": [
    "print(\"Training Accuracy = {}\".format(svm4.score(X_tr2, y_tr2)))"
   ]
  },
  {
   "cell_type": "code",
   "execution_count": 36,
   "id": "6e0b3693-c6c0-4af0-98ab-f45c65092878",
   "metadata": {},
   "outputs": [
    {
     "name": "stdout",
     "output_type": "stream",
     "text": [
      "Testing Accuracy = 1.0\n"
     ]
    }
   ],
   "source": [
    "print(\"Testing Accuracy = {}\".format(accuracy_score(y_te2, y_pred4)))"
   ]
  },
  {
   "cell_type": "code",
   "execution_count": 37,
   "id": "934a1d54-f627-475c-b3d7-67aa0bacef87",
   "metadata": {},
   "outputs": [
    {
     "data": {
      "text/plain": [
       "array([[ 0.39038591, -0.82485635],\n",
       "       [ 0.83558359,  0.32672271],\n",
       "       [ 0.43439637, -0.34832408],\n",
       "       [-0.27134696, -0.43147358]])"
      ]
     },
     "execution_count": 37,
     "metadata": {},
     "output_type": "execute_result"
    }
   ],
   "source": [
    "svm4.support_vectors_"
   ]
  },
  {
   "cell_type": "code",
   "execution_count": 38,
   "id": "bbb0f632-90af-4cf3-a778-3e3c4242737f",
   "metadata": {},
   "outputs": [
    {
     "data": {
      "text/plain": [
       "array([[ 1.52401157e-01,  6.80387991e-01, -3.22012293e-01],\n",
       "       [ 7.31825587e-01,  1.62594263e-01, -3.44950202e-01],\n",
       "       [ 8.62374526e-01,  1.63923558e-03,  3.75983379e-02],\n",
       "       [ 2.85351587e-01,  5.94811391e-01, -4.11983464e-01],\n",
       "       [ 2.43984257e-01,  6.26251661e-01,  3.90890709e-01],\n",
       "       [ 8.25577708e-01,  8.36008066e-02,  2.62714602e-01],\n",
       "       [ 1.29345933e-02,  8.78133479e-01,  1.06575323e-01],\n",
       "       [ 9.77176826e-03,  8.62188616e-01,  9.17883835e-02],\n",
       "       [ 6.98199944e-01,  1.06747731e-01,  2.73004139e-01],\n",
       "       [ 8.66190686e-01,  3.69491945e-02, -1.78899548e-01],\n",
       "       [ 2.11978389e-01,  6.92698262e-01,  3.83193243e-01],\n",
       "       [ 2.08912245e-01,  1.57155073e-02,  5.72988823e-02],\n",
       "       [ 4.97301936e-02,  1.82299252e-01,  9.52143744e-02],\n",
       "       [ 1.99759691e-01,  1.59204912e-02, -5.63939040e-02],\n",
       "       [ 5.10618600e-03,  2.05808081e-01,  3.24175006e-02],\n",
       "       [ 1.88700203e-01,  1.21329665e-01, -1.51310715e-01],\n",
       "       [ 2.72489177e-01,  2.36863156e-03,  2.54052448e-02],\n",
       "       [ 1.84372263e-01,  3.83641285e-02,  8.41028013e-02],\n",
       "       [ 7.36291749e-02,  1.86169447e-01,  1.17079045e-01],\n",
       "       [ 1.10661266e-02,  2.00615758e-01,  4.71172938e-02],\n",
       "       [ 2.51904161e-01,  5.06873583e-05, -3.57328371e-03]])"
      ]
     },
     "execution_count": 38,
     "metadata": {},
     "output_type": "execute_result"
    }
   ],
   "source": [
    "svm3.support_vectors_"
   ]
  },
  {
   "cell_type": "code",
   "execution_count": 39,
   "id": "22e5ba95-465e-476b-8091-4595af6a9353",
   "metadata": {},
   "outputs": [],
   "source": [
    "new_df = df[[\"X1\", \"X2\", \"y\"]]"
   ]
  },
  {
   "cell_type": "code",
   "execution_count": 40,
   "id": "f1691082-c391-46cd-a069-fe35f49988dd",
   "metadata": {},
   "outputs": [
    {
     "data": {
      "text/html": [
       "<div>\n",
       "<style scoped>\n",
       "    .dataframe tbody tr th:only-of-type {\n",
       "        vertical-align: middle;\n",
       "    }\n",
       "\n",
       "    .dataframe tbody tr th {\n",
       "        vertical-align: top;\n",
       "    }\n",
       "\n",
       "    .dataframe thead th {\n",
       "        text-align: right;\n",
       "    }\n",
       "</style>\n",
       "<table border=\"1\" class=\"dataframe\">\n",
       "  <thead>\n",
       "    <tr style=\"text-align: right;\">\n",
       "      <th></th>\n",
       "      <th>X1</th>\n",
       "      <th>X2</th>\n",
       "      <th>y</th>\n",
       "    </tr>\n",
       "  </thead>\n",
       "  <tbody>\n",
       "    <tr>\n",
       "      <th>0</th>\n",
       "      <td>0.312217</td>\n",
       "      <td>0.256426</td>\n",
       "      <td>1</td>\n",
       "    </tr>\n",
       "    <tr>\n",
       "      <th>1</th>\n",
       "      <td>0.294072</td>\n",
       "      <td>-0.276860</td>\n",
       "      <td>1</td>\n",
       "    </tr>\n",
       "    <tr>\n",
       "      <th>2</th>\n",
       "      <td>-0.448967</td>\n",
       "      <td>0.181048</td>\n",
       "      <td>1</td>\n",
       "    </tr>\n",
       "    <tr>\n",
       "      <th>3</th>\n",
       "      <td>0.930694</td>\n",
       "      <td>-0.192222</td>\n",
       "      <td>0</td>\n",
       "    </tr>\n",
       "    <tr>\n",
       "      <th>4</th>\n",
       "      <td>-0.813945</td>\n",
       "      <td>0.686773</td>\n",
       "      <td>0</td>\n",
       "    </tr>\n",
       "    <tr>\n",
       "      <th>...</th>\n",
       "      <td>...</td>\n",
       "      <td>...</td>\n",
       "      <td>...</td>\n",
       "    </tr>\n",
       "    <tr>\n",
       "      <th>195</th>\n",
       "      <td>-1.027360</td>\n",
       "      <td>0.069346</td>\n",
       "      <td>0</td>\n",
       "    </tr>\n",
       "    <tr>\n",
       "      <th>196</th>\n",
       "      <td>0.429386</td>\n",
       "      <td>0.195868</td>\n",
       "      <td>1</td>\n",
       "    </tr>\n",
       "    <tr>\n",
       "      <th>197</th>\n",
       "      <td>-0.908613</td>\n",
       "      <td>-0.289138</td>\n",
       "      <td>0</td>\n",
       "    </tr>\n",
       "    <tr>\n",
       "      <th>198</th>\n",
       "      <td>0.717448</td>\n",
       "      <td>0.747570</td>\n",
       "      <td>0</td>\n",
       "    </tr>\n",
       "    <tr>\n",
       "      <th>199</th>\n",
       "      <td>-0.449846</td>\n",
       "      <td>0.019110</td>\n",
       "      <td>1</td>\n",
       "    </tr>\n",
       "  </tbody>\n",
       "</table>\n",
       "<p>200 rows × 3 columns</p>\n",
       "</div>"
      ],
      "text/plain": [
       "           X1        X2  y\n",
       "0    0.312217  0.256426  1\n",
       "1    0.294072 -0.276860  1\n",
       "2   -0.448967  0.181048  1\n",
       "3    0.930694 -0.192222  0\n",
       "4   -0.813945  0.686773  0\n",
       "..        ...       ... ..\n",
       "195 -1.027360  0.069346  0\n",
       "196  0.429386  0.195868  1\n",
       "197 -0.908613 -0.289138  0\n",
       "198  0.717448  0.747570  0\n",
       "199 -0.449846  0.019110  1\n",
       "\n",
       "[200 rows x 3 columns]"
      ]
     },
     "execution_count": 40,
     "metadata": {},
     "output_type": "execute_result"
    }
   ],
   "source": [
    "new_df"
   ]
  },
  {
   "cell_type": "code",
   "execution_count": 41,
   "id": "1391889c-500a-437b-96bc-c1f134cae6f2",
   "metadata": {},
   "outputs": [],
   "source": [
    "svm5 = SVC(kernel=\"rbf\", C=4.0)"
   ]
  },
  {
   "cell_type": "code",
   "execution_count": 47,
   "id": "e8aee36f-afda-4cf9-bf64-4f69791aac46",
   "metadata": {},
   "outputs": [
    {
     "ename": "NameError",
     "evalue": "name 'svm5' is not defined",
     "output_type": "error",
     "traceback": [
      "\u001b[1;31m---------------------------------------------------------------------------\u001b[0m",
      "\u001b[1;31mNameError\u001b[0m                                 Traceback (most recent call last)",
      "Cell \u001b[1;32mIn[47], line 1\u001b[0m\n\u001b[1;32m----> 1\u001b[0m \u001b[43msvm5\u001b[49m\u001b[38;5;241m.\u001b[39mfit(X_tr2, y_tr2)\n",
      "\u001b[1;31mNameError\u001b[0m: name 'svm5' is not defined"
     ]
    }
   ],
   "source": [
    "svm5.fit(X_tr2, y_tr2)\n"
   ]
  },
  {
   "cell_type": "code",
   "execution_count": 48,
   "id": "ffcf4516-ade3-4468-8fa7-702e14212037",
   "metadata": {},
   "outputs": [
    {
     "ename": "NameError",
     "evalue": "name 'svm5' is not defined",
     "output_type": "error",
     "traceback": [
      "\u001b[1;31m---------------------------------------------------------------------------\u001b[0m",
      "\u001b[1;31mNameError\u001b[0m                                 Traceback (most recent call last)",
      "Cell \u001b[1;32mIn[48], line 1\u001b[0m\n\u001b[1;32m----> 1\u001b[0m \u001b[38;5;28mprint\u001b[39m(\u001b[38;5;124m\"\u001b[39m\u001b[38;5;124mTraining Accuracy = \u001b[39m\u001b[38;5;132;01m{}\u001b[39;00m\u001b[38;5;124m\"\u001b[39m\u001b[38;5;241m.\u001b[39mformat(\u001b[43msvm5\u001b[49m\u001b[38;5;241m.\u001b[39mscore(X_tr2, y_tr2)))\n",
      "\u001b[1;31mNameError\u001b[0m: name 'svm5' is not defined"
     ]
    }
   ],
   "source": [
    "print(\"Training Accuracy = {}\".format(svm5.score(X_tr2, y_tr2)))"
   ]
  },
  {
   "cell_type": "code",
   "execution_count": 44,
   "id": "6f56b6a7-9535-4012-ab84-3a690d03feca",
   "metadata": {},
   "outputs": [],
   "source": [
    "y_pred5 = svm5.predict(X_te2)"
   ]
  },
  {
   "cell_type": "code",
   "execution_count": 45,
   "id": "a65f9dcf-a000-46db-a82a-1ea768580f63",
   "metadata": {},
   "outputs": [
    {
     "name": "stdout",
     "output_type": "stream",
     "text": [
      "Testing Accuracy = 1.0\n"
     ]
    }
   ],
   "source": [
    "print(\"Testing Accuracy = {}\".format(accuracy_score(y_te2, y_pred5)))"
   ]
  },
  {
   "cell_type": "code",
   "execution_count": null,
   "id": "e000ea18-4d80-4d09-a1a1-729330e13f92",
   "metadata": {},
   "outputs": [],
   "source": []
  }
 ],
 "metadata": {
  "kernelspec": {
   "display_name": "Python 3 (ipykernel)",
   "language": "python",
   "name": "python3"
  },
  "language_info": {
   "codemirror_mode": {
    "name": "ipython",
    "version": 3
   },
   "file_extension": ".py",
   "mimetype": "text/x-python",
   "name": "python",
   "nbconvert_exporter": "python",
   "pygments_lexer": "ipython3",
   "version": "3.11.4"
  }
 },
 "nbformat": 4,
 "nbformat_minor": 5
}
