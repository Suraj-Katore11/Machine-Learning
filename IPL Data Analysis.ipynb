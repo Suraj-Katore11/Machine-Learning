{
 "cells": [
  {
   "cell_type": "code",
   "execution_count": 1,
   "id": "ae34a58c-0932-4ccf-a2fe-3415477a4560",
   "metadata": {},
   "outputs": [],
   "source": [
    "import pandas as pd\n",
    "import numpy as np\n",
    "import matplotlib.pyplot as plt\n",
    "import seaborn as sns\n",
    "import warnings\n",
    "warnings.filterwarnings(\"ignore\")"
   ]
  },
  {
   "cell_type": "code",
   "execution_count": 2,
   "id": "c2ef9797-598c-4447-9735-2487c429f3ee",
   "metadata": {},
   "outputs": [],
   "source": [
    "df = pd.read_csv(\"deliveries.csv\")"
   ]
  },
  {
   "cell_type": "code",
   "execution_count": 3,
   "id": "9c9cb300-0f8a-46cc-a083-e2134928ba7f",
   "metadata": {},
   "outputs": [
    {
     "data": {
      "text/html": [
       "<div>\n",
       "<style scoped>\n",
       "    .dataframe tbody tr th:only-of-type {\n",
       "        vertical-align: middle;\n",
       "    }\n",
       "\n",
       "    .dataframe tbody tr th {\n",
       "        vertical-align: top;\n",
       "    }\n",
       "\n",
       "    .dataframe thead th {\n",
       "        text-align: right;\n",
       "    }\n",
       "</style>\n",
       "<table border=\"1\" class=\"dataframe\">\n",
       "  <thead>\n",
       "    <tr style=\"text-align: right;\">\n",
       "      <th></th>\n",
       "      <th>match_id</th>\n",
       "      <th>season</th>\n",
       "      <th>start_date</th>\n",
       "      <th>venue</th>\n",
       "      <th>innings</th>\n",
       "      <th>ball</th>\n",
       "      <th>batting_team</th>\n",
       "      <th>bowling_team</th>\n",
       "      <th>striker</th>\n",
       "      <th>non_striker</th>\n",
       "      <th>...</th>\n",
       "      <th>extras</th>\n",
       "      <th>wides</th>\n",
       "      <th>noballs</th>\n",
       "      <th>byes</th>\n",
       "      <th>legbyes</th>\n",
       "      <th>penalty</th>\n",
       "      <th>wicket_type</th>\n",
       "      <th>player_dismissed</th>\n",
       "      <th>other_wicket_type</th>\n",
       "      <th>other_player_dismissed</th>\n",
       "    </tr>\n",
       "  </thead>\n",
       "  <tbody>\n",
       "    <tr>\n",
       "      <th>0</th>\n",
       "      <td>1359475</td>\n",
       "      <td>2023</td>\n",
       "      <td>2023-03-31</td>\n",
       "      <td>Narendra Modi Stadium, Ahmedabad</td>\n",
       "      <td>1</td>\n",
       "      <td>0.1</td>\n",
       "      <td>Chennai Super Kings</td>\n",
       "      <td>Gujarat Titans</td>\n",
       "      <td>DP Conway</td>\n",
       "      <td>RD Gaikwad</td>\n",
       "      <td>...</td>\n",
       "      <td>0</td>\n",
       "      <td>NaN</td>\n",
       "      <td>NaN</td>\n",
       "      <td>NaN</td>\n",
       "      <td>NaN</td>\n",
       "      <td>NaN</td>\n",
       "      <td>NaN</td>\n",
       "      <td>NaN</td>\n",
       "      <td>NaN</td>\n",
       "      <td>NaN</td>\n",
       "    </tr>\n",
       "    <tr>\n",
       "      <th>1</th>\n",
       "      <td>1359475</td>\n",
       "      <td>2023</td>\n",
       "      <td>2023-03-31</td>\n",
       "      <td>Narendra Modi Stadium, Ahmedabad</td>\n",
       "      <td>1</td>\n",
       "      <td>0.2</td>\n",
       "      <td>Chennai Super Kings</td>\n",
       "      <td>Gujarat Titans</td>\n",
       "      <td>DP Conway</td>\n",
       "      <td>RD Gaikwad</td>\n",
       "      <td>...</td>\n",
       "      <td>1</td>\n",
       "      <td>NaN</td>\n",
       "      <td>NaN</td>\n",
       "      <td>NaN</td>\n",
       "      <td>1.0</td>\n",
       "      <td>NaN</td>\n",
       "      <td>NaN</td>\n",
       "      <td>NaN</td>\n",
       "      <td>NaN</td>\n",
       "      <td>NaN</td>\n",
       "    </tr>\n",
       "    <tr>\n",
       "      <th>2</th>\n",
       "      <td>1359475</td>\n",
       "      <td>2023</td>\n",
       "      <td>2023-03-31</td>\n",
       "      <td>Narendra Modi Stadium, Ahmedabad</td>\n",
       "      <td>1</td>\n",
       "      <td>0.3</td>\n",
       "      <td>Chennai Super Kings</td>\n",
       "      <td>Gujarat Titans</td>\n",
       "      <td>RD Gaikwad</td>\n",
       "      <td>DP Conway</td>\n",
       "      <td>...</td>\n",
       "      <td>0</td>\n",
       "      <td>NaN</td>\n",
       "      <td>NaN</td>\n",
       "      <td>NaN</td>\n",
       "      <td>NaN</td>\n",
       "      <td>NaN</td>\n",
       "      <td>NaN</td>\n",
       "      <td>NaN</td>\n",
       "      <td>NaN</td>\n",
       "      <td>NaN</td>\n",
       "    </tr>\n",
       "    <tr>\n",
       "      <th>3</th>\n",
       "      <td>1359475</td>\n",
       "      <td>2023</td>\n",
       "      <td>2023-03-31</td>\n",
       "      <td>Narendra Modi Stadium, Ahmedabad</td>\n",
       "      <td>1</td>\n",
       "      <td>0.4</td>\n",
       "      <td>Chennai Super Kings</td>\n",
       "      <td>Gujarat Titans</td>\n",
       "      <td>RD Gaikwad</td>\n",
       "      <td>DP Conway</td>\n",
       "      <td>...</td>\n",
       "      <td>0</td>\n",
       "      <td>NaN</td>\n",
       "      <td>NaN</td>\n",
       "      <td>NaN</td>\n",
       "      <td>NaN</td>\n",
       "      <td>NaN</td>\n",
       "      <td>NaN</td>\n",
       "      <td>NaN</td>\n",
       "      <td>NaN</td>\n",
       "      <td>NaN</td>\n",
       "    </tr>\n",
       "    <tr>\n",
       "      <th>4</th>\n",
       "      <td>1359475</td>\n",
       "      <td>2023</td>\n",
       "      <td>2023-03-31</td>\n",
       "      <td>Narendra Modi Stadium, Ahmedabad</td>\n",
       "      <td>1</td>\n",
       "      <td>0.5</td>\n",
       "      <td>Chennai Super Kings</td>\n",
       "      <td>Gujarat Titans</td>\n",
       "      <td>DP Conway</td>\n",
       "      <td>RD Gaikwad</td>\n",
       "      <td>...</td>\n",
       "      <td>0</td>\n",
       "      <td>NaN</td>\n",
       "      <td>NaN</td>\n",
       "      <td>NaN</td>\n",
       "      <td>NaN</td>\n",
       "      <td>NaN</td>\n",
       "      <td>NaN</td>\n",
       "      <td>NaN</td>\n",
       "      <td>NaN</td>\n",
       "      <td>NaN</td>\n",
       "    </tr>\n",
       "  </tbody>\n",
       "</table>\n",
       "<p>5 rows × 22 columns</p>\n",
       "</div>"
      ],
      "text/plain": [
       "   match_id  season  start_date                             venue  innings  \\\n",
       "0   1359475    2023  2023-03-31  Narendra Modi Stadium, Ahmedabad        1   \n",
       "1   1359475    2023  2023-03-31  Narendra Modi Stadium, Ahmedabad        1   \n",
       "2   1359475    2023  2023-03-31  Narendra Modi Stadium, Ahmedabad        1   \n",
       "3   1359475    2023  2023-03-31  Narendra Modi Stadium, Ahmedabad        1   \n",
       "4   1359475    2023  2023-03-31  Narendra Modi Stadium, Ahmedabad        1   \n",
       "\n",
       "   ball         batting_team    bowling_team     striker non_striker  ...  \\\n",
       "0   0.1  Chennai Super Kings  Gujarat Titans   DP Conway  RD Gaikwad  ...   \n",
       "1   0.2  Chennai Super Kings  Gujarat Titans   DP Conway  RD Gaikwad  ...   \n",
       "2   0.3  Chennai Super Kings  Gujarat Titans  RD Gaikwad   DP Conway  ...   \n",
       "3   0.4  Chennai Super Kings  Gujarat Titans  RD Gaikwad   DP Conway  ...   \n",
       "4   0.5  Chennai Super Kings  Gujarat Titans   DP Conway  RD Gaikwad  ...   \n",
       "\n",
       "  extras  wides  noballs  byes  legbyes  penalty  wicket_type  \\\n",
       "0      0    NaN      NaN   NaN      NaN      NaN          NaN   \n",
       "1      1    NaN      NaN   NaN      1.0      NaN          NaN   \n",
       "2      0    NaN      NaN   NaN      NaN      NaN          NaN   \n",
       "3      0    NaN      NaN   NaN      NaN      NaN          NaN   \n",
       "4      0    NaN      NaN   NaN      NaN      NaN          NaN   \n",
       "\n",
       "   player_dismissed other_wicket_type other_player_dismissed  \n",
       "0               NaN               NaN                    NaN  \n",
       "1               NaN               NaN                    NaN  \n",
       "2               NaN               NaN                    NaN  \n",
       "3               NaN               NaN                    NaN  \n",
       "4               NaN               NaN                    NaN  \n",
       "\n",
       "[5 rows x 22 columns]"
      ]
     },
     "execution_count": 3,
     "metadata": {},
     "output_type": "execute_result"
    }
   ],
   "source": [
    "df.head()"
   ]
  },
  {
   "cell_type": "code",
   "execution_count": 4,
   "id": "d6b9f45b-321c-4e9b-a57c-ee93c51e30a9",
   "metadata": {},
   "outputs": [
    {
     "name": "stdout",
     "output_type": "stream",
     "text": [
      "<class 'pandas.core.frame.DataFrame'>\n",
      "RangeIndex: 17863 entries, 0 to 17862\n",
      "Data columns (total 22 columns):\n",
      " #   Column                  Non-Null Count  Dtype  \n",
      "---  ------                  --------------  -----  \n",
      " 0   match_id                17863 non-null  int64  \n",
      " 1   season                  17863 non-null  int64  \n",
      " 2   start_date              17863 non-null  object \n",
      " 3   venue                   17863 non-null  object \n",
      " 4   innings                 17863 non-null  int64  \n",
      " 5   ball                    17863 non-null  float64\n",
      " 6   batting_team            17863 non-null  object \n",
      " 7   bowling_team            17863 non-null  object \n",
      " 8   striker                 17863 non-null  object \n",
      " 9   non_striker             17863 non-null  object \n",
      " 10  bowler                  17863 non-null  object \n",
      " 11  runs_off_bat            17863 non-null  int64  \n",
      " 12  extras                  17863 non-null  int64  \n",
      " 13  wides                   626 non-null    float64\n",
      " 14  noballs                 100 non-null    float64\n",
      " 15  byes                    45 non-null     float64\n",
      " 16  legbyes                 247 non-null    float64\n",
      " 17  penalty                 0 non-null      float64\n",
      " 18  wicket_type             916 non-null    object \n",
      " 19  player_dismissed        916 non-null    object \n",
      " 20  other_wicket_type       0 non-null      float64\n",
      " 21  other_player_dismissed  0 non-null      float64\n",
      "dtypes: float64(8), int64(5), object(9)\n",
      "memory usage: 3.0+ MB\n"
     ]
    }
   ],
   "source": [
    "df.info()"
   ]
  },
  {
   "cell_type": "code",
   "execution_count": 5,
   "id": "cf383cc5-b663-419c-a771-97c254d9bada",
   "metadata": {},
   "outputs": [
    {
     "data": {
      "text/plain": [
       "season\n",
       "2023    17863\n",
       "Name: count, dtype: int64"
      ]
     },
     "execution_count": 5,
     "metadata": {},
     "output_type": "execute_result"
    }
   ],
   "source": [
    "df[\"season\"].value_counts()"
   ]
  },
  {
   "cell_type": "code",
   "execution_count": 6,
   "id": "ae206449-ee2a-44ca-ad8f-b2dee04ddc9c",
   "metadata": {},
   "outputs": [],
   "source": [
    "df.drop(columns=[\"season\", \"penalty\", \"other_wicket_type\", \"other_player_dismissed\"], inplace=True)"
   ]
  },
  {
   "cell_type": "code",
   "execution_count": 7,
   "id": "60834e62-181d-43f9-9f60-151eb54bc805",
   "metadata": {},
   "outputs": [],
   "source": [
    "df[\"total_runs\"] = df[\"runs_off_bat\"]+df[\"extras\"]"
   ]
  },
  {
   "cell_type": "code",
   "execution_count": 8,
   "id": "bad94e31-7fb5-416a-adcd-1a5b1ee68a17",
   "metadata": {
    "scrolled": true
   },
   "outputs": [
    {
     "data": {
      "text/html": [
       "<div>\n",
       "<style scoped>\n",
       "    .dataframe tbody tr th:only-of-type {\n",
       "        vertical-align: middle;\n",
       "    }\n",
       "\n",
       "    .dataframe tbody tr th {\n",
       "        vertical-align: top;\n",
       "    }\n",
       "\n",
       "    .dataframe thead th {\n",
       "        text-align: right;\n",
       "    }\n",
       "</style>\n",
       "<table border=\"1\" class=\"dataframe\">\n",
       "  <thead>\n",
       "    <tr style=\"text-align: right;\">\n",
       "      <th></th>\n",
       "      <th>match_id</th>\n",
       "      <th>start_date</th>\n",
       "      <th>venue</th>\n",
       "      <th>innings</th>\n",
       "      <th>ball</th>\n",
       "      <th>batting_team</th>\n",
       "      <th>bowling_team</th>\n",
       "      <th>striker</th>\n",
       "      <th>non_striker</th>\n",
       "      <th>bowler</th>\n",
       "      <th>runs_off_bat</th>\n",
       "      <th>extras</th>\n",
       "      <th>wides</th>\n",
       "      <th>noballs</th>\n",
       "      <th>byes</th>\n",
       "      <th>legbyes</th>\n",
       "      <th>wicket_type</th>\n",
       "      <th>player_dismissed</th>\n",
       "      <th>total_runs</th>\n",
       "    </tr>\n",
       "  </thead>\n",
       "  <tbody>\n",
       "    <tr>\n",
       "      <th>0</th>\n",
       "      <td>1359475</td>\n",
       "      <td>2023-03-31</td>\n",
       "      <td>Narendra Modi Stadium, Ahmedabad</td>\n",
       "      <td>1</td>\n",
       "      <td>0.1</td>\n",
       "      <td>Chennai Super Kings</td>\n",
       "      <td>Gujarat Titans</td>\n",
       "      <td>DP Conway</td>\n",
       "      <td>RD Gaikwad</td>\n",
       "      <td>Mohammed Shami</td>\n",
       "      <td>0</td>\n",
       "      <td>0</td>\n",
       "      <td>NaN</td>\n",
       "      <td>NaN</td>\n",
       "      <td>NaN</td>\n",
       "      <td>NaN</td>\n",
       "      <td>NaN</td>\n",
       "      <td>NaN</td>\n",
       "      <td>0</td>\n",
       "    </tr>\n",
       "    <tr>\n",
       "      <th>1</th>\n",
       "      <td>1359475</td>\n",
       "      <td>2023-03-31</td>\n",
       "      <td>Narendra Modi Stadium, Ahmedabad</td>\n",
       "      <td>1</td>\n",
       "      <td>0.2</td>\n",
       "      <td>Chennai Super Kings</td>\n",
       "      <td>Gujarat Titans</td>\n",
       "      <td>DP Conway</td>\n",
       "      <td>RD Gaikwad</td>\n",
       "      <td>Mohammed Shami</td>\n",
       "      <td>0</td>\n",
       "      <td>1</td>\n",
       "      <td>NaN</td>\n",
       "      <td>NaN</td>\n",
       "      <td>NaN</td>\n",
       "      <td>1.0</td>\n",
       "      <td>NaN</td>\n",
       "      <td>NaN</td>\n",
       "      <td>1</td>\n",
       "    </tr>\n",
       "    <tr>\n",
       "      <th>2</th>\n",
       "      <td>1359475</td>\n",
       "      <td>2023-03-31</td>\n",
       "      <td>Narendra Modi Stadium, Ahmedabad</td>\n",
       "      <td>1</td>\n",
       "      <td>0.3</td>\n",
       "      <td>Chennai Super Kings</td>\n",
       "      <td>Gujarat Titans</td>\n",
       "      <td>RD Gaikwad</td>\n",
       "      <td>DP Conway</td>\n",
       "      <td>Mohammed Shami</td>\n",
       "      <td>0</td>\n",
       "      <td>0</td>\n",
       "      <td>NaN</td>\n",
       "      <td>NaN</td>\n",
       "      <td>NaN</td>\n",
       "      <td>NaN</td>\n",
       "      <td>NaN</td>\n",
       "      <td>NaN</td>\n",
       "      <td>0</td>\n",
       "    </tr>\n",
       "    <tr>\n",
       "      <th>3</th>\n",
       "      <td>1359475</td>\n",
       "      <td>2023-03-31</td>\n",
       "      <td>Narendra Modi Stadium, Ahmedabad</td>\n",
       "      <td>1</td>\n",
       "      <td>0.4</td>\n",
       "      <td>Chennai Super Kings</td>\n",
       "      <td>Gujarat Titans</td>\n",
       "      <td>RD Gaikwad</td>\n",
       "      <td>DP Conway</td>\n",
       "      <td>Mohammed Shami</td>\n",
       "      <td>1</td>\n",
       "      <td>0</td>\n",
       "      <td>NaN</td>\n",
       "      <td>NaN</td>\n",
       "      <td>NaN</td>\n",
       "      <td>NaN</td>\n",
       "      <td>NaN</td>\n",
       "      <td>NaN</td>\n",
       "      <td>1</td>\n",
       "    </tr>\n",
       "    <tr>\n",
       "      <th>4</th>\n",
       "      <td>1359475</td>\n",
       "      <td>2023-03-31</td>\n",
       "      <td>Narendra Modi Stadium, Ahmedabad</td>\n",
       "      <td>1</td>\n",
       "      <td>0.5</td>\n",
       "      <td>Chennai Super Kings</td>\n",
       "      <td>Gujarat Titans</td>\n",
       "      <td>DP Conway</td>\n",
       "      <td>RD Gaikwad</td>\n",
       "      <td>Mohammed Shami</td>\n",
       "      <td>0</td>\n",
       "      <td>0</td>\n",
       "      <td>NaN</td>\n",
       "      <td>NaN</td>\n",
       "      <td>NaN</td>\n",
       "      <td>NaN</td>\n",
       "      <td>NaN</td>\n",
       "      <td>NaN</td>\n",
       "      <td>0</td>\n",
       "    </tr>\n",
       "  </tbody>\n",
       "</table>\n",
       "</div>"
      ],
      "text/plain": [
       "   match_id  start_date                             venue  innings  ball  \\\n",
       "0   1359475  2023-03-31  Narendra Modi Stadium, Ahmedabad        1   0.1   \n",
       "1   1359475  2023-03-31  Narendra Modi Stadium, Ahmedabad        1   0.2   \n",
       "2   1359475  2023-03-31  Narendra Modi Stadium, Ahmedabad        1   0.3   \n",
       "3   1359475  2023-03-31  Narendra Modi Stadium, Ahmedabad        1   0.4   \n",
       "4   1359475  2023-03-31  Narendra Modi Stadium, Ahmedabad        1   0.5   \n",
       "\n",
       "          batting_team    bowling_team     striker non_striker  \\\n",
       "0  Chennai Super Kings  Gujarat Titans   DP Conway  RD Gaikwad   \n",
       "1  Chennai Super Kings  Gujarat Titans   DP Conway  RD Gaikwad   \n",
       "2  Chennai Super Kings  Gujarat Titans  RD Gaikwad   DP Conway   \n",
       "3  Chennai Super Kings  Gujarat Titans  RD Gaikwad   DP Conway   \n",
       "4  Chennai Super Kings  Gujarat Titans   DP Conway  RD Gaikwad   \n",
       "\n",
       "           bowler  runs_off_bat  extras  wides  noballs  byes  legbyes  \\\n",
       "0  Mohammed Shami             0       0    NaN      NaN   NaN      NaN   \n",
       "1  Mohammed Shami             0       1    NaN      NaN   NaN      1.0   \n",
       "2  Mohammed Shami             0       0    NaN      NaN   NaN      NaN   \n",
       "3  Mohammed Shami             1       0    NaN      NaN   NaN      NaN   \n",
       "4  Mohammed Shami             0       0    NaN      NaN   NaN      NaN   \n",
       "\n",
       "  wicket_type player_dismissed  total_runs  \n",
       "0         NaN              NaN           0  \n",
       "1         NaN              NaN           1  \n",
       "2         NaN              NaN           0  \n",
       "3         NaN              NaN           1  \n",
       "4         NaN              NaN           0  "
      ]
     },
     "execution_count": 8,
     "metadata": {},
     "output_type": "execute_result"
    }
   ],
   "source": [
    "df.head()"
   ]
  },
  {
   "cell_type": "code",
   "execution_count": 9,
   "id": "efc22f30-e42e-4070-a0aa-8cac70bb614e",
   "metadata": {},
   "outputs": [],
   "source": [
    "bowler_wickets = df[\"wicket_type\"].value_counts().index\n",
    "bowler_wickets = ['caught', 'bowled', 'lbw', 'caught and bowled', 'stumped', 'hit wicket']"
   ]
  },
  {
   "cell_type": "code",
   "execution_count": 10,
   "id": "2f789335-de89-4559-a4a2-34f4057bfe36",
   "metadata": {},
   "outputs": [],
   "source": [
    "df[\"bowler_wicket\"] = list(map(lambda x : x if x in bowler_wickets else np.nan, df[\"wicket_type\"]))"
   ]
  },
  {
   "cell_type": "code",
   "execution_count": 11,
   "id": "8464b2e5-9bdf-48eb-a6b5-186cef67c1fb",
   "metadata": {},
   "outputs": [
    {
     "data": {
      "text/html": [
       "<div>\n",
       "<style scoped>\n",
       "    .dataframe tbody tr th:only-of-type {\n",
       "        vertical-align: middle;\n",
       "    }\n",
       "\n",
       "    .dataframe tbody tr th {\n",
       "        vertical-align: top;\n",
       "    }\n",
       "\n",
       "    .dataframe thead th {\n",
       "        text-align: right;\n",
       "    }\n",
       "</style>\n",
       "<table border=\"1\" class=\"dataframe\">\n",
       "  <thead>\n",
       "    <tr style=\"text-align: right;\">\n",
       "      <th></th>\n",
       "      <th>match_id</th>\n",
       "      <th>start_date</th>\n",
       "      <th>venue</th>\n",
       "      <th>innings</th>\n",
       "      <th>ball</th>\n",
       "      <th>batting_team</th>\n",
       "      <th>bowling_team</th>\n",
       "      <th>striker</th>\n",
       "      <th>non_striker</th>\n",
       "      <th>bowler</th>\n",
       "      <th>runs_off_bat</th>\n",
       "      <th>extras</th>\n",
       "      <th>wides</th>\n",
       "      <th>noballs</th>\n",
       "      <th>byes</th>\n",
       "      <th>legbyes</th>\n",
       "      <th>wicket_type</th>\n",
       "      <th>player_dismissed</th>\n",
       "      <th>total_runs</th>\n",
       "      <th>bowler_wicket</th>\n",
       "    </tr>\n",
       "  </thead>\n",
       "  <tbody>\n",
       "    <tr>\n",
       "      <th>0</th>\n",
       "      <td>1359475</td>\n",
       "      <td>2023-03-31</td>\n",
       "      <td>Narendra Modi Stadium, Ahmedabad</td>\n",
       "      <td>1</td>\n",
       "      <td>0.1</td>\n",
       "      <td>Chennai Super Kings</td>\n",
       "      <td>Gujarat Titans</td>\n",
       "      <td>DP Conway</td>\n",
       "      <td>RD Gaikwad</td>\n",
       "      <td>Mohammed Shami</td>\n",
       "      <td>0</td>\n",
       "      <td>0</td>\n",
       "      <td>NaN</td>\n",
       "      <td>NaN</td>\n",
       "      <td>NaN</td>\n",
       "      <td>NaN</td>\n",
       "      <td>NaN</td>\n",
       "      <td>NaN</td>\n",
       "      <td>0</td>\n",
       "      <td>NaN</td>\n",
       "    </tr>\n",
       "    <tr>\n",
       "      <th>1</th>\n",
       "      <td>1359475</td>\n",
       "      <td>2023-03-31</td>\n",
       "      <td>Narendra Modi Stadium, Ahmedabad</td>\n",
       "      <td>1</td>\n",
       "      <td>0.2</td>\n",
       "      <td>Chennai Super Kings</td>\n",
       "      <td>Gujarat Titans</td>\n",
       "      <td>DP Conway</td>\n",
       "      <td>RD Gaikwad</td>\n",
       "      <td>Mohammed Shami</td>\n",
       "      <td>0</td>\n",
       "      <td>1</td>\n",
       "      <td>NaN</td>\n",
       "      <td>NaN</td>\n",
       "      <td>NaN</td>\n",
       "      <td>1.0</td>\n",
       "      <td>NaN</td>\n",
       "      <td>NaN</td>\n",
       "      <td>1</td>\n",
       "      <td>NaN</td>\n",
       "    </tr>\n",
       "    <tr>\n",
       "      <th>2</th>\n",
       "      <td>1359475</td>\n",
       "      <td>2023-03-31</td>\n",
       "      <td>Narendra Modi Stadium, Ahmedabad</td>\n",
       "      <td>1</td>\n",
       "      <td>0.3</td>\n",
       "      <td>Chennai Super Kings</td>\n",
       "      <td>Gujarat Titans</td>\n",
       "      <td>RD Gaikwad</td>\n",
       "      <td>DP Conway</td>\n",
       "      <td>Mohammed Shami</td>\n",
       "      <td>0</td>\n",
       "      <td>0</td>\n",
       "      <td>NaN</td>\n",
       "      <td>NaN</td>\n",
       "      <td>NaN</td>\n",
       "      <td>NaN</td>\n",
       "      <td>NaN</td>\n",
       "      <td>NaN</td>\n",
       "      <td>0</td>\n",
       "      <td>NaN</td>\n",
       "    </tr>\n",
       "  </tbody>\n",
       "</table>\n",
       "</div>"
      ],
      "text/plain": [
       "   match_id  start_date                             venue  innings  ball  \\\n",
       "0   1359475  2023-03-31  Narendra Modi Stadium, Ahmedabad        1   0.1   \n",
       "1   1359475  2023-03-31  Narendra Modi Stadium, Ahmedabad        1   0.2   \n",
       "2   1359475  2023-03-31  Narendra Modi Stadium, Ahmedabad        1   0.3   \n",
       "\n",
       "          batting_team    bowling_team     striker non_striker  \\\n",
       "0  Chennai Super Kings  Gujarat Titans   DP Conway  RD Gaikwad   \n",
       "1  Chennai Super Kings  Gujarat Titans   DP Conway  RD Gaikwad   \n",
       "2  Chennai Super Kings  Gujarat Titans  RD Gaikwad   DP Conway   \n",
       "\n",
       "           bowler  runs_off_bat  extras  wides  noballs  byes  legbyes  \\\n",
       "0  Mohammed Shami             0       0    NaN      NaN   NaN      NaN   \n",
       "1  Mohammed Shami             0       1    NaN      NaN   NaN      1.0   \n",
       "2  Mohammed Shami             0       0    NaN      NaN   NaN      NaN   \n",
       "\n",
       "  wicket_type player_dismissed  total_runs bowler_wicket  \n",
       "0         NaN              NaN           0           NaN  \n",
       "1         NaN              NaN           1           NaN  \n",
       "2         NaN              NaN           0           NaN  "
      ]
     },
     "execution_count": 11,
     "metadata": {},
     "output_type": "execute_result"
    }
   ],
   "source": [
    "df.head(3)"
   ]
  },
  {
   "cell_type": "code",
   "execution_count": 12,
   "id": "f90d7560-c774-40c7-9cc0-aaa50c95cf0d",
   "metadata": {},
   "outputs": [
    {
     "data": {
      "text/plain": [
       "bowler_wicket\n",
       "caught               600\n",
       "bowled               145\n",
       "lbw                   65\n",
       "caught and bowled     26\n",
       "stumped               20\n",
       "hit wicket             1\n",
       "Name: count, dtype: int64"
      ]
     },
     "execution_count": 12,
     "metadata": {},
     "output_type": "execute_result"
    }
   ],
   "source": [
    "df[\"bowler_wicket\"].value_counts()"
   ]
  },
  {
   "cell_type": "code",
   "execution_count": 13,
   "id": "0455abc0-479f-4ce5-b7eb-20829ca88e3d",
   "metadata": {},
   "outputs": [
    {
     "data": {
      "text/plain": [
       "wicket_type\n",
       "caught               600\n",
       "bowled               145\n",
       "lbw                   65\n",
       "run out               55\n",
       "caught and bowled     26\n",
       "stumped               20\n",
       "retired hurt           2\n",
       "retired out            2\n",
       "hit wicket             1\n",
       "Name: count, dtype: int64"
      ]
     },
     "execution_count": 13,
     "metadata": {},
     "output_type": "execute_result"
    }
   ],
   "source": [
    "df[\"wicket_type\"].value_counts()"
   ]
  },
  {
   "cell_type": "code",
   "execution_count": 14,
   "id": "1e52ae73-52d1-44f6-a612-425012d78866",
   "metadata": {},
   "outputs": [
    {
     "data": {
      "text/html": [
       "<div>\n",
       "<style scoped>\n",
       "    .dataframe tbody tr th:only-of-type {\n",
       "        vertical-align: middle;\n",
       "    }\n",
       "\n",
       "    .dataframe tbody tr th {\n",
       "        vertical-align: top;\n",
       "    }\n",
       "\n",
       "    .dataframe thead th {\n",
       "        text-align: right;\n",
       "    }\n",
       "</style>\n",
       "<table border=\"1\" class=\"dataframe\">\n",
       "  <thead>\n",
       "    <tr style=\"text-align: right;\">\n",
       "      <th></th>\n",
       "      <th>match_id</th>\n",
       "      <th>start_date</th>\n",
       "      <th>venue</th>\n",
       "      <th>innings</th>\n",
       "      <th>ball</th>\n",
       "      <th>batting_team</th>\n",
       "      <th>bowling_team</th>\n",
       "      <th>striker</th>\n",
       "      <th>non_striker</th>\n",
       "      <th>bowler</th>\n",
       "      <th>runs_off_bat</th>\n",
       "      <th>extras</th>\n",
       "      <th>wides</th>\n",
       "      <th>noballs</th>\n",
       "      <th>byes</th>\n",
       "      <th>legbyes</th>\n",
       "      <th>wicket_type</th>\n",
       "      <th>player_dismissed</th>\n",
       "      <th>total_runs</th>\n",
       "      <th>bowler_wicket</th>\n",
       "    </tr>\n",
       "  </thead>\n",
       "  <tbody>\n",
       "    <tr>\n",
       "      <th>0</th>\n",
       "      <td>1359475</td>\n",
       "      <td>2023-03-31</td>\n",
       "      <td>Narendra Modi Stadium, Ahmedabad</td>\n",
       "      <td>1</td>\n",
       "      <td>0.1</td>\n",
       "      <td>Chennai Super Kings</td>\n",
       "      <td>Gujarat Titans</td>\n",
       "      <td>DP Conway</td>\n",
       "      <td>RD Gaikwad</td>\n",
       "      <td>Mohammed Shami</td>\n",
       "      <td>0</td>\n",
       "      <td>0</td>\n",
       "      <td>NaN</td>\n",
       "      <td>NaN</td>\n",
       "      <td>NaN</td>\n",
       "      <td>NaN</td>\n",
       "      <td>NaN</td>\n",
       "      <td>NaN</td>\n",
       "      <td>0</td>\n",
       "      <td>NaN</td>\n",
       "    </tr>\n",
       "    <tr>\n",
       "      <th>1</th>\n",
       "      <td>1359475</td>\n",
       "      <td>2023-03-31</td>\n",
       "      <td>Narendra Modi Stadium, Ahmedabad</td>\n",
       "      <td>1</td>\n",
       "      <td>0.2</td>\n",
       "      <td>Chennai Super Kings</td>\n",
       "      <td>Gujarat Titans</td>\n",
       "      <td>DP Conway</td>\n",
       "      <td>RD Gaikwad</td>\n",
       "      <td>Mohammed Shami</td>\n",
       "      <td>0</td>\n",
       "      <td>1</td>\n",
       "      <td>NaN</td>\n",
       "      <td>NaN</td>\n",
       "      <td>NaN</td>\n",
       "      <td>1.0</td>\n",
       "      <td>NaN</td>\n",
       "      <td>NaN</td>\n",
       "      <td>1</td>\n",
       "      <td>NaN</td>\n",
       "    </tr>\n",
       "  </tbody>\n",
       "</table>\n",
       "</div>"
      ],
      "text/plain": [
       "   match_id  start_date                             venue  innings  ball  \\\n",
       "0   1359475  2023-03-31  Narendra Modi Stadium, Ahmedabad        1   0.1   \n",
       "1   1359475  2023-03-31  Narendra Modi Stadium, Ahmedabad        1   0.2   \n",
       "\n",
       "          batting_team    bowling_team    striker non_striker          bowler  \\\n",
       "0  Chennai Super Kings  Gujarat Titans  DP Conway  RD Gaikwad  Mohammed Shami   \n",
       "1  Chennai Super Kings  Gujarat Titans  DP Conway  RD Gaikwad  Mohammed Shami   \n",
       "\n",
       "   runs_off_bat  extras  wides  noballs  byes  legbyes wicket_type  \\\n",
       "0             0       0    NaN      NaN   NaN      NaN         NaN   \n",
       "1             0       1    NaN      NaN   NaN      1.0         NaN   \n",
       "\n",
       "  player_dismissed  total_runs bowler_wicket  \n",
       "0              NaN           0           NaN  \n",
       "1              NaN           1           NaN  "
      ]
     },
     "execution_count": 14,
     "metadata": {},
     "output_type": "execute_result"
    }
   ],
   "source": [
    "df.head(2)"
   ]
  },
  {
   "cell_type": "code",
   "execution_count": 15,
   "id": "ecef6db8-0dc0-4ff3-b093-595c7336c586",
   "metadata": {},
   "outputs": [
    {
     "data": {
      "text/plain": [
       "'Shubman Gill'"
      ]
     },
     "execution_count": 15,
     "metadata": {},
     "output_type": "execute_result"
    }
   ],
   "source": [
    "orange_cap = df.groupby(\"striker\")[\"runs_off_bat\"].sum()\n",
    "orange_cap = orange_cap.sort_values(ascending=False)\n",
    "orange_cap = orange_cap.index[0]\n",
    "orange_cap"
   ]
  },
  {
   "cell_type": "code",
   "execution_count": 16,
   "id": "1964cba8-7248-426c-8581-fa98c5cb8e04",
   "metadata": {},
   "outputs": [
    {
     "data": {
      "text/plain": [
       "'Mohammed Shami'"
      ]
     },
     "execution_count": 16,
     "metadata": {},
     "output_type": "execute_result"
    }
   ],
   "source": [
    "purple_cap = pd.crosstab(df[\"bowler\"], df[\"bowler_wicket\"]).T\n",
    "purple_cap = purple_cap.sum().sort_values(ascending=False).index[0]\n",
    "purple_cap"
   ]
  },
  {
   "cell_type": "code",
   "execution_count": 17,
   "id": "dce767e4-373b-492d-8ca1-baa36587ee65",
   "metadata": {},
   "outputs": [
    {
     "data": {
      "text/html": [
       "<div>\n",
       "<style scoped>\n",
       "    .dataframe tbody tr th:only-of-type {\n",
       "        vertical-align: middle;\n",
       "    }\n",
       "\n",
       "    .dataframe tbody tr th {\n",
       "        vertical-align: top;\n",
       "    }\n",
       "\n",
       "    .dataframe thead th {\n",
       "        text-align: right;\n",
       "    }\n",
       "</style>\n",
       "<table border=\"1\" class=\"dataframe\">\n",
       "  <thead>\n",
       "    <tr style=\"text-align: right;\">\n",
       "      <th></th>\n",
       "      <th>match_id</th>\n",
       "      <th>striker</th>\n",
       "      <th>runs_off_bat</th>\n",
       "    </tr>\n",
       "  </thead>\n",
       "  <tbody>\n",
       "    <tr>\n",
       "      <th>0</th>\n",
       "      <td>1370352</td>\n",
       "      <td>Shubman Gill</td>\n",
       "      <td>129</td>\n",
       "    </tr>\n",
       "    <tr>\n",
       "      <th>1</th>\n",
       "      <td>1359516</td>\n",
       "      <td>YBK Jaiswal</td>\n",
       "      <td>124</td>\n",
       "    </tr>\n",
       "    <tr>\n",
       "      <th>2</th>\n",
       "      <td>1359496</td>\n",
       "      <td>VR Iyer</td>\n",
       "      <td>104</td>\n",
       "    </tr>\n",
       "    <tr>\n",
       "      <th>3</th>\n",
       "      <td>1359544</td>\n",
       "      <td>Shubman Gill</td>\n",
       "      <td>104</td>\n",
       "    </tr>\n",
       "    <tr>\n",
       "      <th>4</th>\n",
       "      <td>1359539</td>\n",
       "      <td>H Klaasen</td>\n",
       "      <td>104</td>\n",
       "    </tr>\n",
       "  </tbody>\n",
       "</table>\n",
       "</div>"
      ],
      "text/plain": [
       "   match_id       striker  runs_off_bat\n",
       "0   1370352  Shubman Gill           129\n",
       "1   1359516   YBK Jaiswal           124\n",
       "2   1359496       VR Iyer           104\n",
       "3   1359544  Shubman Gill           104\n",
       "4   1359539     H Klaasen           104"
      ]
     },
     "execution_count": 17,
     "metadata": {},
     "output_type": "execute_result"
    }
   ],
   "source": [
    "highest_score_in_one_match = df.groupby([\"match_id\",\"striker\"])[[\"runs_off_bat\"]].sum()\n",
    "highest_score_in_one_match = highest_score_in_one_match.sort_values(by=[\"runs_off_bat\"],ascending=False)\n",
    "highest_score_in_one_match.reset_index(inplace=True)\n",
    "highest_score_in_one_match.head()"
   ]
  },
  {
   "cell_type": "code",
   "execution_count": 18,
   "id": "1161b9e0-c4d9-43bd-80ed-ff4a8a5807bc",
   "metadata": {},
   "outputs": [],
   "source": [
    "wickets = ['caught', 'bowled', 'lbw', 'caught and bowled', 'stumped', 'hit wicket']"
   ]
  },
  {
   "cell_type": "code",
   "execution_count": 19,
   "id": "b00e733e-412e-4c67-ad2f-92623ce8c469",
   "metadata": {},
   "outputs": [],
   "source": [
    "df[\"total_bowler_wicket\"] = list(map(lambda x : 1 if x in wickets else np.nan, df[\"wicket_type\"]))"
   ]
  },
  {
   "cell_type": "code",
   "execution_count": 20,
   "id": "804493ff-0914-4c42-86a1-09fd8aaf077d",
   "metadata": {},
   "outputs": [
    {
     "data": {
      "text/html": [
       "<div>\n",
       "<style scoped>\n",
       "    .dataframe tbody tr th:only-of-type {\n",
       "        vertical-align: middle;\n",
       "    }\n",
       "\n",
       "    .dataframe tbody tr th {\n",
       "        vertical-align: top;\n",
       "    }\n",
       "\n",
       "    .dataframe thead th {\n",
       "        text-align: right;\n",
       "    }\n",
       "</style>\n",
       "<table border=\"1\" class=\"dataframe\">\n",
       "  <thead>\n",
       "    <tr style=\"text-align: right;\">\n",
       "      <th></th>\n",
       "      <th>match_id</th>\n",
       "      <th>bowler</th>\n",
       "      <th>runs_off_bat</th>\n",
       "      <th>total_bowler_wicket</th>\n",
       "    </tr>\n",
       "  </thead>\n",
       "  <tbody>\n",
       "    <tr>\n",
       "      <th>863</th>\n",
       "      <td>1370351</td>\n",
       "      <td>Akash Madhwal</td>\n",
       "      <td>5</td>\n",
       "      <td>5.0</td>\n",
       "    </tr>\n",
       "    <tr>\n",
       "      <th>882</th>\n",
       "      <td>1370352</td>\n",
       "      <td>MM Sharma</td>\n",
       "      <td>10</td>\n",
       "      <td>5.0</td>\n",
       "    </tr>\n",
       "    <tr>\n",
       "      <th>31</th>\n",
       "      <td>1359477</td>\n",
       "      <td>MA Wood</td>\n",
       "      <td>12</td>\n",
       "      <td>5.0</td>\n",
       "    </tr>\n",
       "    <tr>\n",
       "      <th>746</th>\n",
       "      <td>1359536</td>\n",
       "      <td>B Kumar</td>\n",
       "      <td>30</td>\n",
       "      <td>5.0</td>\n",
       "    </tr>\n",
       "    <tr>\n",
       "      <th>537</th>\n",
       "      <td>1359518</td>\n",
       "      <td>Mohammed Shami</td>\n",
       "      <td>11</td>\n",
       "      <td>4.0</td>\n",
       "    </tr>\n",
       "  </tbody>\n",
       "</table>\n",
       "</div>"
      ],
      "text/plain": [
       "     match_id          bowler  runs_off_bat  total_bowler_wicket\n",
       "863   1370351   Akash Madhwal             5                  5.0\n",
       "882   1370352       MM Sharma            10                  5.0\n",
       "31    1359477         MA Wood            12                  5.0\n",
       "746   1359536         B Kumar            30                  5.0\n",
       "537   1359518  Mohammed Shami            11                  4.0"
      ]
     },
     "execution_count": 20,
     "metadata": {},
     "output_type": "execute_result"
    }
   ],
   "source": [
    "best_bowling_figures = df.groupby([\"match_id\",\"bowler\"])[[\"runs_off_bat\",\"total_bowler_wicket\"]].sum()\n",
    "best_bowling_figures.reset_index(inplace=True)\n",
    "best_bowling_figures.sort_values([\"total_bowler_wicket\", \"runs_off_bat\"], ascending=[False, True], inplace=True)\n",
    "best_bowling_figures.head()"
   ]
  },
  {
   "cell_type": "code",
   "execution_count": 21,
   "id": "2a319a85-7146-4ab0-b780-00976142288b",
   "metadata": {},
   "outputs": [
    {
     "data": {
      "text/plain": [
       "striker\n",
       "Vivrant Sharma     69.000000\n",
       "Shubman Gill       52.352941\n",
       "F du Plessis       52.142857\n",
       "V Kohli            45.642857\n",
       "B Sai Sudharsan    45.250000\n",
       "Name: runs_off_bat, dtype: float64"
      ]
     },
     "execution_count": 21,
     "metadata": {},
     "output_type": "execute_result"
    }
   ],
   "source": [
    "best_batting_average = df.groupby([\"match_id\",\"striker\"])[[\"runs_off_bat\"]].sum()\n",
    "best_batting_average.reset_index(inplace=True)\n",
    "# total_matches = best_batting_average[\"striker\"].value_counts().sort_index()\n",
    "best_batting_average.groupby(\"striker\")[\"runs_off_bat\"].mean().sort_values(ascending=False).head()\n",
    "# total_runs = best_batting_average.groupby(\"striker\")[\"runs_off_bat\"].sum()"
   ]
  },
  {
   "cell_type": "code",
   "execution_count": 22,
   "id": "887c50ad-bf46-494b-aaaf-a0eaf731df78",
   "metadata": {},
   "outputs": [
    {
     "data": {
      "text/plain": [
       "33.857142857142854"
      ]
     },
     "execution_count": 22,
     "metadata": {},
     "output_type": "execute_result"
    }
   ],
   "source": [
    "df[df[\"striker\"]==\"RK Singh\"][\"runs_off_bat\"].sum()/len(df[df[\"striker\"]==\"RK Singh\"][\"match_id\"].unique())"
   ]
  },
  {
   "cell_type": "code",
   "execution_count": 23,
   "id": "a3caef0b-98ca-480a-8032-2979a5fc74d3",
   "metadata": {},
   "outputs": [
    {
     "data": {
      "text/plain": [
       "bowler\n",
       "MA Wood       11.272727\n",
       "MR Marsh      13.250000\n",
       "MM Sharma     13.259259\n",
       "T Stubbs      14.000000\n",
       "RJW Topley    14.000000\n",
       "dtype: float64"
      ]
     },
     "execution_count": 23,
     "metadata": {},
     "output_type": "execute_result"
    }
   ],
   "source": [
    "best_bowling_average = df.groupby([\"match_id\", \"bowler\"])[[\"runs_off_bat\", \"total_bowler_wicket\"]].sum().reset_index()\n",
    "best_bowling_average = best_bowling_average.groupby(\"bowler\")[\"runs_off_bat\"].sum()/best_bowling_average.groupby(\"bowler\")[\"total_bowler_wicket\"].sum()\n",
    "best_bowling_average.sort_values(ascending=True).head()"
   ]
  },
  {
   "cell_type": "code",
   "execution_count": 24,
   "id": "741becab-84e1-4a53-8c68-7a2416f1ea56",
   "metadata": {},
   "outputs": [
    {
     "data": {
      "text/html": [
       "<div>\n",
       "<style scoped>\n",
       "    .dataframe tbody tr th:only-of-type {\n",
       "        vertical-align: middle;\n",
       "    }\n",
       "\n",
       "    .dataframe tbody tr th {\n",
       "        vertical-align: top;\n",
       "    }\n",
       "\n",
       "    .dataframe thead th {\n",
       "        text-align: right;\n",
       "    }\n",
       "</style>\n",
       "<table border=\"1\" class=\"dataframe\">\n",
       "  <thead>\n",
       "    <tr style=\"text-align: right;\">\n",
       "      <th></th>\n",
       "      <th>match_id</th>\n",
       "      <th>start_date</th>\n",
       "      <th>venue</th>\n",
       "      <th>innings</th>\n",
       "      <th>ball</th>\n",
       "      <th>batting_team</th>\n",
       "      <th>bowling_team</th>\n",
       "      <th>striker</th>\n",
       "      <th>non_striker</th>\n",
       "      <th>bowler</th>\n",
       "      <th>...</th>\n",
       "      <th>extras</th>\n",
       "      <th>wides</th>\n",
       "      <th>noballs</th>\n",
       "      <th>byes</th>\n",
       "      <th>legbyes</th>\n",
       "      <th>wicket_type</th>\n",
       "      <th>player_dismissed</th>\n",
       "      <th>total_runs</th>\n",
       "      <th>bowler_wicket</th>\n",
       "      <th>total_bowler_wicket</th>\n",
       "    </tr>\n",
       "  </thead>\n",
       "  <tbody>\n",
       "    <tr>\n",
       "      <th>0</th>\n",
       "      <td>1359475</td>\n",
       "      <td>2023-03-31</td>\n",
       "      <td>Narendra Modi Stadium, Ahmedabad</td>\n",
       "      <td>1</td>\n",
       "      <td>0.1</td>\n",
       "      <td>Chennai Super Kings</td>\n",
       "      <td>Gujarat Titans</td>\n",
       "      <td>DP Conway</td>\n",
       "      <td>RD Gaikwad</td>\n",
       "      <td>Mohammed Shami</td>\n",
       "      <td>...</td>\n",
       "      <td>0</td>\n",
       "      <td>NaN</td>\n",
       "      <td>NaN</td>\n",
       "      <td>NaN</td>\n",
       "      <td>NaN</td>\n",
       "      <td>NaN</td>\n",
       "      <td>NaN</td>\n",
       "      <td>0</td>\n",
       "      <td>NaN</td>\n",
       "      <td>NaN</td>\n",
       "    </tr>\n",
       "    <tr>\n",
       "      <th>1</th>\n",
       "      <td>1359475</td>\n",
       "      <td>2023-03-31</td>\n",
       "      <td>Narendra Modi Stadium, Ahmedabad</td>\n",
       "      <td>1</td>\n",
       "      <td>0.2</td>\n",
       "      <td>Chennai Super Kings</td>\n",
       "      <td>Gujarat Titans</td>\n",
       "      <td>DP Conway</td>\n",
       "      <td>RD Gaikwad</td>\n",
       "      <td>Mohammed Shami</td>\n",
       "      <td>...</td>\n",
       "      <td>1</td>\n",
       "      <td>NaN</td>\n",
       "      <td>NaN</td>\n",
       "      <td>NaN</td>\n",
       "      <td>1.0</td>\n",
       "      <td>NaN</td>\n",
       "      <td>NaN</td>\n",
       "      <td>1</td>\n",
       "      <td>NaN</td>\n",
       "      <td>NaN</td>\n",
       "    </tr>\n",
       "  </tbody>\n",
       "</table>\n",
       "<p>2 rows × 21 columns</p>\n",
       "</div>"
      ],
      "text/plain": [
       "   match_id  start_date                             venue  innings  ball  \\\n",
       "0   1359475  2023-03-31  Narendra Modi Stadium, Ahmedabad        1   0.1   \n",
       "1   1359475  2023-03-31  Narendra Modi Stadium, Ahmedabad        1   0.2   \n",
       "\n",
       "          batting_team    bowling_team    striker non_striker          bowler  \\\n",
       "0  Chennai Super Kings  Gujarat Titans  DP Conway  RD Gaikwad  Mohammed Shami   \n",
       "1  Chennai Super Kings  Gujarat Titans  DP Conway  RD Gaikwad  Mohammed Shami   \n",
       "\n",
       "   ...  extras  wides  noballs  byes  legbyes  wicket_type player_dismissed  \\\n",
       "0  ...       0    NaN      NaN   NaN      NaN          NaN              NaN   \n",
       "1  ...       1    NaN      NaN   NaN      1.0          NaN              NaN   \n",
       "\n",
       "  total_runs  bowler_wicket total_bowler_wicket  \n",
       "0          0            NaN                 NaN  \n",
       "1          1            NaN                 NaN  \n",
       "\n",
       "[2 rows x 21 columns]"
      ]
     },
     "execution_count": 24,
     "metadata": {},
     "output_type": "execute_result"
    }
   ],
   "source": [
    "df.head(2)"
   ]
  },
  {
   "cell_type": "code",
   "execution_count": 25,
   "id": "eaf64722-5bb6-4a39-929b-58751bb235f7",
   "metadata": {},
   "outputs": [],
   "source": [
    "# df.sort_values([\"match_id\", \"bowler\", \"ball\"])[\"total_bowler_wicket\"] --- Find Hattrick"
   ]
  },
  {
   "cell_type": "code",
   "execution_count": 26,
   "id": "3a4e56da-18e6-4ff9-bc40-5c18b4fe3a22",
   "metadata": {},
   "outputs": [
    {
     "data": {
      "text/plain": [
       "striker\n",
       "Shubman Gill      3\n",
       "V Kohli           2\n",
       "HC Brook          1\n",
       "VR Iyer           1\n",
       "YBK Jaiswal       1\n",
       "SA Yadav          1\n",
       "P Simran Singh    1\n",
       "H Klaasen         1\n",
       "C Green           1\n",
       "Name: count, dtype: int64"
      ]
     },
     "execution_count": 26,
     "metadata": {},
     "output_type": "execute_result"
    }
   ],
   "source": [
    "a = df.groupby([\"match_id\",\"striker\"])[[\"runs_off_bat\"]].sum().reset_index()\n",
    "most_hundred = a[a[\"runs_off_bat\"]>=100][\"striker\"].value_counts()\n",
    "most_hundred"
   ]
  },
  {
   "cell_type": "code",
   "execution_count": 27,
   "id": "686b2aca-d39d-44f9-9e04-d480728e0eb4",
   "metadata": {},
   "outputs": [
    {
     "data": {
      "text/plain": [
       "striker\n",
       "F du Plessis    8\n",
       "V Kohli         6\n",
       "DA Warner       6\n",
       "DP Conway       6\n",
       "GJ Maxwell      5\n",
       "Name: count, dtype: int64"
      ]
     },
     "execution_count": 27,
     "metadata": {},
     "output_type": "execute_result"
    }
   ],
   "source": [
    "a = df.groupby([\"match_id\",\"striker\"])[[\"runs_off_bat\"]].sum().reset_index()\n",
    "most_fifties = a[(a[\"runs_off_bat\"]>=50)&(a[\"runs_off_bat\"]<100)][\"striker\"].value_counts()\n",
    "most_fifties.head()"
   ]
  },
  {
   "cell_type": "code",
   "execution_count": 28,
   "id": "bc1529b9-2d4e-4e83-b0d2-ee6875c2f59c",
   "metadata": {},
   "outputs": [
    {
     "data": {
      "text/plain": [
       "bowler\n",
       "AS Joseph          8.250000\n",
       "DL Chahar          7.250000\n",
       "HH Pandya          9.333333\n",
       "J Little          10.250000\n",
       "MJ Santner         8.000000\n",
       "Mohammed Shami     6.720000\n",
       "RA Jadeja          7.000000\n",
       "RS Hangargekar     6.857143\n",
       "Rashid Khan        6.500000\n",
       "TU Deshpande      13.363636\n",
       "Yash Dayal        14.000000\n",
       "dtype: float64"
      ]
     },
     "execution_count": 28,
     "metadata": {},
     "output_type": "execute_result"
    }
   ],
   "source": [
    "x = df[df[\"match_id\"]==1359475]\n",
    "x.groupby(\"bowler\")[\"runs_off_bat\"].sum()/(x[\"bowler\"].value_counts()/6)"
   ]
  },
  {
   "cell_type": "code",
   "execution_count": 29,
   "id": "97cd45fe-d390-4330-84d1-065e890d5d43",
   "metadata": {},
   "outputs": [
    {
     "data": {
      "text/plain": [
       "bowler\n",
       "A Badoni       0.000000\n",
       "MW Short       6.000000\n",
       "Tilak Varma    6.000000\n",
       "P Dubey        6.000000\n",
       "D Pretorius    6.214286\n",
       "R Tewatia      6.428571\n",
       "J Yadav        6.500000\n",
       "GD Phillips    6.666667\n",
       "DJ Willey      6.765957\n",
       "MJ Santner     6.833333\n",
       "dtype: float64"
      ]
     },
     "execution_count": 29,
     "metadata": {},
     "output_type": "execute_result"
    }
   ],
   "source": [
    "dummy = df.groupby(\"bowler\")[\"total_runs\"].sum()/(df[\"bowler\"].value_counts()/(6)).sort_index()\n",
    "dummy.sort_values().head(10)"
   ]
  },
  {
   "cell_type": "code",
   "execution_count": 30,
   "id": "aa9f43ca-cb2f-4193-932a-3fea9862478c",
   "metadata": {},
   "outputs": [
    {
     "data": {
      "text/plain": [
       "match_id  bowler       \n",
       "1359536   B Kumar          5.0\n",
       "1370352   MM Sharma        5.0\n",
       "1359477   MA Wood          5.0\n",
       "1370351   Akash Madhwal    5.0\n",
       "Name: total_bowler_wicket, dtype: float64"
      ]
     },
     "execution_count": 30,
     "metadata": {},
     "output_type": "execute_result"
    }
   ],
   "source": [
    "df.groupby([\"match_id\", \"bowler\"])[\"total_bowler_wicket\"].sum().sort_values(ascending=False).head(4)"
   ]
  },
  {
   "cell_type": "code",
   "execution_count": 31,
   "id": "5f858233-a57e-46df-a8af-97fa0a3c05af",
   "metadata": {},
   "outputs": [
    {
     "data": {
      "text/plain": [
       "striker\n",
       "F du Plessis    36\n",
       "S Dube          35\n",
       "Shubman Gill    33\n",
       "GJ Maxwell      31\n",
       "RD Gaikwad      30\n",
       "RK Singh        29\n",
       "Name: count, dtype: int64"
      ]
     },
     "execution_count": 31,
     "metadata": {},
     "output_type": "execute_result"
    }
   ],
   "source": [
    "sixes = df[df[\"runs_off_bat\"]==6][\"striker\"].value_counts().head(6)\n",
    "sixes"
   ]
  },
  {
   "cell_type": "code",
   "execution_count": 32,
   "id": "f175eeff-6d4e-46ed-8565-330ee2766927",
   "metadata": {},
   "outputs": [
    {
     "data": {
      "text/plain": [
       "striker\n",
       "Shubman Gill    85\n",
       "YBK Jaiswal     83\n",
       "DP Conway       77\n",
       "DA Warner       69\n",
       "V Kohli         65\n",
       "SA Yadav        65\n",
       "Name: count, dtype: int64"
      ]
     },
     "execution_count": 32,
     "metadata": {},
     "output_type": "execute_result"
    }
   ],
   "source": [
    "fours = df[df[\"runs_off_bat\"]==4][\"striker\"].value_counts().head(6)\n",
    "fours"
   ]
  },
  {
   "cell_type": "code",
   "execution_count": 33,
   "id": "95d87aa2-3728-41c4-8c31-0ce9f9aa5c78",
   "metadata": {},
   "outputs": [
    {
     "data": {
      "text/plain": [
       "striker\n",
       "Shubman Gill    118.0\n",
       "YBK Jaiswal     109.0\n",
       "F du Plessis     96.0\n",
       "DP Conway        95.0\n",
       "SA Yadav         93.0\n",
       "Name: count, dtype: float64"
      ]
     },
     "execution_count": 33,
     "metadata": {},
     "output_type": "execute_result"
    }
   ],
   "source": [
    "most_boundries = (df[df[\"runs_off_bat\"]==6][\"striker\"].value_counts().sort_index()+df[df[\"runs_off_bat\"]==4][\"striker\"].value_counts().sort_index()).sort_values(ascending=False)\n",
    "most_boundries.head()"
   ]
  },
  {
   "cell_type": "code",
   "execution_count": null,
   "id": "e1e3b480-bb97-4599-8ee5-d398e0fdd8f4",
   "metadata": {},
   "outputs": [],
   "source": []
  }
 ],
 "metadata": {
  "kernelspec": {
   "display_name": "Python 3 (ipykernel)",
   "language": "python",
   "name": "python3"
  },
  "language_info": {
   "codemirror_mode": {
    "name": "ipython",
    "version": 3
   },
   "file_extension": ".py",
   "mimetype": "text/x-python",
   "name": "python",
   "nbconvert_exporter": "python",
   "pygments_lexer": "ipython3",
   "version": "3.11.7"
  },
  "widgets": {
   "application/vnd.jupyter.widget-state+json": {
    "state": {},
    "version_major": 2,
    "version_minor": 0
   }
  }
 },
 "nbformat": 4,
 "nbformat_minor": 5
}
