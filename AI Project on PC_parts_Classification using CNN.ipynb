{
 "cells": [
  {
   "cell_type": "code",
   "execution_count": 1,
   "id": "c2b63a1a-046a-4a1a-b74b-06eb2c17fe5a",
   "metadata": {},
   "outputs": [
    {
     "name": "stdout",
     "output_type": "stream",
     "text": [
      "WARNING:tensorflow:From C:\\Users\\dell\\AppData\\Local\\Programs\\Python\\Python311\\Lib\\site-packages\\keras\\src\\losses.py:2976: The name tf.losses.sparse_softmax_cross_entropy is deprecated. Please use tf.compat.v1.losses.sparse_softmax_cross_entropy instead.\n",
      "\n"
     ]
    }
   ],
   "source": [
    "#Importing Libraries\n",
    "import numpy as np\n",
    "import tensorflow as tf\n",
    "from tensorflow.keras.models import Sequential   #used as linear stack of layers used for building deep learning models.\n",
    "from tensorflow.keras.layers import Conv2D, MaxPool2D, Dense, Flatten, Dropout   #different layers for convolutional, pooling, fully connected, regularization\n",
    "from tensorflow.keras.preprocessing.image import ImageDataGenerator  #used for real-time data augmentation during model training.\n",
    "import warnings\n",
    "warnings.filterwarnings(\"ignore\")"
   ]
  },
  {
   "cell_type": "code",
   "execution_count": 2,
   "id": "32e510eb-4728-427e-a8dd-f4efbed81aa7",
   "metadata": {},
   "outputs": [],
   "source": [
    "train_dir = r\"C:\\Users\\dell\\3RI\\PC-Parts_Dataset\\pc_parts\"  #Importing dataset"
   ]
  },
  {
   "cell_type": "code",
   "execution_count": 3,
   "id": "1f439d4e-8bf7-495d-891e-67c7cbcf5909",
   "metadata": {},
   "outputs": [
    {
     "data": {
      "text/plain": [
       "43"
      ]
     },
     "execution_count": 3,
     "metadata": {},
     "output_type": "execute_result"
    }
   ],
   "source": [
    "len(train_dir)  #Calculating length"
   ]
  },
  {
   "cell_type": "code",
   "execution_count": 4,
   "id": "c364a1c4-ca97-4e56-9b6a-906a3adafac1",
   "metadata": {},
   "outputs": [],
   "source": [
    "train_generator = ImageDataGenerator(\n",
    "    rescale = 1.0/255,   # Rescale pixel values to the range [0,1]\n",
    "    rotation_range = 20, # Randomly rotate images by 20 degrees\n",
    "    width_shift_range = 0.2,   # Randomly shift images vertically by 20% of the width\n",
    "    height_shift_range = 0.2,   # Randomly shift images vertically by 20% of the height\n",
    "    horizontal_flip = True,   # Randomly flip images horizontally\n",
    "    shear_range = 0.2,   #Shear intensity (shear angle in radians)\n",
    "    zoom_range = 0.2,   # Randomly zoom images by 20%\n",
    "    validation_split = 0.2    #use of 20% of the data for validation\n",
    ")"
   ]
  },
  {
   "cell_type": "code",
   "execution_count": 5,
   "id": "f625f9b1-8063-48ff-a896-c4e6fb5c9975",
   "metadata": {},
   "outputs": [],
   "source": [
    "width, height = 256, 256\n",
    "batch_size = 32"
   ]
  },
  {
   "cell_type": "code",
   "execution_count": 6,
   "id": "49048439-e2fb-47e0-b6e6-2e9c2b53f0da",
   "metadata": {},
   "outputs": [
    {
     "name": "stdout",
     "output_type": "stream",
     "text": [
      "Found 2629 images belonging to 14 classes.\n"
     ]
    }
   ],
   "source": [
    "X_train = train_generator.flow_from_directory(\n",
    "    train_dir,   # Directory containing the training images\n",
    "    target_size = (width, height),  # Size to resize the images to\n",
    "    batch_size = batch_size,   # Number of images per batch\n",
    "    class_mode = 'categorical',   # Mode for classifying labels (categorical for multi-class)\n",
    "    subset = 'training'  # Subset of data to use ('training' for training set)\n",
    ")"
   ]
  },
  {
   "cell_type": "code",
   "execution_count": 7,
   "id": "e3aec4ca-b596-42f8-a7f3-d19f4d65e910",
   "metadata": {},
   "outputs": [
    {
     "name": "stdout",
     "output_type": "stream",
     "text": [
      "Found 650 images belonging to 14 classes.\n"
     ]
    }
   ],
   "source": [
    "X_test = train_generator.flow_from_directory(\n",
    "    train_dir,\n",
    "    target_size = (width, height),\n",
    "    batch_size = batch_size,\n",
    "    class_mode = 'categorical',\n",
    "    subset = 'validation'\n",
    ")"
   ]
  },
  {
   "cell_type": "code",
   "execution_count": 8,
   "id": "e3a63fed-f7d7-42ac-b834-4c0b8b1e80f8",
   "metadata": {},
   "outputs": [
    {
     "name": "stdout",
     "output_type": "stream",
     "text": [
      "WARNING:tensorflow:From C:\\Users\\dell\\AppData\\Local\\Programs\\Python\\Python311\\Lib\\site-packages\\keras\\src\\backend.py:873: The name tf.get_default_graph is deprecated. Please use tf.compat.v1.get_default_graph instead.\n",
      "\n",
      "WARNING:tensorflow:From C:\\Users\\dell\\AppData\\Local\\Programs\\Python\\Python311\\Lib\\site-packages\\keras\\src\\layers\\pooling\\max_pooling2d.py:161: The name tf.nn.max_pool is deprecated. Please use tf.nn.max_pool2d instead.\n",
      "\n"
     ]
    }
   ],
   "source": [
    "model = Sequential([\n",
    "    Conv2D(32, (3,3), activation=\"relu\", input_shape = (width, height, 3)),  # 32 filters, each 3x3, ReLU activation\n",
    "    MaxPool2D((2, 2)),  # Max pooling with 2x2 pool size\n",
    "    Conv2D(64, (3,3), activation=\"relu\"),  # 64 filters, each 3x3, ReLU activation\n",
    "    MaxPool2D((2, 2)),\n",
    "    Conv2D(128, (3,3), activation=\"relu\"), # 128 filters, each 3x3, ReLU activation\n",
    "    MaxPool2D((2, 2)),\n",
    "    Conv2D(128, (3,3), activation=\"relu\"), # 128 filters, each 3x3, ReLU activation\n",
    "    MaxPool2D((2, 2)),\n",
    "    Flatten(),   # Flatten the output to feed to Dense layers\n",
    "    Dense(256, activation=\"relu\"),   # Fully connected layer with 256 neurons, ReLU activation\n",
    "    Dense(128, activation=\"relu\"),   # Fully connected layer with 128 neurons, ReLU activation\n",
    "    Dense(14, activation=\"softmax\")  # Output layer with 14 neurons for classification, softmax activation\n",
    "])"
   ]
  },
  {
   "cell_type": "code",
   "execution_count": 9,
   "id": "56eea689-af8e-49dd-b05c-9c942a1cee43",
   "metadata": {},
   "outputs": [],
   "source": [
    "#from tensorflow.keras.optimizers import Adam"
   ]
  },
  {
   "cell_type": "code",
   "execution_count": 10,
   "id": "7aab5602-9a8b-4cab-8738-d81d43ee1ab2",
   "metadata": {},
   "outputs": [
    {
     "name": "stdout",
     "output_type": "stream",
     "text": [
      "WARNING:tensorflow:From C:\\Users\\dell\\AppData\\Local\\Programs\\Python\\Python311\\Lib\\site-packages\\keras\\src\\optimizers\\__init__.py:309: The name tf.train.Optimizer is deprecated. Please use tf.compat.v1.train.Optimizer instead.\n",
      "\n"
     ]
    }
   ],
   "source": [
    "model.compile(optimizer=\"adam\", loss=\"categorical_crossentropy\", metrics=['accuracy'])\n",
    "# Optimizer to use for training (Adam optimizer), Loss function to minimize (categorical crossentropy), Metrics to monitor during training (accuracy)"
   ]
  },
  {
   "cell_type": "code",
   "execution_count": 11,
   "id": "a3f06700-39cd-455d-a6d2-cbb5dd62ad92",
   "metadata": {
    "scrolled": true
   },
   "outputs": [
    {
     "name": "stdout",
     "output_type": "stream",
     "text": [
      "Epoch 1/50\n",
      "WARNING:tensorflow:From C:\\Users\\dell\\AppData\\Local\\Programs\\Python\\Python311\\Lib\\site-packages\\keras\\src\\utils\\tf_utils.py:492: The name tf.ragged.RaggedTensorValue is deprecated. Please use tf.compat.v1.ragged.RaggedTensorValue instead.\n",
      "\n",
      "WARNING:tensorflow:From C:\\Users\\dell\\AppData\\Local\\Programs\\Python\\Python311\\Lib\\site-packages\\keras\\src\\engine\\base_layer_utils.py:384: The name tf.executing_eagerly_outside_functions is deprecated. Please use tf.compat.v1.executing_eagerly_outside_functions instead.\n",
      "\n",
      "83/83 [==============================] - 97s 1s/step - loss: 2.6275 - accuracy: 0.0894 - val_loss: 2.6271 - val_accuracy: 0.0892\n",
      "Epoch 2/50\n",
      "83/83 [==============================] - 93s 1s/step - loss: 2.6145 - accuracy: 0.1023 - val_loss: 2.5798 - val_accuracy: 0.0831\n",
      "Epoch 3/50\n",
      "83/83 [==============================] - 105s 1s/step - loss: 2.5353 - accuracy: 0.1320 - val_loss: 2.6399 - val_accuracy: 0.1246\n",
      "Epoch 4/50\n",
      "83/83 [==============================] - 94s 1s/step - loss: 2.4555 - accuracy: 0.1560 - val_loss: 2.3673 - val_accuracy: 0.1831\n",
      "Epoch 5/50\n",
      "83/83 [==============================] - 91s 1s/step - loss: 2.3885 - accuracy: 0.1959 - val_loss: 2.3124 - val_accuracy: 0.2246\n",
      "Epoch 6/50\n",
      "83/83 [==============================] - 95s 1s/step - loss: 2.2759 - accuracy: 0.2309 - val_loss: 2.3226 - val_accuracy: 0.2431\n",
      "Epoch 7/50\n",
      "83/83 [==============================] - 98s 1s/step - loss: 2.1956 - accuracy: 0.2689 - val_loss: 2.3009 - val_accuracy: 0.2431\n",
      "Epoch 8/50\n",
      "83/83 [==============================] - 93s 1s/step - loss: 2.1771 - accuracy: 0.2750 - val_loss: 2.1601 - val_accuracy: 0.2908\n",
      "Epoch 9/50\n",
      "83/83 [==============================] - 92s 1s/step - loss: 2.1149 - accuracy: 0.2978 - val_loss: 2.0948 - val_accuracy: 0.3215\n",
      "Epoch 10/50\n",
      "83/83 [==============================] - 91s 1s/step - loss: 2.0586 - accuracy: 0.3130 - val_loss: 2.1117 - val_accuracy: 0.2815\n",
      "Epoch 11/50\n",
      "83/83 [==============================] - 92s 1s/step - loss: 2.0541 - accuracy: 0.3267 - val_loss: 2.1257 - val_accuracy: 0.3000\n",
      "Epoch 12/50\n",
      "83/83 [==============================] - 94s 1s/step - loss: 1.9684 - accuracy: 0.3488 - val_loss: 2.0520 - val_accuracy: 0.3262\n",
      "Epoch 13/50\n",
      "83/83 [==============================] - 94s 1s/step - loss: 1.9338 - accuracy: 0.3716 - val_loss: 2.0492 - val_accuracy: 0.3477\n",
      "Epoch 14/50\n",
      "83/83 [==============================] - 99s 1s/step - loss: 1.8974 - accuracy: 0.3910 - val_loss: 2.0192 - val_accuracy: 0.3338\n",
      "Epoch 15/50\n",
      "83/83 [==============================] - 92s 1s/step - loss: 1.8840 - accuracy: 0.3849 - val_loss: 1.9743 - val_accuracy: 0.3815\n",
      "Epoch 16/50\n",
      "83/83 [==============================] - 92s 1s/step - loss: 1.8224 - accuracy: 0.4074 - val_loss: 1.9975 - val_accuracy: 0.3615\n",
      "Epoch 17/50\n",
      "83/83 [==============================] - 92s 1s/step - loss: 1.8126 - accuracy: 0.4112 - val_loss: 1.9601 - val_accuracy: 0.3646\n",
      "Epoch 18/50\n",
      "83/83 [==============================] - 92s 1s/step - loss: 1.7808 - accuracy: 0.4138 - val_loss: 1.9124 - val_accuracy: 0.3738\n",
      "Epoch 19/50\n",
      "83/83 [==============================] - 93s 1s/step - loss: 1.7259 - accuracy: 0.4492 - val_loss: 1.8500 - val_accuracy: 0.4062\n",
      "Epoch 20/50\n",
      "83/83 [==============================] - 92s 1s/step - loss: 1.7119 - accuracy: 0.4488 - val_loss: 1.8808 - val_accuracy: 0.4000\n",
      "Epoch 21/50\n",
      "83/83 [==============================] - 94s 1s/step - loss: 1.6687 - accuracy: 0.4686 - val_loss: 1.8512 - val_accuracy: 0.4046\n",
      "Epoch 22/50\n",
      "83/83 [==============================] - 93s 1s/step - loss: 1.6357 - accuracy: 0.4743 - val_loss: 1.9776 - val_accuracy: 0.3692\n",
      "Epoch 23/50\n",
      "83/83 [==============================] - 93s 1s/step - loss: 1.6813 - accuracy: 0.4576 - val_loss: 1.9244 - val_accuracy: 0.3800\n",
      "Epoch 24/50\n",
      "83/83 [==============================] - 92s 1s/step - loss: 1.6422 - accuracy: 0.4671 - val_loss: 1.8243 - val_accuracy: 0.4508\n",
      "Epoch 25/50\n",
      "83/83 [==============================] - 92s 1s/step - loss: 1.5695 - accuracy: 0.4979 - val_loss: 1.8611 - val_accuracy: 0.4092\n",
      "Epoch 26/50\n",
      "83/83 [==============================] - 92s 1s/step - loss: 1.5735 - accuracy: 0.4911 - val_loss: 1.7970 - val_accuracy: 0.4338\n",
      "Epoch 27/50\n",
      "83/83 [==============================] - 92s 1s/step - loss: 1.5441 - accuracy: 0.4975 - val_loss: 1.7238 - val_accuracy: 0.4508\n",
      "Epoch 28/50\n",
      "83/83 [==============================] - 92s 1s/step - loss: 1.4899 - accuracy: 0.5162 - val_loss: 1.7921 - val_accuracy: 0.4385\n",
      "Epoch 29/50\n",
      "83/83 [==============================] - 91s 1s/step - loss: 1.4841 - accuracy: 0.5116 - val_loss: 1.7970 - val_accuracy: 0.4262\n",
      "Epoch 30/50\n",
      "83/83 [==============================] - 91s 1s/step - loss: 1.4639 - accuracy: 0.5257 - val_loss: 1.8216 - val_accuracy: 0.4477\n",
      "Epoch 31/50\n",
      "83/83 [==============================] - 92s 1s/step - loss: 1.4052 - accuracy: 0.5523 - val_loss: 1.7804 - val_accuracy: 0.4615\n",
      "Epoch 32/50\n",
      "83/83 [==============================] - 93s 1s/step - loss: 1.4174 - accuracy: 0.5553 - val_loss: 1.7435 - val_accuracy: 0.4462\n",
      "Epoch 33/50\n",
      "83/83 [==============================] - 92s 1s/step - loss: 1.3898 - accuracy: 0.5481 - val_loss: 1.7607 - val_accuracy: 0.4508\n",
      "Epoch 34/50\n",
      "83/83 [==============================] - 92s 1s/step - loss: 1.3932 - accuracy: 0.5401 - val_loss: 1.8761 - val_accuracy: 0.4492\n",
      "Epoch 35/50\n",
      "83/83 [==============================] - 92s 1s/step - loss: 1.3562 - accuracy: 0.5557 - val_loss: 1.9310 - val_accuracy: 0.4385\n",
      "Epoch 36/50\n",
      "83/83 [==============================] - 92s 1s/step - loss: 1.3561 - accuracy: 0.5607 - val_loss: 1.7854 - val_accuracy: 0.4523\n",
      "Epoch 37/50\n",
      "83/83 [==============================] - 91s 1s/step - loss: 1.3437 - accuracy: 0.5728 - val_loss: 1.7771 - val_accuracy: 0.4662\n",
      "Epoch 38/50\n",
      "83/83 [==============================] - 92s 1s/step - loss: 1.3067 - accuracy: 0.5850 - val_loss: 1.8968 - val_accuracy: 0.4277\n",
      "Epoch 39/50\n",
      "83/83 [==============================] - 92s 1s/step - loss: 1.3298 - accuracy: 0.5698 - val_loss: 1.7302 - val_accuracy: 0.4785\n",
      "Epoch 40/50\n",
      "83/83 [==============================] - 97s 1s/step - loss: 1.2925 - accuracy: 0.5793 - val_loss: 1.8085 - val_accuracy: 0.4477\n",
      "Epoch 41/50\n",
      "83/83 [==============================] - 92s 1s/step - loss: 1.2955 - accuracy: 0.5759 - val_loss: 1.8120 - val_accuracy: 0.4538\n",
      "Epoch 42/50\n",
      "83/83 [==============================] - 94s 1s/step - loss: 1.2990 - accuracy: 0.5736 - val_loss: 1.7856 - val_accuracy: 0.4754\n",
      "Epoch 43/50\n",
      "83/83 [==============================] - 93s 1s/step - loss: 1.2419 - accuracy: 0.6029 - val_loss: 1.7438 - val_accuracy: 0.5000\n",
      "Epoch 44/50\n",
      "83/83 [==============================] - 93s 1s/step - loss: 1.2178 - accuracy: 0.6037 - val_loss: 1.8182 - val_accuracy: 0.4538\n",
      "Epoch 45/50\n",
      "83/83 [==============================] - 93s 1s/step - loss: 1.2144 - accuracy: 0.5991 - val_loss: 1.9146 - val_accuracy: 0.4554\n",
      "Epoch 46/50\n",
      "83/83 [==============================] - 93s 1s/step - loss: 1.2246 - accuracy: 0.6094 - val_loss: 1.7616 - val_accuracy: 0.4615\n",
      "Epoch 47/50\n",
      "83/83 [==============================] - 3113s 38s/step - loss: 1.1988 - accuracy: 0.6044 - val_loss: 1.7455 - val_accuracy: 0.4708\n",
      "Epoch 48/50\n",
      "83/83 [==============================] - 91s 1s/step - loss: 1.1461 - accuracy: 0.6242 - val_loss: 1.7997 - val_accuracy: 0.4892\n",
      "Epoch 49/50\n",
      "83/83 [==============================] - 84s 1s/step - loss: 1.1388 - accuracy: 0.6257 - val_loss: 1.8961 - val_accuracy: 0.4462\n",
      "Epoch 50/50\n",
      "83/83 [==============================] - 87s 1s/step - loss: 1.1211 - accuracy: 0.6326 - val_loss: 1.8350 - val_accuracy: 0.4585\n"
     ]
    }
   ],
   "source": [
    "history = model.fit(X_train, epochs=50, batch_size=batch_size, validation_data=X_test)   # Number of epochs (iterations over the entire training dataset"
   ]
  },
  {
   "cell_type": "code",
   "execution_count": 12,
   "id": "4e1f3dfa-6f05-43b5-840b-97e2ddc54d26",
   "metadata": {},
   "outputs": [],
   "source": [
    "import matplotlib.pyplot as plt"
   ]
  },
  {
   "cell_type": "code",
   "execution_count": 13,
   "id": "f39e897c-24c7-4d40-b2c1-515f923282ed",
   "metadata": {},
   "outputs": [
    {
     "data": {
      "image/png": "[encoded data removed]",
      "text/plain": [
       "<Figure size 640x480 with 1 Axes>"
      ]
     },
     "metadata": {},
     "output_type": "display_data"
    }
   ],
   "source": [
    "#Data visualization for accuracy\n",
    "plt.plot(history.history[\"accuracy\"], label=\"training_accuracy\")\n",
    "plt.plot(history.history[\"val_accuracy\"], label=\"validation_accuracy\")\n",
    "plt.xlabel(\"Epochs\")\n",
    "plt.ylabel(\"Accuracy\")\n",
    "plt.title(\"Training vs Validation Accuracy\")\n",
    "plt.legend()\n",
    "plt.show()"
   ]
  },
  {
   "cell_type": "code",
   "execution_count": 23,
   "id": "2031034f-2678-4a50-aed5-842c4056c8cf",
   "metadata": {},
   "outputs": [
    {
     "data": {
      "image/png": "[encoded data removed]",
      "text/plain": [
       "<Figure size 640x480 with 1 Axes>"
      ]
     },
     "metadata": {},
     "output_type": "display_data"
    }
   ],
   "source": [
    "#Data visualization for loss\n",
    "plt.plot(history.history[\"loss\"], label=\"training_loss\")\n",
    "plt.plot(history.history[\"val_loss\"], label=\"validation_loss\")\n",
    "plt.xlabel(\"Epochs\")\n",
    "plt.ylabel(\"Loss\")\n",
    "plt.title(\"Training vs Validation Loss\")\n",
    "plt.legend()\n",
    "plt.show()"
   ]
  },
  {
   "cell_type": "code",
   "execution_count": 80,
   "id": "921e527f-46c1-4c8c-964c-6f7b6e72f6e2",
   "metadata": {},
   "outputs": [
    {
     "name": "stdout",
     "output_type": "stream",
     "text": [
      "PC_parts class names are:- {0: 'cables', 1: 'case', 2: 'cpu', 3: 'gpu', 4: 'hdd', 5: 'headset', 6: 'keyboard', 7: 'microphone', 8: 'monitor', 9: 'motherboard', 10: 'mouse', 11: 'ram', 12: 'speakers', 13: 'webcam'}\n"
     ]
    }
   ],
   "source": [
    "#Obtaining the class indices from test generator and mapping numeric class indices to class names\n",
    "class_names = X_test.class_indices\n",
    "classes = {value:key for key, value in class_names.items()}\n",
    "print(\"PC_parts class names are:-\", classes)"
   ]
  },
  {
   "cell_type": "code",
   "execution_count": 92,
   "id": "63077b5c-e371-4458-bff0-9158b36104c8",
   "metadata": {},
   "outputs": [],
   "source": [
    "from tensorflow.keras.preprocessing import image  # provides utilities for working with images, such as loading, preprocessing, and augmenting images."
   ]
  },
  {
   "cell_type": "code",
   "execution_count": 93,
   "id": "f1dc8b2a-fd73-488e-b67c-845dc7757013",
   "metadata": {},
   "outputs": [],
   "source": [
    "path = r\"C:\\Users\\dell\\3RI\\PC-Parts_Dataset\\pc_parts\\motherboard\\12.jpg\"  #Importing image path for image prediction"
   ]
  },
  {
   "cell_type": "code",
   "execution_count": 94,
   "id": "ea8897d3-731e-4853-9361-09e15ffd8410",
   "metadata": {},
   "outputs": [],
   "source": [
    "#Loading and normalizing the image\n",
    "Image = image.load_img(path, target_size=(width, height))\n",
    "image_arr = image.img_to_array(Image)\n",
    "image_arr = np.expand_dims(image_arr, axis=0)\n",
    "image_arr = image_arr/255"
   ]
  },
  {
   "cell_type": "code",
   "execution_count": 95,
   "id": "1fefeb14-27a4-4406-af4d-ffd4aca00b91",
   "metadata": {},
   "outputs": [
    {
     "name": "stdout",
     "output_type": "stream",
     "text": [
      "1/1 [==============================] - 0s 53ms/step\n"
     ]
    }
   ],
   "source": [
    "predict = model.predict(image_arr)  #prediction"
   ]
  },
  {
   "cell_type": "code",
   "execution_count": 96,
   "id": "22843bd6-2e83-4329-90b0-9661c54e0abb",
   "metadata": {},
   "outputs": [
    {
     "data": {
      "text/plain": [
       "9"
      ]
     },
     "execution_count": 96,
     "metadata": {},
     "output_type": "execute_result"
    }
   ],
   "source": [
    "predicted_class = np.argmax(predict)\n",
    "predicted_class"
   ]
  },
  {
   "cell_type": "code",
   "execution_count": 97,
   "id": "7cfddabb-6159-4602-90ee-ac2e6d922a0a",
   "metadata": {},
   "outputs": [
    {
     "name": "stdout",
     "output_type": "stream",
     "text": [
      "The predicted class of the PC_parts image is:- motherboard\n"
     ]
    }
   ],
   "source": [
    "print(\"The predicted class of the PC_parts image is:-\", classes[predicted_class])  #Printing the class"
   ]
  },
  {
   "cell_type": "code",
   "execution_count": 108,
   "id": "a403c563-e0f3-4d71-ae91-e02d60c1a855",
   "metadata": {},
   "outputs": [],
   "source": [
    "path1 = r\"C:\\Users\\dell\\3RI\\PC-Parts_Dataset\\pc_parts\\webcam\\1.jpg\""
   ]
  },
  {
   "cell_type": "code",
   "execution_count": 109,
   "id": "47947d3e-ef28-435d-a0c9-ec8f95bbb47b",
   "metadata": {},
   "outputs": [],
   "source": [
    "Image = image.load_img(path1, target_size=(width, height))\n",
    "image_arr = image.img_to_array(Image)\n",
    "image_arr = np.expand_dims(image_arr, axis=0)\n",
    "image_arr = image_arr/255"
   ]
  },
  {
   "cell_type": "code",
   "execution_count": 110,
   "id": "caa02277-bc4b-4221-911d-c9161faef3ad",
   "metadata": {},
   "outputs": [
    {
     "name": "stdout",
     "output_type": "stream",
     "text": [
      "1/1 [==============================] - 0s 49ms/step\n"
     ]
    }
   ],
   "source": [
    "predict1 = model.predict(image_arr)"
   ]
  },
  {
   "cell_type": "code",
   "execution_count": 111,
   "id": "59b2ebd7-830c-48ff-ad3e-26418496ef14",
   "metadata": {},
   "outputs": [
    {
     "data": {
      "text/plain": [
       "13"
      ]
     },
     "execution_count": 111,
     "metadata": {},
     "output_type": "execute_result"
    }
   ],
   "source": [
    "predicted_class = np.argmax(predict1)\n",
    "predicted_class"
   ]
  },
  {
   "cell_type": "code",
   "execution_count": 112,
   "id": "57ea2813-8fd5-4b52-b50c-2b34a4145e7b",
   "metadata": {},
   "outputs": [
    {
     "name": "stdout",
     "output_type": "stream",
     "text": [
      "The predicted class of the PC_parts image is:- webcam\n"
     ]
    }
   ],
   "source": [
    "print(\"The predicted class of the PC_parts image is:-\", classes[predicted_class])"
   ]
  },
  {
   "cell_type": "code",
   "execution_count": 113,
   "id": "baf5f124-99fe-4b41-84b7-4029a11f992d",
   "metadata": {},
   "outputs": [],
   "source": [
    "path2 = r\"C:\\Users\\dell\\3RI\\PC-Parts_Dataset\\pc_parts\\monitor\\8.jpg\""
   ]
  },
  {
   "cell_type": "code",
   "execution_count": 114,
   "id": "27fb4c0d-530a-45fc-9a64-2ba985c0bad1",
   "metadata": {},
   "outputs": [],
   "source": [
    "Image = image.load_img(path2, target_size=(width, height))\n",
    "image_arr = image.img_to_array(Image)\n",
    "image_arr = np.expand_dims(image_arr, axis=0)\n",
    "image_arr = image_arr/255"
   ]
  },
  {
   "cell_type": "code",
   "execution_count": 116,
   "id": "5d392124-55a5-42d7-9051-809b9b06dba1",
   "metadata": {},
   "outputs": [
    {
     "name": "stdout",
     "output_type": "stream",
     "text": [
      "1/1 [==============================] - 0s 44ms/step\n"
     ]
    }
   ],
   "source": [
    "predict2 = model.predict(image_arr)"
   ]
  },
  {
   "cell_type": "code",
   "execution_count": 117,
   "id": "12dbe0e6-9a8b-4712-a387-4c041dc6cc8d",
   "metadata": {},
   "outputs": [
    {
     "data": {
      "text/plain": [
       "8"
      ]
     },
     "execution_count": 117,
     "metadata": {},
     "output_type": "execute_result"
    }
   ],
   "source": [
    "predicted_class = np.argmax(predict2)\n",
    "predicted_class"
   ]
  },
  {
   "cell_type": "code",
   "execution_count": 118,
   "id": "dbf859b2-af82-4efa-b56f-6b021985bf5a",
   "metadata": {},
   "outputs": [
    {
     "name": "stdout",
     "output_type": "stream",
     "text": [
      "The predicted class of the PC_parts image is:- monitor\n"
     ]
    }
   ],
   "source": [
    "print(\"The predicted class of the PC_parts image is:-\", classes[predicted_class])"
   ]
  },
  {
   "cell_type": "markdown",
   "id": "6a457878-9a55-4a2c-a354-2a5c743ca92a",
   "metadata": {},
   "source": [
    "Model Summary:\n",
    "\n",
    "Hence, We have visualized, predicted the PC parts images classification using\n",
    "Convolutional Neural Network using ReLu and softmax activation for output"
   ]
  }
 ],
 "metadata": {
  "kernelspec": {
   "display_name": "Python 3 (ipykernel)",
   "language": "python",
   "name": "python3"
  },
  "language_info": {
   "codemirror_mode": {
    "name": "ipython",
    "version": 3
   },
   "file_extension": ".py",
   "mimetype": "text/x-python",
   "name": "python",
   "nbconvert_exporter": "python",
   "pygments_lexer": "ipython3",
   "version": "3.11.4"
  }
 },
 "nbformat": 4,
 "nbformat_minor": 5
}
